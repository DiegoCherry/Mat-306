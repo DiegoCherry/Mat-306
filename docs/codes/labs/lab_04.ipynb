{
  "cells": [
    {
      "cell_type": "markdown",
      "id": "64fe4451",
      "metadata": {
        "id": "64fe4451"
      },
      "source": [
        "<a href=\"https://colab.research.google.com/github/fralfaro/MAT306/blob/main/docs/labs/lab_04.ipynb\" target=\"_parent\"><img src=\"https://colab.research.google.com/assets/colab-badge.svg\" alt=\"Open In Colab\"/></a>\n",
        "\n",
        "# MAT306 - Laboratorio N°04\n"
      ]
    },
    {
      "cell_type": "markdown",
      "id": "27b10378",
      "metadata": {
        "id": "27b10378"
      },
      "source": [
        "**Objetivo**: Aplicar técnicas intermedias y avanzadas de análisis de datos con pandas utilizando un caso real: el Índice de Libertad de Prensa. Este laboratorio incluye operaciones de limpieza, transformación, combinación de datos, y análisis exploratorio usando `merge`, `groupby`, `concat` y otras funciones fundamentales.\n"
      ]
    },
    {
      "cell_type": "markdown",
      "id": "63a15921",
      "metadata": {
        "id": "63a15921"
      },
      "source": [
        "\n",
        "\n",
        "**Descripción del Dataset**\n",
        "\n",
        "El presente conjunto de datos está orientado al análisis del **Índice de Libertad de Prensa**, una métrica internacional que evalúa el nivel de libertad del que gozan periodistas y medios de comunicación en distintos países. Este índice es recopilado anualmente por la organización **Reporteros sin Fronteras**.\n",
        "\n",
        "La base de datos contempla observaciones por país y año, e incluye tanto el valor del índice como el ranking correspondiente. A menor puntaje en el índice, mayor nivel de libertad de prensa.\n",
        "\n",
        "**Diccionario de variables**\n",
        "\n",
        "| Variable     | Clase    | Descripción                                                                          |\n",
        "| ------------ | -------- | ------------------------------------------------------------------------------------ |\n",
        "| `codigo_iso` | carácter | Código ISO 3166-1 alfa-3 que representa a cada país.                                 |\n",
        "| `pais`       | carácter | Nombre oficial del país.                                                             |\n",
        "| `anio`       | entero   | Año en que se registró la medición del índice.                                       |\n",
        "| `indice`     | numérico | Valor numérico del Índice de Libertad de Prensa (menor valor indica mayor libertad). |\n",
        "| `ranking`    | entero   | Posición relativa del país en el ranking mundial de libertad de prensa.              |\n",
        "\n",
        "\n",
        "**Fuente original y adaptación pedagógica**\n",
        "\n",
        "* **Fuente original**: [Reporteros sin Fronteras](https://www.rsf-es.org/), recopilado y publicado a través del portal del [Banco Mundial](https://tcdata360.worldbank.org/indicators/h3f86901f?country=BRA&indicator=32416&viz=line_chart&years=2001,2019).\n",
        "* **Adaptación educativa**: Los archivos han sido modificados intencionalmente para incorporar desafíos técnicos que permiten aplicar los contenidos abordados en clases, tales como limpieza de datos, normalización, detección de duplicados, y combinación de fuentes.\n",
        "\n",
        "\n",
        "**Descripción de los archivos disponibles**\n",
        "\n",
        "* **`libertad_prensa_codigo.csv`**: Contiene los pares `codigo_iso` y `pais`. Incluye intencionalmente un código ISO con dos nombres distintos de país para efectos de limpieza y validación de datos.\n",
        "\n",
        "* **`libertad_prensa_01.csv`**: Contiene registros de los años **anteriores a 2010**. Incluye las variables `PAIS`, `ANIO`, `INDICE`, y `RANKING` con nombres de columna en **mayúsculas**.\n",
        "\n",
        "* **`libertad_prensa_02.csv`**: Contiene registros de los años **desde 2010 en adelante**. Estructura similar al archivo anterior, con nombres de columna también en **mayúsculas**.\n",
        "\n",
        "\n",
        "\n"
      ]
    },
    {
      "cell_type": "code",
      "execution_count": 1,
      "id": "28a58320",
      "metadata": {
        "id": "28a58320"
      },
      "outputs": [],
      "source": [
        "import numpy as np\n",
        "import pandas as pd\n",
        "\n",
        "# lectura de datos\n",
        "archivos_anio = [\n",
        "    'https://raw.githubusercontent.com/fralfaro/MAT306/main/docs/labs/data/libertad_prensa_01.csv',\n",
        "    'https://raw.githubusercontent.com/fralfaro/MAT306/main/docs/labs/data/libertad_prensa_02.csv'\n",
        " ]\n",
        "df_codigos = pd.read_csv('https://raw.githubusercontent.com/fralfaro/MAT306/main/docs/labs/data/libertad_prensa_codigo.csv')"
      ]
    },
    {
      "cell_type": "markdown",
      "id": "0894056d",
      "metadata": {
        "id": "0894056d"
      },
      "source": [
        "\n",
        "\n",
        "### 1. Consolidación y limpieza de datos\n",
        "\n",
        "A partir de los archivos disponibles, realice los siguientes pasos:\n",
        "\n",
        "**a)** Cree un DataFrame llamado `df_anio` que consolide la información proveniente de los archivos **`libertad_prensa_01.csv`** y **`libertad_prensa_02.csv`**, correspondientes a distintas ventanas de tiempo. Recuerde que ambos archivos tienen nombres de columnas en mayúscula, por lo que debe normalizarlas a **minúscula** para asegurar consistencia.\n",
        "\n",
        "**b)** Explore el archivo **`libertad_prensa_codigo.csv`** e identifique el código ISO que aparece asociado a dos nombres de país distintos. Elimine el registro que corresponda a un valor incorrecto o inconsistente, conservando solo el que considere válido.\n",
        "\n",
        "**c)** Una vez preparados los archivos, cree un nuevo DataFrame llamado `df` que combine `df_anio` con `df_codigos`, utilizando la columna `codigo_iso` como clave. Asegúrese de realizar una unión que conserve únicamente los registros que tengan coincidencia en ambas fuentes.\n",
        "\n",
        "> **Sugerencia**:\n",
        ">\n",
        "> * Para unir los archivos por filas (años), utilice la función `pd.concat([...])`.\n",
        "> * Para combinar información por columnas (variables), utilice `pd.merge(...)` especificando `on='codigo_iso'`.\n",
        "\n"
      ]
    },
    {
      "cell_type": "code",
      "execution_count": 7,
      "id": "e68d96bd",
      "metadata": {},
      "outputs": [
        {
          "data": {
            "application/vnd.microsoft.datawrangler.viewer.v0+json": {
              "columns": [
                {
                  "name": "index",
                  "rawType": "int64",
                  "type": "integer"
                },
                {
                  "name": "codigo_iso",
                  "rawType": "object",
                  "type": "string"
                },
                {
                  "name": "anio",
                  "rawType": "int64",
                  "type": "integer"
                },
                {
                  "name": "indice",
                  "rawType": "float64",
                  "type": "float"
                },
                {
                  "name": "ranking",
                  "rawType": "float64",
                  "type": "float"
                }
              ],
              "ref": "5a5d4ba5-0e3b-450a-aecd-f60c87486847",
              "rows": [
                [
                  "0",
                  "AFG",
                  "2001",
                  "35.5",
                  "59.0"
                ],
                [
                  "1",
                  "AGO",
                  "2001",
                  "30.2",
                  "50.0"
                ],
                [
                  "2",
                  "ALB",
                  "2001",
                  null,
                  null
                ],
                [
                  "3",
                  "AND",
                  "2001",
                  null,
                  null
                ],
                [
                  "4",
                  "ARE",
                  "2001",
                  null,
                  null
                ],
                [
                  "5",
                  "ARG",
                  "2001",
                  "12.0",
                  "8.0"
                ],
                [
                  "6",
                  "ARM",
                  "2001",
                  null,
                  null
                ],
                [
                  "7",
                  "ATG",
                  "2001",
                  null,
                  null
                ],
                [
                  "8",
                  "AUS",
                  "2001",
                  "3.5",
                  "48.0"
                ],
                [
                  "9",
                  "AUT",
                  "2001",
                  "7.5",
                  "86.0"
                ],
                [
                  "10",
                  "AZE",
                  "2001",
                  "34.5",
                  "57.0"
                ],
                [
                  "11",
                  "BDI",
                  "2001",
                  "24.5",
                  "32.0"
                ],
                [
                  "12",
                  "BEL",
                  "2001",
                  "3.5",
                  "48.0"
                ],
                [
                  "13",
                  "BEN",
                  "2001",
                  "6.0",
                  "80.0"
                ],
                [
                  "14",
                  "BFA",
                  "2001",
                  "27.8",
                  "42.0"
                ],
                [
                  "15",
                  "BGD",
                  "2001",
                  "43.8",
                  "72.0"
                ],
                [
                  "16",
                  "BGR",
                  "2001",
                  "9.8",
                  "98.0"
                ],
                [
                  "17",
                  "BHR",
                  "2001",
                  "23.0",
                  "28.0"
                ],
                [
                  "18",
                  "BIH",
                  "2001",
                  "12.5",
                  "9.0"
                ],
                [
                  "19",
                  "BLR",
                  "2001",
                  "52.2",
                  "79.0"
                ],
                [
                  "20",
                  "BLZ",
                  "2001",
                  null,
                  null
                ],
                [
                  "21",
                  "BOL",
                  "2001",
                  "14.5",
                  "13.0"
                ],
                [
                  "22",
                  "BRA",
                  "2001",
                  "18.8",
                  "18.0"
                ],
                [
                  "23",
                  "BRN",
                  "2001",
                  null,
                  null
                ],
                [
                  "24",
                  "BTN",
                  "2001",
                  "90.8",
                  "100.0"
                ],
                [
                  "25",
                  "BWA",
                  "2001",
                  null,
                  null
                ],
                [
                  "26",
                  "CAF",
                  "2001",
                  "21.5",
                  "25.0"
                ],
                [
                  "27",
                  "CAN",
                  "2001",
                  "0.8",
                  "2.0"
                ],
                [
                  "28",
                  "CHE",
                  "2001",
                  "4.3",
                  "65.0"
                ],
                [
                  "29",
                  "CHL",
                  "2001",
                  "6.5",
                  "81.0"
                ],
                [
                  "30",
                  "CHN",
                  "2001",
                  "97.0",
                  "103.0"
                ],
                [
                  "31",
                  "CIV",
                  "2001",
                  "19.0",
                  "19.0"
                ],
                [
                  "32",
                  "CMR",
                  "2001",
                  "28.8",
                  "44.0"
                ],
                [
                  "33",
                  "COD",
                  "2001",
                  null,
                  null
                ],
                [
                  "34",
                  "COG",
                  "2001",
                  "23.2",
                  "29.0"
                ],
                [
                  "35",
                  "COL",
                  "2001",
                  "40.8",
                  "68.0"
                ],
                [
                  "36",
                  "COM",
                  "2001",
                  "20.5",
                  "22.0"
                ],
                [
                  "37",
                  "CPV",
                  "2001",
                  "13.8",
                  "11.0"
                ],
                [
                  "38",
                  "CRI",
                  "2001",
                  "4.3",
                  "65.0"
                ],
                [
                  "39",
                  "CUB",
                  "2001",
                  "90.3",
                  "99.0"
                ],
                [
                  "40",
                  "CYP",
                  "2001",
                  null,
                  null
                ],
                [
                  "41",
                  "CZE",
                  "2001",
                  "11.3",
                  "7.0"
                ],
                [
                  "42",
                  "DEU",
                  "2001",
                  "1.5",
                  "4.0"
                ],
                [
                  "43",
                  "DJI",
                  "2001",
                  "31.3",
                  "53.0"
                ],
                [
                  "44",
                  "DNK",
                  "2001",
                  "3.0",
                  "46.0"
                ],
                [
                  "45",
                  "DOM",
                  "2001",
                  null,
                  null
                ],
                [
                  "46",
                  "DZA",
                  "2001",
                  "31.0",
                  "52.0"
                ],
                [
                  "47",
                  "ECU",
                  "2001",
                  "5.5",
                  "78.0"
                ],
                [
                  "48",
                  "EGY",
                  "2001",
                  "34.5",
                  "57.0"
                ],
                [
                  "49",
                  "ERI",
                  "2001",
                  "83.7",
                  "94.0"
                ]
              ],
              "shape": {
                "columns": 4,
                "rows": 1620
              }
            },
            "text/html": [
              "<div>\n",
              "<style scoped>\n",
              "    .dataframe tbody tr th:only-of-type {\n",
              "        vertical-align: middle;\n",
              "    }\n",
              "\n",
              "    .dataframe tbody tr th {\n",
              "        vertical-align: top;\n",
              "    }\n",
              "\n",
              "    .dataframe thead th {\n",
              "        text-align: right;\n",
              "    }\n",
              "</style>\n",
              "<table border=\"1\" class=\"dataframe\">\n",
              "  <thead>\n",
              "    <tr style=\"text-align: right;\">\n",
              "      <th></th>\n",
              "      <th>codigo_iso</th>\n",
              "      <th>anio</th>\n",
              "      <th>indice</th>\n",
              "      <th>ranking</th>\n",
              "    </tr>\n",
              "  </thead>\n",
              "  <tbody>\n",
              "    <tr>\n",
              "      <th>0</th>\n",
              "      <td>AFG</td>\n",
              "      <td>2001</td>\n",
              "      <td>35.50</td>\n",
              "      <td>59.0</td>\n",
              "    </tr>\n",
              "    <tr>\n",
              "      <th>1</th>\n",
              "      <td>AGO</td>\n",
              "      <td>2001</td>\n",
              "      <td>30.20</td>\n",
              "      <td>50.0</td>\n",
              "    </tr>\n",
              "    <tr>\n",
              "      <th>2</th>\n",
              "      <td>ALB</td>\n",
              "      <td>2001</td>\n",
              "      <td>NaN</td>\n",
              "      <td>NaN</td>\n",
              "    </tr>\n",
              "    <tr>\n",
              "      <th>3</th>\n",
              "      <td>AND</td>\n",
              "      <td>2001</td>\n",
              "      <td>NaN</td>\n",
              "      <td>NaN</td>\n",
              "    </tr>\n",
              "    <tr>\n",
              "      <th>4</th>\n",
              "      <td>ARE</td>\n",
              "      <td>2001</td>\n",
              "      <td>NaN</td>\n",
              "      <td>NaN</td>\n",
              "    </tr>\n",
              "    <tr>\n",
              "      <th>...</th>\n",
              "      <td>...</td>\n",
              "      <td>...</td>\n",
              "      <td>...</td>\n",
              "      <td>...</td>\n",
              "    </tr>\n",
              "    <tr>\n",
              "      <th>1615</th>\n",
              "      <td>WSM</td>\n",
              "      <td>2009</td>\n",
              "      <td>33.00</td>\n",
              "      <td>69.0</td>\n",
              "    </tr>\n",
              "    <tr>\n",
              "      <th>1616</th>\n",
              "      <td>YEM</td>\n",
              "      <td>2009</td>\n",
              "      <td>82.13</td>\n",
              "      <td>137.0</td>\n",
              "    </tr>\n",
              "    <tr>\n",
              "      <th>1617</th>\n",
              "      <td>ZAF</td>\n",
              "      <td>2009</td>\n",
              "      <td>12.00</td>\n",
              "      <td>10.0</td>\n",
              "    </tr>\n",
              "    <tr>\n",
              "      <th>1618</th>\n",
              "      <td>ZMB</td>\n",
              "      <td>2009</td>\n",
              "      <td>22.00</td>\n",
              "      <td>47.0</td>\n",
              "    </tr>\n",
              "    <tr>\n",
              "      <th>1619</th>\n",
              "      <td>ZWE</td>\n",
              "      <td>2009</td>\n",
              "      <td>39.50</td>\n",
              "      <td>81.0</td>\n",
              "    </tr>\n",
              "  </tbody>\n",
              "</table>\n",
              "<p>1620 rows × 4 columns</p>\n",
              "</div>"
            ],
            "text/plain": [
              "     codigo_iso  anio  indice  ranking\n",
              "0           AFG  2001   35.50     59.0\n",
              "1           AGO  2001   30.20     50.0\n",
              "2           ALB  2001     NaN      NaN\n",
              "3           AND  2001     NaN      NaN\n",
              "4           ARE  2001     NaN      NaN\n",
              "...         ...   ...     ...      ...\n",
              "1615        WSM  2009   33.00     69.0\n",
              "1616        YEM  2009   82.13    137.0\n",
              "1617        ZAF  2009   12.00     10.0\n",
              "1618        ZMB  2009   22.00     47.0\n",
              "1619        ZWE  2009   39.50     81.0\n",
              "\n",
              "[1620 rows x 4 columns]"
            ]
          },
          "execution_count": 7,
          "metadata": {},
          "output_type": "execute_result"
        }
      ],
      "source": [
        "temp = pd.read_csv(archivos_anio[0])\n",
        "temp.columns = temp.columns.str.lower()\n",
        "temp"
      ]
    },
    {
      "cell_type": "code",
      "execution_count": null,
      "id": "cfd268a0",
      "metadata": {
        "id": "cfd268a0"
      },
      "outputs": [
        {
          "data": {
            "application/vnd.microsoft.datawrangler.viewer.v0+json": {
              "columns": [
                {
                  "name": "index",
                  "rawType": "int64",
                  "type": "integer"
                },
                {
                  "name": "codigo_iso",
                  "rawType": "object",
                  "type": "string"
                },
                {
                  "name": "anio",
                  "rawType": "int64",
                  "type": "integer"
                },
                {
                  "name": "indice",
                  "rawType": "float64",
                  "type": "float"
                },
                {
                  "name": "ranking",
                  "rawType": "float64",
                  "type": "float"
                }
              ],
              "ref": "b1248be9-59c4-4712-8a72-cb5c054e95d9",
              "rows": [
                [
                  "0",
                  "AFG",
                  "2001",
                  "35.5",
                  "59.0"
                ],
                [
                  "1",
                  "AGO",
                  "2001",
                  "30.2",
                  "50.0"
                ],
                [
                  "2",
                  "ALB",
                  "2001",
                  null,
                  null
                ],
                [
                  "3",
                  "AND",
                  "2001",
                  null,
                  null
                ],
                [
                  "4",
                  "ARE",
                  "2001",
                  null,
                  null
                ],
                [
                  "5",
                  "ARG",
                  "2001",
                  "12.0",
                  "8.0"
                ],
                [
                  "6",
                  "ARM",
                  "2001",
                  null,
                  null
                ],
                [
                  "7",
                  "ATG",
                  "2001",
                  null,
                  null
                ],
                [
                  "8",
                  "AUS",
                  "2001",
                  "3.5",
                  "48.0"
                ],
                [
                  "9",
                  "AUT",
                  "2001",
                  "7.5",
                  "86.0"
                ],
                [
                  "10",
                  "AZE",
                  "2001",
                  "34.5",
                  "57.0"
                ],
                [
                  "11",
                  "BDI",
                  "2001",
                  "24.5",
                  "32.0"
                ],
                [
                  "12",
                  "BEL",
                  "2001",
                  "3.5",
                  "48.0"
                ],
                [
                  "13",
                  "BEN",
                  "2001",
                  "6.0",
                  "80.0"
                ],
                [
                  "14",
                  "BFA",
                  "2001",
                  "27.8",
                  "42.0"
                ],
                [
                  "15",
                  "BGD",
                  "2001",
                  "43.8",
                  "72.0"
                ],
                [
                  "16",
                  "BGR",
                  "2001",
                  "9.8",
                  "98.0"
                ],
                [
                  "17",
                  "BHR",
                  "2001",
                  "23.0",
                  "28.0"
                ],
                [
                  "18",
                  "BIH",
                  "2001",
                  "12.5",
                  "9.0"
                ],
                [
                  "19",
                  "BLR",
                  "2001",
                  "52.2",
                  "79.0"
                ],
                [
                  "20",
                  "BLZ",
                  "2001",
                  null,
                  null
                ],
                [
                  "21",
                  "BOL",
                  "2001",
                  "14.5",
                  "13.0"
                ],
                [
                  "22",
                  "BRA",
                  "2001",
                  "18.8",
                  "18.0"
                ],
                [
                  "23",
                  "BRN",
                  "2001",
                  null,
                  null
                ],
                [
                  "24",
                  "BTN",
                  "2001",
                  "90.8",
                  "100.0"
                ],
                [
                  "25",
                  "BWA",
                  "2001",
                  null,
                  null
                ],
                [
                  "26",
                  "CAF",
                  "2001",
                  "21.5",
                  "25.0"
                ],
                [
                  "27",
                  "CAN",
                  "2001",
                  "0.8",
                  "2.0"
                ],
                [
                  "28",
                  "CHE",
                  "2001",
                  "4.3",
                  "65.0"
                ],
                [
                  "29",
                  "CHL",
                  "2001",
                  "6.5",
                  "81.0"
                ],
                [
                  "30",
                  "CHN",
                  "2001",
                  "97.0",
                  "103.0"
                ],
                [
                  "31",
                  "CIV",
                  "2001",
                  "19.0",
                  "19.0"
                ],
                [
                  "32",
                  "CMR",
                  "2001",
                  "28.8",
                  "44.0"
                ],
                [
                  "33",
                  "COD",
                  "2001",
                  null,
                  null
                ],
                [
                  "34",
                  "COG",
                  "2001",
                  "23.2",
                  "29.0"
                ],
                [
                  "35",
                  "COL",
                  "2001",
                  "40.8",
                  "68.0"
                ],
                [
                  "36",
                  "COM",
                  "2001",
                  "20.5",
                  "22.0"
                ],
                [
                  "37",
                  "CPV",
                  "2001",
                  "13.8",
                  "11.0"
                ],
                [
                  "38",
                  "CRI",
                  "2001",
                  "4.3",
                  "65.0"
                ],
                [
                  "39",
                  "CUB",
                  "2001",
                  "90.3",
                  "99.0"
                ],
                [
                  "40",
                  "CYP",
                  "2001",
                  null,
                  null
                ],
                [
                  "41",
                  "CZE",
                  "2001",
                  "11.3",
                  "7.0"
                ],
                [
                  "42",
                  "DEU",
                  "2001",
                  "1.5",
                  "4.0"
                ],
                [
                  "43",
                  "DJI",
                  "2001",
                  "31.3",
                  "53.0"
                ],
                [
                  "44",
                  "DNK",
                  "2001",
                  "3.0",
                  "46.0"
                ],
                [
                  "45",
                  "DOM",
                  "2001",
                  null,
                  null
                ],
                [
                  "46",
                  "DZA",
                  "2001",
                  "31.0",
                  "52.0"
                ],
                [
                  "47",
                  "ECU",
                  "2001",
                  "5.5",
                  "78.0"
                ],
                [
                  "48",
                  "EGY",
                  "2001",
                  "34.5",
                  "57.0"
                ],
                [
                  "49",
                  "ERI",
                  "2001",
                  "83.7",
                  "94.0"
                ]
              ],
              "shape": {
                "columns": 4,
                "rows": 3060
              }
            },
            "text/html": [
              "<div>\n",
              "<style scoped>\n",
              "    .dataframe tbody tr th:only-of-type {\n",
              "        vertical-align: middle;\n",
              "    }\n",
              "\n",
              "    .dataframe tbody tr th {\n",
              "        vertical-align: top;\n",
              "    }\n",
              "\n",
              "    .dataframe thead th {\n",
              "        text-align: right;\n",
              "    }\n",
              "</style>\n",
              "<table border=\"1\" class=\"dataframe\">\n",
              "  <thead>\n",
              "    <tr style=\"text-align: right;\">\n",
              "      <th></th>\n",
              "      <th>codigo_iso</th>\n",
              "      <th>anio</th>\n",
              "      <th>indice</th>\n",
              "      <th>ranking</th>\n",
              "    </tr>\n",
              "  </thead>\n",
              "  <tbody>\n",
              "    <tr>\n",
              "      <th>0</th>\n",
              "      <td>AFG</td>\n",
              "      <td>2001</td>\n",
              "      <td>35.50</td>\n",
              "      <td>59.0</td>\n",
              "    </tr>\n",
              "    <tr>\n",
              "      <th>1</th>\n",
              "      <td>AGO</td>\n",
              "      <td>2001</td>\n",
              "      <td>30.20</td>\n",
              "      <td>50.0</td>\n",
              "    </tr>\n",
              "    <tr>\n",
              "      <th>2</th>\n",
              "      <td>ALB</td>\n",
              "      <td>2001</td>\n",
              "      <td>NaN</td>\n",
              "      <td>NaN</td>\n",
              "    </tr>\n",
              "    <tr>\n",
              "      <th>3</th>\n",
              "      <td>AND</td>\n",
              "      <td>2001</td>\n",
              "      <td>NaN</td>\n",
              "      <td>NaN</td>\n",
              "    </tr>\n",
              "    <tr>\n",
              "      <th>4</th>\n",
              "      <td>ARE</td>\n",
              "      <td>2001</td>\n",
              "      <td>NaN</td>\n",
              "      <td>NaN</td>\n",
              "    </tr>\n",
              "    <tr>\n",
              "      <th>...</th>\n",
              "      <td>...</td>\n",
              "      <td>...</td>\n",
              "      <td>...</td>\n",
              "      <td>...</td>\n",
              "    </tr>\n",
              "    <tr>\n",
              "      <th>3055</th>\n",
              "      <td>WSM</td>\n",
              "      <td>2019</td>\n",
              "      <td>18.25</td>\n",
              "      <td>22.0</td>\n",
              "    </tr>\n",
              "    <tr>\n",
              "      <th>3056</th>\n",
              "      <td>YEM</td>\n",
              "      <td>2019</td>\n",
              "      <td>61.66</td>\n",
              "      <td>168.0</td>\n",
              "    </tr>\n",
              "    <tr>\n",
              "      <th>3057</th>\n",
              "      <td>ZAF</td>\n",
              "      <td>2019</td>\n",
              "      <td>22.19</td>\n",
              "      <td>31.0</td>\n",
              "    </tr>\n",
              "    <tr>\n",
              "      <th>3058</th>\n",
              "      <td>ZMB</td>\n",
              "      <td>2019</td>\n",
              "      <td>36.38</td>\n",
              "      <td>119.0</td>\n",
              "    </tr>\n",
              "    <tr>\n",
              "      <th>3059</th>\n",
              "      <td>ZWE</td>\n",
              "      <td>2019</td>\n",
              "      <td>42.23</td>\n",
              "      <td>127.0</td>\n",
              "    </tr>\n",
              "  </tbody>\n",
              "</table>\n",
              "<p>3060 rows × 4 columns</p>\n",
              "</div>"
            ],
            "text/plain": [
              "     codigo_iso  anio  indice  ranking\n",
              "0           AFG  2001   35.50     59.0\n",
              "1           AGO  2001   30.20     50.0\n",
              "2           ALB  2001     NaN      NaN\n",
              "3           AND  2001     NaN      NaN\n",
              "4           ARE  2001     NaN      NaN\n",
              "...         ...   ...     ...      ...\n",
              "3055        WSM  2019   18.25     22.0\n",
              "3056        YEM  2019   61.66    168.0\n",
              "3057        ZAF  2019   22.19     31.0\n",
              "3058        ZMB  2019   36.38    119.0\n",
              "3059        ZWE  2019   42.23    127.0\n",
              "\n",
              "[3060 rows x 4 columns]"
            ]
          },
          "execution_count": 8,
          "metadata": {},
          "output_type": "execute_result"
        }
      ],
      "source": [
        "lista_df = []\n",
        "\n",
        "for archivo in archivos_anio:\n",
        "\n",
        "    df_temp = pd.read_csv(archivo)\n",
        "    df_temp.columns = df_temp.columns.str.lower()  \n",
        "\n",
        "    lista_df.append(df_temp)\n",
        "\n",
        "\n",
        "df_anio = pd.concat(lista_df, ignore_index=True)\n",
        "df_anio"
      ]
    },
    {
      "cell_type": "code",
      "execution_count": 21,
      "id": "91b01aaa",
      "metadata": {},
      "outputs": [
        {
          "data": {
            "application/vnd.microsoft.datawrangler.viewer.v0+json": {
              "columns": [
                {
                  "name": "index",
                  "rawType": "int64",
                  "type": "integer"
                },
                {
                  "name": "codigo_iso",
                  "rawType": "object",
                  "type": "string"
                },
                {
                  "name": "pais",
                  "rawType": "object",
                  "type": "string"
                }
              ],
              "ref": "a677d0f5-9845-4d6a-977e-6db8fe27dfae",
              "rows": [
                [
                  "0",
                  "AFG",
                  "Afghanistán"
                ],
                [
                  "1",
                  "AGO",
                  "Angola"
                ],
                [
                  "2",
                  "ALB",
                  "Albania"
                ],
                [
                  "3",
                  "AND",
                  "Andorra"
                ],
                [
                  "4",
                  "ARE",
                  "Emiratos Árabes Unidos"
                ],
                [
                  "5",
                  "ARG",
                  "Argentina"
                ],
                [
                  "6",
                  "ARM",
                  "Armenia"
                ],
                [
                  "7",
                  "ATG",
                  "Antigua y Barbuda"
                ],
                [
                  "8",
                  "AUS",
                  "Australia"
                ],
                [
                  "9",
                  "AUT",
                  "Austria"
                ],
                [
                  "10",
                  "AZE",
                  "Azerbaijan"
                ],
                [
                  "11",
                  "BDI",
                  "Burundi"
                ],
                [
                  "12",
                  "BEL",
                  "Bélgica"
                ],
                [
                  "13",
                  "BEN",
                  "Benin"
                ],
                [
                  "14",
                  "BFA",
                  "Burkina Faso"
                ],
                [
                  "15",
                  "BGD",
                  "Bangladesh"
                ],
                [
                  "16",
                  "BGR",
                  "Bulgaria"
                ],
                [
                  "17",
                  "BHR",
                  "Bahrain"
                ],
                [
                  "18",
                  "BIH",
                  "Bosnia y Herzegovina"
                ],
                [
                  "19",
                  "BLR",
                  "Bielorrusia"
                ],
                [
                  "20",
                  "BLZ",
                  "Belize"
                ],
                [
                  "21",
                  "BOL",
                  "Bolivia"
                ],
                [
                  "22",
                  "BRA",
                  "Brasil"
                ],
                [
                  "23",
                  "BRN",
                  "Brunei Darussalam"
                ],
                [
                  "24",
                  "BTN",
                  "Bhutan"
                ],
                [
                  "25",
                  "BWA",
                  "Botswana"
                ],
                [
                  "26",
                  "CAF",
                  "República Central Africana"
                ],
                [
                  "27",
                  "CAN",
                  "Canadá"
                ],
                [
                  "28",
                  "CHE",
                  "Suiza"
                ],
                [
                  "29",
                  "CHL",
                  "Chile"
                ],
                [
                  "30",
                  "CHN",
                  "China"
                ],
                [
                  "31",
                  "CIV",
                  "Costa de Marfil"
                ],
                [
                  "32",
                  "CMR",
                  "Camerún"
                ],
                [
                  "33",
                  "COD",
                  "Congo, Dem. Rep."
                ],
                [
                  "34",
                  "COG",
                  "Congo, Rep."
                ],
                [
                  "35",
                  "COL",
                  "Colombia"
                ],
                [
                  "36",
                  "COM",
                  "Comoros"
                ],
                [
                  "37",
                  "CPV",
                  "Cabo Verde"
                ],
                [
                  "38",
                  "CRI",
                  "Costa Rica"
                ],
                [
                  "39",
                  "CUB",
                  "Cuba"
                ],
                [
                  "40",
                  "CYP",
                  "Chipre"
                ],
                [
                  "41",
                  "CZE",
                  "República Checa"
                ],
                [
                  "42",
                  "DEU",
                  "Alemania"
                ],
                [
                  "43",
                  "DJI",
                  "Djibouti"
                ],
                [
                  "44",
                  "DNK",
                  "Dinamarca"
                ],
                [
                  "45",
                  "DOM",
                  "República Dominicana"
                ],
                [
                  "46",
                  "DZA",
                  "Algeria"
                ],
                [
                  "47",
                  "ECU",
                  "Ecuador"
                ],
                [
                  "48",
                  "EGY",
                  "Egipto"
                ],
                [
                  "49",
                  "ERI",
                  "Eritrea"
                ]
              ],
              "shape": {
                "columns": 2,
                "rows": 181
              }
            },
            "text/html": [
              "<div>\n",
              "<style scoped>\n",
              "    .dataframe tbody tr th:only-of-type {\n",
              "        vertical-align: middle;\n",
              "    }\n",
              "\n",
              "    .dataframe tbody tr th {\n",
              "        vertical-align: top;\n",
              "    }\n",
              "\n",
              "    .dataframe thead th {\n",
              "        text-align: right;\n",
              "    }\n",
              "</style>\n",
              "<table border=\"1\" class=\"dataframe\">\n",
              "  <thead>\n",
              "    <tr style=\"text-align: right;\">\n",
              "      <th></th>\n",
              "      <th>codigo_iso</th>\n",
              "      <th>pais</th>\n",
              "    </tr>\n",
              "  </thead>\n",
              "  <tbody>\n",
              "    <tr>\n",
              "      <th>0</th>\n",
              "      <td>AFG</td>\n",
              "      <td>Afghanistán</td>\n",
              "    </tr>\n",
              "    <tr>\n",
              "      <th>1</th>\n",
              "      <td>AGO</td>\n",
              "      <td>Angola</td>\n",
              "    </tr>\n",
              "    <tr>\n",
              "      <th>2</th>\n",
              "      <td>ALB</td>\n",
              "      <td>Albania</td>\n",
              "    </tr>\n",
              "    <tr>\n",
              "      <th>3</th>\n",
              "      <td>AND</td>\n",
              "      <td>Andorra</td>\n",
              "    </tr>\n",
              "    <tr>\n",
              "      <th>4</th>\n",
              "      <td>ARE</td>\n",
              "      <td>Emiratos Árabes Unidos</td>\n",
              "    </tr>\n",
              "    <tr>\n",
              "      <th>...</th>\n",
              "      <td>...</td>\n",
              "      <td>...</td>\n",
              "    </tr>\n",
              "    <tr>\n",
              "      <th>176</th>\n",
              "      <td>YEM</td>\n",
              "      <td>Yemen</td>\n",
              "    </tr>\n",
              "    <tr>\n",
              "      <th>177</th>\n",
              "      <td>ZAF</td>\n",
              "      <td>Sudáfrica</td>\n",
              "    </tr>\n",
              "    <tr>\n",
              "      <th>178</th>\n",
              "      <td>ZMB</td>\n",
              "      <td>Zambia</td>\n",
              "    </tr>\n",
              "    <tr>\n",
              "      <th>179</th>\n",
              "      <td>ZWE</td>\n",
              "      <td>Zimbabue</td>\n",
              "    </tr>\n",
              "    <tr>\n",
              "      <th>180</th>\n",
              "      <td>ZWE</td>\n",
              "      <td>malo</td>\n",
              "    </tr>\n",
              "  </tbody>\n",
              "</table>\n",
              "<p>181 rows × 2 columns</p>\n",
              "</div>"
            ],
            "text/plain": [
              "    codigo_iso                    pais\n",
              "0          AFG             Afghanistán\n",
              "1          AGO                  Angola\n",
              "2          ALB                 Albania\n",
              "3          AND                 Andorra\n",
              "4          ARE  Emiratos Árabes Unidos\n",
              "..         ...                     ...\n",
              "176        YEM                   Yemen\n",
              "177        ZAF               Sudáfrica\n",
              "178        ZMB                  Zambia\n",
              "179        ZWE                Zimbabue\n",
              "180        ZWE                    malo\n",
              "\n",
              "[181 rows x 2 columns]"
            ]
          },
          "execution_count": 21,
          "metadata": {},
          "output_type": "execute_result"
        }
      ],
      "source": [
        "df_codigos"
      ]
    },
    {
      "cell_type": "code",
      "execution_count": null,
      "id": "199a9a38",
      "metadata": {},
      "outputs": [
        {
          "name": "stdout",
          "output_type": "stream",
          "text": [
            "Codigo iso repetido :  ZWE\n",
            "Paises asociados :  ['Zimbabue', 'malo']\n"
          ]
        }
      ],
      "source": [
        "agrupado = df_codigos.groupby(\"codigo_iso\")[\"pais\"]\n",
        "agrupado = agrupado.nunique().sort_values(ascending=False)\n",
        "\n",
        "print(\"Codigo iso repetido : \", agrupado.index[0])\n",
        "\n",
        "lista_paises = df_codigos[df_codigos[\"codigo_iso\"] == agrupado.index[0]][\"pais\"]\n",
        "lista_paises = lista_paises.tolist()\n",
        "\n",
        "print(\"Paises asociados : \", lista_paises)"
      ]
    },
    {
      "cell_type": "code",
      "execution_count": 71,
      "id": "2a77ade4",
      "metadata": {},
      "outputs": [],
      "source": [
        "# asumiendo que \"MALO\" es el error\n",
        "\n",
        "indice = df_codigos.loc[df_codigos[\"pais\"] == lista_paises[1]].index\n",
        "\n",
        "df_codigos = df_codigos.drop(indice)"
      ]
    },
    {
      "cell_type": "code",
      "execution_count": 73,
      "id": "075054d8",
      "metadata": {},
      "outputs": [
        {
          "data": {
            "application/vnd.microsoft.datawrangler.viewer.v0+json": {
              "columns": [
                {
                  "name": "index",
                  "rawType": "int64",
                  "type": "integer"
                },
                {
                  "name": "codigo_iso",
                  "rawType": "object",
                  "type": "string"
                },
                {
                  "name": "anio",
                  "rawType": "int64",
                  "type": "integer"
                },
                {
                  "name": "indice",
                  "rawType": "float64",
                  "type": "float"
                },
                {
                  "name": "ranking",
                  "rawType": "float64",
                  "type": "float"
                },
                {
                  "name": "pais",
                  "rawType": "object",
                  "type": "string"
                }
              ],
              "ref": "fff8fa15-0c84-43cd-a01a-9b52c1fd9fe0",
              "rows": [
                [
                  "0",
                  "AFG",
                  "2001",
                  "35.5",
                  "59.0",
                  "Afghanistán"
                ],
                [
                  "1",
                  "AGO",
                  "2001",
                  "30.2",
                  "50.0",
                  "Angola"
                ],
                [
                  "2",
                  "ALB",
                  "2001",
                  null,
                  null,
                  "Albania"
                ],
                [
                  "3",
                  "AND",
                  "2001",
                  null,
                  null,
                  "Andorra"
                ],
                [
                  "4",
                  "ARE",
                  "2001",
                  null,
                  null,
                  "Emiratos Árabes Unidos"
                ],
                [
                  "5",
                  "ARG",
                  "2001",
                  "12.0",
                  "8.0",
                  "Argentina"
                ],
                [
                  "6",
                  "ARM",
                  "2001",
                  null,
                  null,
                  "Armenia"
                ],
                [
                  "7",
                  "ATG",
                  "2001",
                  null,
                  null,
                  "Antigua y Barbuda"
                ],
                [
                  "8",
                  "AUS",
                  "2001",
                  "3.5",
                  "48.0",
                  "Australia"
                ],
                [
                  "9",
                  "AUT",
                  "2001",
                  "7.5",
                  "86.0",
                  "Austria"
                ],
                [
                  "10",
                  "AZE",
                  "2001",
                  "34.5",
                  "57.0",
                  "Azerbaijan"
                ],
                [
                  "11",
                  "BDI",
                  "2001",
                  "24.5",
                  "32.0",
                  "Burundi"
                ],
                [
                  "12",
                  "BEL",
                  "2001",
                  "3.5",
                  "48.0",
                  "Bélgica"
                ],
                [
                  "13",
                  "BEN",
                  "2001",
                  "6.0",
                  "80.0",
                  "Benin"
                ],
                [
                  "14",
                  "BFA",
                  "2001",
                  "27.8",
                  "42.0",
                  "Burkina Faso"
                ],
                [
                  "15",
                  "BGD",
                  "2001",
                  "43.8",
                  "72.0",
                  "Bangladesh"
                ],
                [
                  "16",
                  "BGR",
                  "2001",
                  "9.8",
                  "98.0",
                  "Bulgaria"
                ],
                [
                  "17",
                  "BHR",
                  "2001",
                  "23.0",
                  "28.0",
                  "Bahrain"
                ],
                [
                  "18",
                  "BIH",
                  "2001",
                  "12.5",
                  "9.0",
                  "Bosnia y Herzegovina"
                ],
                [
                  "19",
                  "BLR",
                  "2001",
                  "52.2",
                  "79.0",
                  "Bielorrusia"
                ],
                [
                  "20",
                  "BLZ",
                  "2001",
                  null,
                  null,
                  "Belize"
                ],
                [
                  "21",
                  "BOL",
                  "2001",
                  "14.5",
                  "13.0",
                  "Bolivia"
                ],
                [
                  "22",
                  "BRA",
                  "2001",
                  "18.8",
                  "18.0",
                  "Brasil"
                ],
                [
                  "23",
                  "BRN",
                  "2001",
                  null,
                  null,
                  "Brunei Darussalam"
                ],
                [
                  "24",
                  "BTN",
                  "2001",
                  "90.8",
                  "100.0",
                  "Bhutan"
                ],
                [
                  "25",
                  "BWA",
                  "2001",
                  null,
                  null,
                  "Botswana"
                ],
                [
                  "26",
                  "CAF",
                  "2001",
                  "21.5",
                  "25.0",
                  "República Central Africana"
                ],
                [
                  "27",
                  "CAN",
                  "2001",
                  "0.8",
                  "2.0",
                  "Canadá"
                ],
                [
                  "28",
                  "CHE",
                  "2001",
                  "4.3",
                  "65.0",
                  "Suiza"
                ],
                [
                  "29",
                  "CHL",
                  "2001",
                  "6.5",
                  "81.0",
                  "Chile"
                ],
                [
                  "30",
                  "CHN",
                  "2001",
                  "97.0",
                  "103.0",
                  "China"
                ],
                [
                  "31",
                  "CIV",
                  "2001",
                  "19.0",
                  "19.0",
                  "Costa de Marfil"
                ],
                [
                  "32",
                  "CMR",
                  "2001",
                  "28.8",
                  "44.0",
                  "Camerún"
                ],
                [
                  "33",
                  "COD",
                  "2001",
                  null,
                  null,
                  "Congo, Dem. Rep."
                ],
                [
                  "34",
                  "COG",
                  "2001",
                  "23.2",
                  "29.0",
                  "Congo, Rep."
                ],
                [
                  "35",
                  "COL",
                  "2001",
                  "40.8",
                  "68.0",
                  "Colombia"
                ],
                [
                  "36",
                  "COM",
                  "2001",
                  "20.5",
                  "22.0",
                  "Comoros"
                ],
                [
                  "37",
                  "CPV",
                  "2001",
                  "13.8",
                  "11.0",
                  "Cabo Verde"
                ],
                [
                  "38",
                  "CRI",
                  "2001",
                  "4.3",
                  "65.0",
                  "Costa Rica"
                ],
                [
                  "39",
                  "CUB",
                  "2001",
                  "90.3",
                  "99.0",
                  "Cuba"
                ],
                [
                  "40",
                  "CYP",
                  "2001",
                  null,
                  null,
                  "Chipre"
                ],
                [
                  "41",
                  "CZE",
                  "2001",
                  "11.3",
                  "7.0",
                  "República Checa"
                ],
                [
                  "42",
                  "DEU",
                  "2001",
                  "1.5",
                  "4.0",
                  "Alemania"
                ],
                [
                  "43",
                  "DJI",
                  "2001",
                  "31.3",
                  "53.0",
                  "Djibouti"
                ],
                [
                  "44",
                  "DNK",
                  "2001",
                  "3.0",
                  "46.0",
                  "Dinamarca"
                ],
                [
                  "45",
                  "DOM",
                  "2001",
                  null,
                  null,
                  "República Dominicana"
                ],
                [
                  "46",
                  "DZA",
                  "2001",
                  "31.0",
                  "52.0",
                  "Algeria"
                ],
                [
                  "47",
                  "ECU",
                  "2001",
                  "5.5",
                  "78.0",
                  "Ecuador"
                ],
                [
                  "48",
                  "EGY",
                  "2001",
                  "34.5",
                  "57.0",
                  "Egipto"
                ],
                [
                  "49",
                  "ERI",
                  "2001",
                  "83.7",
                  "94.0",
                  "Eritrea"
                ]
              ],
              "shape": {
                "columns": 5,
                "rows": 3060
              }
            },
            "text/html": [
              "<div>\n",
              "<style scoped>\n",
              "    .dataframe tbody tr th:only-of-type {\n",
              "        vertical-align: middle;\n",
              "    }\n",
              "\n",
              "    .dataframe tbody tr th {\n",
              "        vertical-align: top;\n",
              "    }\n",
              "\n",
              "    .dataframe thead th {\n",
              "        text-align: right;\n",
              "    }\n",
              "</style>\n",
              "<table border=\"1\" class=\"dataframe\">\n",
              "  <thead>\n",
              "    <tr style=\"text-align: right;\">\n",
              "      <th></th>\n",
              "      <th>codigo_iso</th>\n",
              "      <th>anio</th>\n",
              "      <th>indice</th>\n",
              "      <th>ranking</th>\n",
              "      <th>pais</th>\n",
              "    </tr>\n",
              "  </thead>\n",
              "  <tbody>\n",
              "    <tr>\n",
              "      <th>0</th>\n",
              "      <td>AFG</td>\n",
              "      <td>2001</td>\n",
              "      <td>35.50</td>\n",
              "      <td>59.0</td>\n",
              "      <td>Afghanistán</td>\n",
              "    </tr>\n",
              "    <tr>\n",
              "      <th>1</th>\n",
              "      <td>AGO</td>\n",
              "      <td>2001</td>\n",
              "      <td>30.20</td>\n",
              "      <td>50.0</td>\n",
              "      <td>Angola</td>\n",
              "    </tr>\n",
              "    <tr>\n",
              "      <th>2</th>\n",
              "      <td>ALB</td>\n",
              "      <td>2001</td>\n",
              "      <td>NaN</td>\n",
              "      <td>NaN</td>\n",
              "      <td>Albania</td>\n",
              "    </tr>\n",
              "    <tr>\n",
              "      <th>3</th>\n",
              "      <td>AND</td>\n",
              "      <td>2001</td>\n",
              "      <td>NaN</td>\n",
              "      <td>NaN</td>\n",
              "      <td>Andorra</td>\n",
              "    </tr>\n",
              "    <tr>\n",
              "      <th>4</th>\n",
              "      <td>ARE</td>\n",
              "      <td>2001</td>\n",
              "      <td>NaN</td>\n",
              "      <td>NaN</td>\n",
              "      <td>Emiratos Árabes Unidos</td>\n",
              "    </tr>\n",
              "    <tr>\n",
              "      <th>...</th>\n",
              "      <td>...</td>\n",
              "      <td>...</td>\n",
              "      <td>...</td>\n",
              "      <td>...</td>\n",
              "      <td>...</td>\n",
              "    </tr>\n",
              "    <tr>\n",
              "      <th>3055</th>\n",
              "      <td>WSM</td>\n",
              "      <td>2019</td>\n",
              "      <td>18.25</td>\n",
              "      <td>22.0</td>\n",
              "      <td>Samoa</td>\n",
              "    </tr>\n",
              "    <tr>\n",
              "      <th>3056</th>\n",
              "      <td>YEM</td>\n",
              "      <td>2019</td>\n",
              "      <td>61.66</td>\n",
              "      <td>168.0</td>\n",
              "      <td>Yemen</td>\n",
              "    </tr>\n",
              "    <tr>\n",
              "      <th>3057</th>\n",
              "      <td>ZAF</td>\n",
              "      <td>2019</td>\n",
              "      <td>22.19</td>\n",
              "      <td>31.0</td>\n",
              "      <td>Sudáfrica</td>\n",
              "    </tr>\n",
              "    <tr>\n",
              "      <th>3058</th>\n",
              "      <td>ZMB</td>\n",
              "      <td>2019</td>\n",
              "      <td>36.38</td>\n",
              "      <td>119.0</td>\n",
              "      <td>Zambia</td>\n",
              "    </tr>\n",
              "    <tr>\n",
              "      <th>3059</th>\n",
              "      <td>ZWE</td>\n",
              "      <td>2019</td>\n",
              "      <td>42.23</td>\n",
              "      <td>127.0</td>\n",
              "      <td>Zimbabue</td>\n",
              "    </tr>\n",
              "  </tbody>\n",
              "</table>\n",
              "<p>3060 rows × 5 columns</p>\n",
              "</div>"
            ],
            "text/plain": [
              "     codigo_iso  anio  indice  ranking                    pais\n",
              "0           AFG  2001   35.50     59.0             Afghanistán\n",
              "1           AGO  2001   30.20     50.0                  Angola\n",
              "2           ALB  2001     NaN      NaN                 Albania\n",
              "3           AND  2001     NaN      NaN                 Andorra\n",
              "4           ARE  2001     NaN      NaN  Emiratos Árabes Unidos\n",
              "...         ...   ...     ...      ...                     ...\n",
              "3055        WSM  2019   18.25     22.0                   Samoa\n",
              "3056        YEM  2019   61.66    168.0                   Yemen\n",
              "3057        ZAF  2019   22.19     31.0               Sudáfrica\n",
              "3058        ZMB  2019   36.38    119.0                  Zambia\n",
              "3059        ZWE  2019   42.23    127.0                Zimbabue\n",
              "\n",
              "[3060 rows x 5 columns]"
            ]
          },
          "execution_count": 73,
          "metadata": {},
          "output_type": "execute_result"
        }
      ],
      "source": [
        "df = pd.merge(df_anio, df_codigos, on=\"codigo_iso\", how=\"inner\")\n",
        "df"
      ]
    },
    {
      "cell_type": "markdown",
      "id": "282e8301",
      "metadata": {
        "id": "282e8301"
      },
      "source": [
        "\n",
        "\n",
        "### 2. Exploración inicial del conjunto de datos\n",
        "\n",
        "Una vez que hayas consolidado el DataFrame final `df`, realiza un análisis exploratorio básico respondiendo las siguientes preguntas:\n",
        "\n",
        "#### **Estructura del DataFrame**\n",
        "\n",
        "* ¿Cuántas **filas (observaciones)** contiene el conjunto de datos?\n",
        "* ¿Cuántas **columnas** tiene el DataFrame?\n",
        "* ¿Cuáles son los **nombres de las columnas**?\n",
        "* ¿Qué **tipo de datos** tiene cada columna?\n",
        "* ¿Hay columnas con un tipo de dato inesperado (por ejemplo, fechas como strings)?\n",
        "\n",
        "#### **Resumen estadístico**\n",
        "\n",
        "* Genera un resumen estadístico del conjunto de datos con `.describe()`.\n",
        "  ¿Qué observas sobre los valores de `indice` y `ranking`?\n",
        "* ¿Qué valores mínimo, máximo y promedio tiene la columna `indice`?\n",
        "* ¿Qué países presentan los valores extremos en `indice` y `ranking`?\n",
        "\n",
        "#### **Datos faltantes**\n",
        "\n",
        "* ¿Cuántos valores nulos hay en cada columna?\n",
        "* ¿Qué proporción de observaciones tienen valores faltantes?\n",
        "* ¿Hay columnas con más del 30% de datos faltantes?\n",
        "\n",
        "#### **Unicidad y duplicados**\n",
        "\n",
        "* ¿Cuántos países distintos (`pais`) hay en el DataFrame?\n",
        "* ¿Cuántos años distintos (`anio`) hay representados?\n",
        "* ¿Existen filas duplicadas (exactamente iguales)? ¿Cuántas?\n",
        "\n",
        "#### **Validación cruzada de columnas**\n",
        "\n",
        "* ¿Hay inconsistencias entre el país (`pais`) y su código (`codigo_iso`)?\n",
        "  (por ejemplo, un mismo código ISO asociado a más de un país)\n",
        "\n",
        "> **Sugerencia**: Apoya tu análisis con funciones como `.info()`, `.nunique()`, `.isnull().sum()`, `.duplicated()`, `.value_counts()`, entre otras.\n",
        "\n",
        "\n",
        "\n",
        "    "
      ]
    },
    {
      "cell_type": "code",
      "execution_count": 117,
      "id": "ce5ebc97",
      "metadata": {},
      "outputs": [
        {
          "name": "stdout",
          "output_type": "stream",
          "text": [
            "El conjunto de datos contiene  3060 Filas y  5 Columnas\n",
            "Nombres de columnas:  ['codigo_iso', 'anio', 'indice', 'ranking', 'pais']\n",
            "\n",
            "Tipos de datos por columnas: \n",
            " codigo_iso     object\n",
            "anio            int64\n",
            "indice        float64\n",
            "ranking       float64\n",
            "pais           object\n",
            "dtype: object\n"
          ]
        }
      ],
      "source": [
        "print(\"El conjunto de datos contiene \", df.shape[0], \"Filas y \", df.shape[1], \"Columnas\")\n",
        "\n",
        "print(\"Nombres de columnas: \", list(df.columns))\n",
        "\n",
        "print(\"\\nTipos de datos por columnas: \\n\", df.dtypes)"
      ]
    },
    {
      "cell_type": "code",
      "execution_count": 97,
      "id": "1ac57743",
      "metadata": {},
      "outputs": [
        {
          "name": "stdout",
          "output_type": "stream",
          "text": [
            "Valor maximo : 64536.0 \n",
            "Valor minimo: 0.0 \n",
            "valor promedio:  205.7823160660661\n"
          ]
        }
      ],
      "source": [
        "print(\"Valor maximo :\", df[\"indice\"].max(), \"\\nValor minimo:\", df[\"indice\"].min(), \"\\nvalor promedio: \", df[\"indice\"].mean())"
      ]
    },
    {
      "cell_type": "code",
      "execution_count": null,
      "id": "169af768",
      "metadata": {},
      "outputs": [
        {
          "data": {
            "application/vnd.microsoft.datawrangler.viewer.v0+json": {
              "columns": [
                {
                  "name": "index",
                  "rawType": "object",
                  "type": "string"
                },
                {
                  "name": "anio",
                  "rawType": "float64",
                  "type": "float"
                },
                {
                  "name": "indice",
                  "rawType": "float64",
                  "type": "float"
                },
                {
                  "name": "ranking",
                  "rawType": "float64",
                  "type": "float"
                }
              ],
              "ref": "488bcfcf-befc-4d0b-a479-d7cfecde4efd",
              "rows": [
                [
                  "count",
                  "3060.0",
                  "2664.0",
                  "2837.0"
                ],
                [
                  "mean",
                  "2009.9411764705883",
                  "205.7823160660661",
                  "477.93091293620023"
                ],
                [
                  "std",
                  "5.78602355447737",
                  "2695.525263868726",
                  "6474.93534660826"
                ],
                [
                  "min",
                  "2001.0",
                  "0.0",
                  "1.0"
                ],
                [
                  "25%",
                  "2005.0",
                  "15.295",
                  "34.0"
                ],
                [
                  "50%",
                  "2009.0",
                  "28.0",
                  "70.0"
                ],
                [
                  "75%",
                  "2015.0",
                  "41.2275",
                  "110.0"
                ],
                [
                  "max",
                  "2019.0",
                  "64536.0",
                  "121056.0"
                ]
              ],
              "shape": {
                "columns": 3,
                "rows": 8
              }
            },
            "text/html": [
              "<div>\n",
              "<style scoped>\n",
              "    .dataframe tbody tr th:only-of-type {\n",
              "        vertical-align: middle;\n",
              "    }\n",
              "\n",
              "    .dataframe tbody tr th {\n",
              "        vertical-align: top;\n",
              "    }\n",
              "\n",
              "    .dataframe thead th {\n",
              "        text-align: right;\n",
              "    }\n",
              "</style>\n",
              "<table border=\"1\" class=\"dataframe\">\n",
              "  <thead>\n",
              "    <tr style=\"text-align: right;\">\n",
              "      <th></th>\n",
              "      <th>anio</th>\n",
              "      <th>indice</th>\n",
              "      <th>ranking</th>\n",
              "    </tr>\n",
              "  </thead>\n",
              "  <tbody>\n",
              "    <tr>\n",
              "      <th>count</th>\n",
              "      <td>3060.000000</td>\n",
              "      <td>2664.000000</td>\n",
              "      <td>2837.000000</td>\n",
              "    </tr>\n",
              "    <tr>\n",
              "      <th>mean</th>\n",
              "      <td>2009.941176</td>\n",
              "      <td>205.782316</td>\n",
              "      <td>477.930913</td>\n",
              "    </tr>\n",
              "    <tr>\n",
              "      <th>std</th>\n",
              "      <td>5.786024</td>\n",
              "      <td>2695.525264</td>\n",
              "      <td>6474.935347</td>\n",
              "    </tr>\n",
              "    <tr>\n",
              "      <th>min</th>\n",
              "      <td>2001.000000</td>\n",
              "      <td>0.000000</td>\n",
              "      <td>1.000000</td>\n",
              "    </tr>\n",
              "    <tr>\n",
              "      <th>25%</th>\n",
              "      <td>2005.000000</td>\n",
              "      <td>15.295000</td>\n",
              "      <td>34.000000</td>\n",
              "    </tr>\n",
              "    <tr>\n",
              "      <th>50%</th>\n",
              "      <td>2009.000000</td>\n",
              "      <td>28.000000</td>\n",
              "      <td>70.000000</td>\n",
              "    </tr>\n",
              "    <tr>\n",
              "      <th>75%</th>\n",
              "      <td>2015.000000</td>\n",
              "      <td>41.227500</td>\n",
              "      <td>110.000000</td>\n",
              "    </tr>\n",
              "    <tr>\n",
              "      <th>max</th>\n",
              "      <td>2019.000000</td>\n",
              "      <td>64536.000000</td>\n",
              "      <td>121056.000000</td>\n",
              "    </tr>\n",
              "  </tbody>\n",
              "</table>\n",
              "</div>"
            ],
            "text/plain": [
              "              anio        indice        ranking\n",
              "count  3060.000000   2664.000000    2837.000000\n",
              "mean   2009.941176    205.782316     477.930913\n",
              "std       5.786024   2695.525264    6474.935347\n",
              "min    2001.000000      0.000000       1.000000\n",
              "25%    2005.000000     15.295000      34.000000\n",
              "50%    2009.000000     28.000000      70.000000\n",
              "75%    2015.000000     41.227500     110.000000\n",
              "max    2019.000000  64536.000000  121056.000000"
            ]
          },
          "execution_count": 93,
          "metadata": {},
          "output_type": "execute_result"
        }
      ],
      "source": [
        "print(df.describe())"
      ]
    },
    {
      "cell_type": "code",
      "execution_count": 85,
      "id": "6a681c0c",
      "metadata": {},
      "outputs": [
        {
          "name": "stdout",
          "output_type": "stream",
          "text": [
            "Mínimo índice: 0.0 Dinamarca\n",
            "Máximo índice:  64536.0 Kosovo\n",
            "Mínimo ranking:  0.5 Finlandia\n",
            "Máximo ranking:  64527.0 Kosovo\n"
          ]
        }
      ],
      "source": [
        "indice_min = df.loc[df[\"indice\"].idxmin()]\n",
        "indice_max = df.loc[df[\"indice\"].idxmax()]\n",
        "ranking_min = df.loc[df[\"ranking\"].idxmin()]\n",
        "ranking_max = df.loc[df[\"ranking\"].idxmax()]\n",
        "\n",
        "print(\"Mínimo índice:\", indice_min[\"indice\"], indice_min[\"pais\"] )\n",
        "print(\"Máximo índice: \", indice_max[\"indice\"], indice_max[\"pais\"] )\n",
        "print(\"Mínimo ranking: \", ranking_min[\"indice\"], ranking_min[\"pais\"])\n",
        "print(\"Máximo ranking: \", ranking_max[\"indice\"], ranking_max[\"pais\"])\n"
      ]
    },
    {
      "cell_type": "code",
      "execution_count": 115,
      "id": "990e190d",
      "metadata": {},
      "outputs": [
        {
          "name": "stdout",
          "output_type": "stream",
          "text": [
            "codigo_iso      0\n",
            "anio            0\n",
            "indice        396\n",
            "ranking       223\n",
            "pais            0\n",
            "dtype: int64\n",
            "\n",
            " codigo_iso     0.000000\n",
            "anio           0.000000\n",
            "indice        12.941176\n",
            "ranking        7.287582\n",
            "pais           0.000000\n",
            "dtype: float64\n",
            "\n",
            "No hay columnas con mas de 30% de datos faltantes\n"
          ]
        }
      ],
      "source": [
        "nulos_columna = df.isnull().sum()\n",
        "print(nulos_columna)\n",
        "\n",
        "nulos_porcentaje = nulos_columna/df.shape[0] *100\n",
        "print(\"\\n\", nulos_porcentaje)\n",
        "\n",
        "print(\"\\nNo hay columnas con mas de 30% de datos faltantes\")"
      ]
    },
    {
      "cell_type": "code",
      "execution_count": 119,
      "id": "06b62a46",
      "metadata": {},
      "outputs": [
        {
          "name": "stdout",
          "output_type": "stream",
          "text": [
            "\n",
            "=== UNICIDAD Y DUPLICADOS ===\n",
            "En el dataframe hay  179 Paises distintos y  17 años distintos\n",
            "Filas duplicadas:  0       False\n",
            "1       False\n",
            "2       False\n",
            "3       False\n",
            "4       False\n",
            "        ...  \n",
            "3055    False\n",
            "3056    False\n",
            "3057    False\n",
            "3058    False\n",
            "3059    False\n",
            "Length: 3060, dtype: bool\n"
          ]
        }
      ],
      "source": [
        "print(\"\\n=== UNICIDAD Y DUPLICADOS ===\")\n",
        "print(\"En el dataframe hay \", df['pais'].nunique(), \"Paises distintos y \", df['anio'].nunique(), \"años distintos\" )\n",
        "\n",
        "print(\"Filas duplicadas: \", df.duplicated())"
      ]
    },
    {
      "cell_type": "code",
      "execution_count": null,
      "id": "0ef6d40f",
      "metadata": {},
      "outputs": [
        {
          "name": "stdout",
          "output_type": "stream",
          "text": [
            "\n",
            "=== VALIDACIÓN CRUZADA ===\n",
            "Series([], Name: pais, dtype: int64)\n",
            "\n",
            "No hay inconsistencias entre codigo y pais\n"
          ]
        }
      ],
      "source": [
        "inconsistencias = df.groupby(\"codigo_iso\")[\"pais\"].nunique()\n",
        "inconsistencias = inconsistencias[inconsistencias > 1]\n",
        "\n",
        "print(inconsistencias) \n",
        "\n",
        "print(\"\\nNo hay inconsistencias entre codigo y pais\")"
      ]
    },
    {
      "cell_type": "markdown",
      "id": "98efcc39",
      "metadata": {
        "id": "98efcc39"
      },
      "source": [
        "\n",
        "\n",
        "\n",
        "### 3. Comparación regional: países latinoamericanos\n",
        "\n",
        "En esta sección se busca identificar cuáles son los países de América Latina que han presentado los valores extremos del **Índice de Libertad de Prensa** en cada año observado.\n",
        "\n",
        "> Recuerda que un menor puntaje en `indice` implica mayor libertad de prensa.\n",
        "\n",
        "#### **Tareas:**\n",
        "\n",
        "**a)** Utilizando un ciclo `for`, recorre cada año del conjunto de datos filtrado por países latinoamericanos, y determina para cada año:\n",
        "\n",
        "* El país con el menor valor de `indice` (mayor libertad de prensa).\n",
        "* El país con el mayor valor de `indice` (menor libertad de prensa).\n",
        "\n",
        "**b)** Resuelve la misma tarea del punto anterior utilizando un enfoque vectorizado con `groupby`, sin usar ciclos explícitos.\n",
        "\n",
        "\n",
        "\n",
        "#### **Lista de países latinoamericanos considerada:**\n",
        "\n",
        "```python\n",
        "america = ['ARG', 'ATG', 'BLZ', 'BOL', 'BRA', 'CAN', 'CHL', 'COL', 'CRI',\n",
        "           'CUB', 'DOM', 'ECU', 'GRD', 'GTM', 'GUY', 'HND', 'HTI', 'JAM',\n",
        "           'MEX', 'NIC', 'PAN', 'PER', 'PRY', 'SLV', 'SUR', 'TTO', 'URY',\n",
        "           'USA', 'VEN']\n",
        "```\n",
        "\n",
        "> Puedes usar esta lista para filtrar el DataFrame final por la columna `codigo_iso`.\n",
        "\n"
      ]
    },
    {
      "cell_type": "code",
      "execution_count": 132,
      "id": "9077a9bc",
      "metadata": {
        "id": "9077a9bc"
      },
      "outputs": [
        {
          "data": {
            "application/vnd.microsoft.datawrangler.viewer.v0+json": {
              "columns": [
                {
                  "name": "index",
                  "rawType": "int64",
                  "type": "integer"
                },
                {
                  "name": "codigo_iso",
                  "rawType": "object",
                  "type": "string"
                },
                {
                  "name": "anio",
                  "rawType": "int64",
                  "type": "integer"
                },
                {
                  "name": "indice",
                  "rawType": "float64",
                  "type": "float"
                },
                {
                  "name": "ranking",
                  "rawType": "float64",
                  "type": "float"
                },
                {
                  "name": "pais",
                  "rawType": "object",
                  "type": "string"
                }
              ],
              "ref": "7ebc915c-55c3-4ce2-96aa-643f22a4a529",
              "rows": [
                [
                  "5",
                  "ARG",
                  "2001",
                  "12.0",
                  "8.0",
                  "Argentina"
                ],
                [
                  "7",
                  "ATG",
                  "2001",
                  null,
                  null,
                  "Antigua y Barbuda"
                ],
                [
                  "20",
                  "BLZ",
                  "2001",
                  null,
                  null,
                  "Belize"
                ],
                [
                  "21",
                  "BOL",
                  "2001",
                  "14.5",
                  "13.0",
                  "Bolivia"
                ],
                [
                  "22",
                  "BRA",
                  "2001",
                  "18.8",
                  "18.0",
                  "Brasil"
                ],
                [
                  "27",
                  "CAN",
                  "2001",
                  "0.8",
                  "2.0",
                  "Canadá"
                ],
                [
                  "29",
                  "CHL",
                  "2001",
                  "6.5",
                  "81.0",
                  "Chile"
                ],
                [
                  "35",
                  "COL",
                  "2001",
                  "40.8",
                  "68.0",
                  "Colombia"
                ],
                [
                  "38",
                  "CRI",
                  "2001",
                  "4.3",
                  "65.0",
                  "Costa Rica"
                ],
                [
                  "39",
                  "CUB",
                  "2001",
                  "90.3",
                  "99.0",
                  "Cuba"
                ],
                [
                  "45",
                  "DOM",
                  "2001",
                  null,
                  null,
                  "República Dominicana"
                ],
                [
                  "47",
                  "ECU",
                  "2001",
                  "5.5",
                  "78.0",
                  "Ecuador"
                ],
                [
                  "65",
                  "GRD",
                  "2001",
                  null,
                  null,
                  "Granada"
                ],
                [
                  "66",
                  "GTM",
                  "2001",
                  "27.3",
                  "40.0",
                  "Guatemala"
                ],
                [
                  "67",
                  "GUY",
                  "2001",
                  null,
                  null,
                  "Guyana"
                ],
                [
                  "69",
                  "HND",
                  "2001",
                  null,
                  null,
                  "Honduras"
                ],
                [
                  "71",
                  "HTI",
                  "2001",
                  "36.5",
                  "61.0",
                  "Haití"
                ],
                [
                  "81",
                  "JAM",
                  "2001",
                  null,
                  null,
                  "Jamaica"
                ],
                [
                  "105",
                  "MEX",
                  "2001",
                  "24.8",
                  "33.0",
                  "México"
                ],
                [
                  "120",
                  "NIC",
                  "2001",
                  null,
                  null,
                  "Nicaragua"
                ],
                [
                  "127",
                  "PAN",
                  "2001",
                  "15.5",
                  "14.0",
                  "Panamá"
                ],
                [
                  "128",
                  "PER",
                  "2001",
                  "9.5",
                  "97.0",
                  "Perú"
                ],
                [
                  "134",
                  "PRY",
                  "2001",
                  "8.5",
                  "91.0",
                  "Paraguay"
                ],
                [
                  "145",
                  "SLV",
                  "2001",
                  "8.8",
                  "92.0",
                  "El Salvador"
                ],
                [
                  "149",
                  "SUR",
                  "2001",
                  null,
                  null,
                  "Surinam"
                ],
                [
                  "163",
                  "TTO",
                  "2001",
                  null,
                  null,
                  "Trinidad y Tobago"
                ],
                [
                  "170",
                  "URY",
                  "2001",
                  "6.0",
                  "80.0",
                  "Uruguay"
                ],
                [
                  "171",
                  "USA",
                  "2001",
                  "4.8",
                  "66.0",
                  "Estados Unidos"
                ],
                [
                  "173",
                  "VEN",
                  "2001",
                  "25.0",
                  "34.0",
                  "Venezuela"
                ],
                [
                  "185",
                  "ARG",
                  "2002",
                  "15.17",
                  "15.0",
                  "Argentina"
                ],
                [
                  "187",
                  "ATG",
                  "2002",
                  null,
                  null,
                  "Antigua y Barbuda"
                ],
                [
                  "200",
                  "BLZ",
                  "2002",
                  null,
                  null,
                  "Belize"
                ],
                [
                  "201",
                  "BOL",
                  "2002",
                  "9.67",
                  "119.0",
                  "Bolivia"
                ],
                [
                  "202",
                  "BRA",
                  "2002",
                  "16.75",
                  "18.0",
                  "Brasil"
                ],
                [
                  "207",
                  "CAN",
                  "2002",
                  "1.83",
                  "6.0",
                  "Canadá"
                ],
                [
                  "209",
                  "CHL",
                  "2002",
                  "6.83",
                  "101.0",
                  "Chile"
                ],
                [
                  "215",
                  "COL",
                  "2002",
                  "49.17",
                  "89.0",
                  "Colombia"
                ],
                [
                  "218",
                  "CRI",
                  "2002",
                  "3.83",
                  "49.0",
                  "Costa Rica"
                ],
                [
                  "219",
                  "CUB",
                  "2002",
                  "97.83",
                  "125.0",
                  "Cuba"
                ],
                [
                  "225",
                  "DOM",
                  "2002",
                  "17.0",
                  "19.0",
                  "República Dominicana"
                ],
                [
                  "227",
                  "ECU",
                  "2002",
                  "7.67",
                  "107.0",
                  "Ecuador"
                ],
                [
                  "245",
                  "GRD",
                  "2002",
                  null,
                  null,
                  "Granada"
                ],
                [
                  "246",
                  "GTM",
                  "2002",
                  "30.83",
                  "51.0",
                  "Guatemala"
                ],
                [
                  "247",
                  "GUY",
                  "2002",
                  null,
                  null,
                  "Guyana"
                ],
                [
                  "249",
                  "HND",
                  "2002",
                  "14.17",
                  "13.0",
                  "Honduras"
                ],
                [
                  "251",
                  "HTI",
                  "2002",
                  "31.0",
                  "52.0",
                  "Haití"
                ],
                [
                  "261",
                  "JAM",
                  "2002",
                  "3.33",
                  "48.0",
                  "Jamaica"
                ],
                [
                  "285",
                  "MEX",
                  "2002",
                  "17.67",
                  "21.0",
                  "México"
                ],
                [
                  "300",
                  "NIC",
                  "2002",
                  "6.5",
                  "100.0",
                  "Nicaragua"
                ],
                [
                  "307",
                  "PAN",
                  "2002",
                  "9.75",
                  "120.0",
                  "Panamá"
                ]
              ],
              "shape": {
                "columns": 5,
                "rows": 493
              }
            },
            "text/html": [
              "<div>\n",
              "<style scoped>\n",
              "    .dataframe tbody tr th:only-of-type {\n",
              "        vertical-align: middle;\n",
              "    }\n",
              "\n",
              "    .dataframe tbody tr th {\n",
              "        vertical-align: top;\n",
              "    }\n",
              "\n",
              "    .dataframe thead th {\n",
              "        text-align: right;\n",
              "    }\n",
              "</style>\n",
              "<table border=\"1\" class=\"dataframe\">\n",
              "  <thead>\n",
              "    <tr style=\"text-align: right;\">\n",
              "      <th></th>\n",
              "      <th>codigo_iso</th>\n",
              "      <th>anio</th>\n",
              "      <th>indice</th>\n",
              "      <th>ranking</th>\n",
              "      <th>pais</th>\n",
              "    </tr>\n",
              "  </thead>\n",
              "  <tbody>\n",
              "    <tr>\n",
              "      <th>5</th>\n",
              "      <td>ARG</td>\n",
              "      <td>2001</td>\n",
              "      <td>12.00</td>\n",
              "      <td>8.0</td>\n",
              "      <td>Argentina</td>\n",
              "    </tr>\n",
              "    <tr>\n",
              "      <th>7</th>\n",
              "      <td>ATG</td>\n",
              "      <td>2001</td>\n",
              "      <td>NaN</td>\n",
              "      <td>NaN</td>\n",
              "      <td>Antigua y Barbuda</td>\n",
              "    </tr>\n",
              "    <tr>\n",
              "      <th>20</th>\n",
              "      <td>BLZ</td>\n",
              "      <td>2001</td>\n",
              "      <td>NaN</td>\n",
              "      <td>NaN</td>\n",
              "      <td>Belize</td>\n",
              "    </tr>\n",
              "    <tr>\n",
              "      <th>21</th>\n",
              "      <td>BOL</td>\n",
              "      <td>2001</td>\n",
              "      <td>14.50</td>\n",
              "      <td>13.0</td>\n",
              "      <td>Bolivia</td>\n",
              "    </tr>\n",
              "    <tr>\n",
              "      <th>22</th>\n",
              "      <td>BRA</td>\n",
              "      <td>2001</td>\n",
              "      <td>18.80</td>\n",
              "      <td>18.0</td>\n",
              "      <td>Brasil</td>\n",
              "    </tr>\n",
              "    <tr>\n",
              "      <th>...</th>\n",
              "      <td>...</td>\n",
              "      <td>...</td>\n",
              "      <td>...</td>\n",
              "      <td>...</td>\n",
              "      <td>...</td>\n",
              "    </tr>\n",
              "    <tr>\n",
              "      <th>3029</th>\n",
              "      <td>SUR</td>\n",
              "      <td>2019</td>\n",
              "      <td>16.38</td>\n",
              "      <td>20.0</td>\n",
              "      <td>Surinam</td>\n",
              "    </tr>\n",
              "    <tr>\n",
              "      <th>3043</th>\n",
              "      <td>TTO</td>\n",
              "      <td>2019</td>\n",
              "      <td>24.74</td>\n",
              "      <td>39.0</td>\n",
              "      <td>Trinidad y Tobago</td>\n",
              "    </tr>\n",
              "    <tr>\n",
              "      <th>3050</th>\n",
              "      <td>URY</td>\n",
              "      <td>2019</td>\n",
              "      <td>16.06</td>\n",
              "      <td>19.0</td>\n",
              "      <td>Uruguay</td>\n",
              "    </tr>\n",
              "    <tr>\n",
              "      <th>3051</th>\n",
              "      <td>USA</td>\n",
              "      <td>2019</td>\n",
              "      <td>25.69</td>\n",
              "      <td>48.0</td>\n",
              "      <td>Estados Unidos</td>\n",
              "    </tr>\n",
              "    <tr>\n",
              "      <th>3053</th>\n",
              "      <td>VEN</td>\n",
              "      <td>2019</td>\n",
              "      <td>49.10</td>\n",
              "      <td>148.0</td>\n",
              "      <td>Venezuela</td>\n",
              "    </tr>\n",
              "  </tbody>\n",
              "</table>\n",
              "<p>493 rows × 5 columns</p>\n",
              "</div>"
            ],
            "text/plain": [
              "     codigo_iso  anio  indice  ranking               pais\n",
              "5           ARG  2001   12.00      8.0          Argentina\n",
              "7           ATG  2001     NaN      NaN  Antigua y Barbuda\n",
              "20          BLZ  2001     NaN      NaN             Belize\n",
              "21          BOL  2001   14.50     13.0            Bolivia\n",
              "22          BRA  2001   18.80     18.0             Brasil\n",
              "...         ...   ...     ...      ...                ...\n",
              "3029        SUR  2019   16.38     20.0            Surinam\n",
              "3043        TTO  2019   24.74     39.0  Trinidad y Tobago\n",
              "3050        URY  2019   16.06     19.0            Uruguay\n",
              "3051        USA  2019   25.69     48.0     Estados Unidos\n",
              "3053        VEN  2019   49.10    148.0          Venezuela\n",
              "\n",
              "[493 rows x 5 columns]"
            ]
          },
          "execution_count": 132,
          "metadata": {},
          "output_type": "execute_result"
        }
      ],
      "source": [
        "# respuesta\n",
        "america = ['ARG', 'ATG', 'BLZ', 'BOL', 'BRA', 'CAN', 'CHL', 'COL', 'CRI',\n",
        "       'CUB', 'DOM', 'ECU', 'GRD', 'GTM', 'GUY', 'HND', 'HTI', 'JAM',\n",
        "       'MEX', 'NIC', 'PAN', 'PER', 'PRY', 'SLV', 'SUR', 'TTO', 'URY',\n",
        "       'USA', 'VEN']\n",
        "\n",
        "df_america =  df.loc[df[\"codigo_iso\"].isin(america)]\n",
        "df_america "
      ]
    },
    {
      "cell_type": "code",
      "execution_count": 174,
      "id": "d0b47c24",
      "metadata": {},
      "outputs": [
        {
          "name": "stdout",
          "output_type": "stream",
          "text": [
            "\n",
            "En el año  2001 \n",
            "el mejor pais fue : Canadá \n",
            "El peor pais fue : Cuba\n",
            "\n",
            "En el año  2002 \n",
            "el mejor pais fue : Trinidad y Tobago \n",
            "El peor pais fue : Cuba\n",
            "\n",
            "En el año  2003 \n",
            "el mejor pais fue : Trinidad y Tobago \n",
            "El peor pais fue : Argentina\n",
            "\n",
            "En el año  2004 \n",
            "el mejor pais fue : Trinidad y Tobago \n",
            "El peor pais fue : Cuba\n",
            "\n",
            "En el año  2005 \n",
            "el mejor pais fue : Bolivia \n",
            "El peor pais fue : Cuba\n",
            "\n",
            "En el año  2006 \n",
            "el mejor pais fue : Canadá \n",
            "El peor pais fue : Cuba\n",
            "\n",
            "En el año  2007 \n",
            "el mejor pais fue : Canadá \n",
            "El peor pais fue : Cuba\n",
            "\n",
            "En el año  2008 \n",
            "el mejor pais fue : Canadá \n",
            "El peor pais fue : Cuba\n",
            "\n",
            "En el año  2009 \n",
            "el mejor pais fue : Estados Unidos \n",
            "El peor pais fue : Cuba\n",
            "\n",
            "En el año  2012 \n",
            "el mejor pais fue : Jamaica \n",
            "El peor pais fue : Cuba\n",
            "\n",
            "En el año  2013 \n",
            "el mejor pais fue : Jamaica \n",
            "El peor pais fue : Cuba\n",
            "\n",
            "En el año  2014 \n",
            "el mejor pais fue : Canadá \n",
            "El peor pais fue : Cuba\n",
            "\n",
            "En el año  2015 \n",
            "el mejor pais fue : Costa Rica \n",
            "El peor pais fue : Cuba\n",
            "\n",
            "El año  2016 no tiene datos válidos\n",
            "\n",
            "En el año  2017 \n",
            "el mejor pais fue : Costa Rica \n",
            "El peor pais fue : Cuba\n",
            "\n",
            "En el año  2018 \n",
            "el mejor pais fue : Jamaica \n",
            "El peor pais fue : Cuba\n",
            "\n",
            "En el año  2019 \n",
            "el mejor pais fue : Jamaica \n",
            "El peor pais fue : Cuba\n"
          ]
        }
      ],
      "source": [
        "lista_años = df_america[\"anio\"].unique()\n",
        "\n",
        "for año in lista_años:\n",
        "\n",
        "    df_temp = df_america[df_america[\"anio\"] == año]\n",
        "    valores = df_temp[\"indice\"].dropna()\n",
        "\n",
        "    if len(valores) > 0:\n",
        "        #print(año)\n",
        "        indice = df_temp[\"indice\"].idxmin()\n",
        "        min_temp = df_temp.loc[indice][\"pais\"]\n",
        "\n",
        "        indice = df_temp[\"indice\"].idxmax()\n",
        "        max_temp = df_temp.loc[indice][\"pais\"]\n",
        "\n",
        "        print(\"\\nEn el año \", año, \"\\nel mejor pais fue :\", min_temp, \"\\nEl peor pais fue :\", max_temp)\n",
        "\n",
        "    else:\n",
        "        print(\"\\nEl año \", año, \"no tiene datos válidos\")"
      ]
    },
    {
      "cell_type": "code",
      "execution_count": 211,
      "id": "4cf4944f",
      "metadata": {},
      "outputs": [
        {
          "name": "stdout",
          "output_type": "stream",
          "text": [
            "     Año  Mejor indice         Mejor Pais  Peor indice  Peor Pais\n",
            "0   2001          0.80             Canadá        90.30       Cuba\n",
            "1   2002          1.00  Trinidad y Tobago        97.83       Cuba\n",
            "2   2003          2.00  Trinidad y Tobago     35826.00  Argentina\n",
            "3   2004          2.00  Trinidad y Tobago        87.00       Cuba\n",
            "4   2005          4.50            Bolivia        95.00       Cuba\n",
            "5   2006          4.88             Canadá        96.17       Cuba\n",
            "6   2007          3.33             Canadá        88.33       Cuba\n",
            "7   2008          3.70             Canadá        94.00       Cuba\n",
            "8   2009          6.75     Estados Unidos        78.00       Cuba\n",
            "9   2012          9.88            Jamaica        71.64       Cuba\n",
            "10  2013         10.90            Jamaica        70.92       Cuba\n",
            "11  2014         10.99             Canadá        70.21       Cuba\n",
            "12  2015         11.10         Costa Rica        70.23       Cuba\n",
            "13  2017         11.93         Costa Rica        71.75       Cuba\n",
            "14  2018         11.33            Jamaica        68.90       Cuba\n",
            "15  2019         11.13            Jamaica        63.81       Cuba\n"
          ]
        }
      ],
      "source": [
        "df_america_filtrado = df_america.dropna(subset=[\"indice\"])\n",
        "\n",
        "mejores = df_america.loc[df_america_filtrado.groupby(\"anio\")[\"indice\"].idxmin()]\n",
        "mejores = mejores.drop([\"codigo_iso\", \"ranking\"], axis=1)\n",
        "mejores.columns = [\"Año\", \"Mejor indice\", \"Mejor Pais\"]\n",
        "\n",
        "peores = df_america.loc[df_america_filtrado.groupby(\"anio\")[\"indice\"].idxmax()]\n",
        "peores = peores.drop([\"codigo_iso\", \"ranking\"], axis=1)\n",
        "peores.columns = [\"Año\", \"Peor indice\", \"Peor Pais\"]\n",
        "\n",
        "print(pd.merge(mejores, peores, on=\"Año\", how=\"outer\"))"
      ]
    },
    {
      "cell_type": "markdown",
      "id": "91532f43",
      "metadata": {
        "id": "91532f43"
      },
      "source": [
        "### 4. Análisis anual del índice por país\n",
        "\n",
        "En esta sección se busca analizar la evolución del **índice máximo** de libertad de prensa alcanzado por cada país a lo largo del tiempo.\n",
        "\n",
        "#### **Tarea principal:**\n",
        "\n",
        "* Construye una tabla dinámica (`pivot_table`) donde las **filas** correspondan a los países, las **columnas** a los años (`anio`) y los **valores** sean el `indice` máximo alcanzado por cada país en ese año.\n",
        "* Asegúrate de reemplazar los valores nulos resultantes con `0`.\n",
        "\n",
        "> **Hint**: Puedes utilizar el parámetro `fill_value=0` en `pd.pivot_table(...)`.\n",
        "\n",
        "\n",
        "\n",
        "#### **Preguntas adicionales:**\n",
        "\n",
        "**a)** ¿Qué país tiene el mayor valor de `indice` en toda la tabla resultante? ¿Y cuál tiene el menor (distinto de cero)?\n",
        "**b)** ¿Qué años presentan en promedio los valores de `indice` más altos? ¿Y los más bajos?\n",
        "\n",
        "> (Pista: usa `.mean(axis=0)` sobre la tabla pivot)\n",
        "\n",
        "**c)** ¿Qué país muestra mayor **variabilidad** (diferencia entre su máximo y mínimo `indice` a lo largo del tiempo)?\n",
        "\n",
        "> (Pista: aplica `.max(axis=1) - .min(axis=1)`)\n",
        "\n",
        "**d)** ¿Existen países con índice constante a lo largo de todos los años registrados? ¿Cuáles?\n",
        "\n",
        "**e)** ¿Qué países no tienen ningún dato (es decir, quedaron con todos los valores igual a 0)? ¿Podrías explicar por qué?\n",
        "\n",
        "\n",
        "\n"
      ]
    },
    {
      "cell_type": "code",
      "execution_count": 276,
      "id": "c844a0a8",
      "metadata": {
        "id": "c844a0a8"
      },
      "outputs": [],
      "source": [
        "pivot_table = pd.pivot_table(df, index=\"pais\", columns=\"anio\", values=\"indice\", aggfunc=\"max\", fill_value=0)\n",
        "\n",
        "pivot_table = pivot_table.replace(0, np.nan)\n"
      ]
    },
    {
      "cell_type": "code",
      "execution_count": 277,
      "id": "c8c6eab6",
      "metadata": {},
      "outputs": [
        {
          "name": "stdout",
          "output_type": "stream",
          "text": [
            "El pais con mayor valor es Kosovo con 64536.0\n",
            "\n",
            "El pais con menor valor es Austria con 0.5\n"
          ]
        }
      ],
      "source": [
        "max_indice = pivot_table.max().max()\n",
        "max_pais = pivot_table.max(axis = 1).idxmax()\n",
        "\n",
        "min_indice = pivot_table.loc[(pivot_table > 0).all(axis=1)].min().min()\n",
        "min_indice = min_indice.min().min()\n",
        "min_pais = pivot_table.min(axis = 1).idxmin()\n",
        "\n",
        "#m_indice\n",
        "\n",
        "print(\"El pais con mayor valor es\", max_pais, \"con\", max_indice )\n",
        "print(\"\\nEl pais con menor valor es\", min_pais, \"con\", min_indice )"
      ]
    },
    {
      "cell_type": "code",
      "execution_count": 278,
      "id": "6fb4d158",
      "metadata": {},
      "outputs": [
        {
          "name": "stdout",
          "output_type": "stream",
          "text": [
            "El año con mayor promedio es 2012 con : 468.88350877192977 \n",
            "El año con menor promedio  2002 con : 25.879683544303795\n"
          ]
        }
      ],
      "source": [
        "promedios_año = pivot_table.mean(axis=0)\n",
        "\n",
        "año_max_prom = promedios_año.idxmax()\n",
        "año_min_prom = promedios_año.idxmin()\n",
        "\n",
        "print(\"El año con mayor promedio es\",  año_max_prom, \"con :\", promedios_año.max(), \"\\nEl año con menor promedio \", año_min_prom, \"con :\", promedios_año.min())"
      ]
    },
    {
      "cell_type": "code",
      "execution_count": 279,
      "id": "f38cb5ac",
      "metadata": {},
      "outputs": [
        {
          "name": "stdout",
          "output_type": "stream",
          "text": [
            "El pais con mayor variabilidad es : Kosovo con : 46098.0\n"
          ]
        }
      ],
      "source": [
        "variabilidad = pivot_table.max(axis=1) - pivot_table.min(axis=1)\n",
        "pais_max_var = variabilidad.idxmax()\n",
        "\n",
        "print(\"El pais con mayor variabilidad es :\", pais_max_var,  \"con :\", variabilidad.max())"
      ]
    },
    {
      "cell_type": "code",
      "execution_count": null,
      "id": "f998d1bf",
      "metadata": {},
      "outputs": [
        {
          "name": "stdout",
          "output_type": "stream",
          "text": [
            "Existen 2 paises con indice constante:\n",
            " ['Antigua y Barbuda', 'Granada']\n"
          ]
        }
      ],
      "source": [
        "constantes = pivot_table.nunique(axis=1)\n",
        "constantes = constantes[constantes == 1]\n",
        "\n",
        "print(\"Existen\", len(constantes), \"paises con indice constante:\\n\", constantes.index.tolist())"
      ]
    },
    {
      "cell_type": "code",
      "execution_count": 288,
      "id": "728e3f35",
      "metadata": {},
      "outputs": [
        {
          "name": "stdout",
          "output_type": "stream",
          "text": [
            "los paises sin datos : []\n"
          ]
        }
      ],
      "source": [
        "nodatos = (pivot_table == 0)\n",
        "nodatos = nodatos.all(axis=1)\n",
        "nodatos = pivot_table[nodatos].index.tolist()\n",
        "\n",
        "print(\"los paises sin datos :\", nodatos)"
      ]
    }
  ],
  "metadata": {
    "colab": {
      "provenance": []
    },
    "kernelspec": {
      "display_name": "Python 3",
      "language": "python",
      "name": "python3"
    },
    "language_info": {
      "codemirror_mode": {
        "name": "ipython",
        "version": 3
      },
      "file_extension": ".py",
      "mimetype": "text/x-python",
      "name": "python",
      "nbconvert_exporter": "python",
      "pygments_lexer": "ipython3",
      "version": "3.13.2"
    }
  },
  "nbformat": 4,
  "nbformat_minor": 5
}
