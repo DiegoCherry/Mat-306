{
  "cells": [
    {
      "cell_type": "markdown",
      "id": "64fe4451",
      "metadata": {
        "id": "64fe4451"
      },
      "source": [
        "<a href=\"https://colab.research.google.com/github/fralfaro/MAT306/blob/main/docs/labs/lab_04.ipynb\" target=\"_parent\"><img src=\"https://colab.research.google.com/assets/colab-badge.svg\" alt=\"Open In Colab\"/></a>\n",
        "\n",
        "# MAT306 - Laboratorio N°04\n"
      ]
    },
    {
      "cell_type": "markdown",
      "id": "27b10378",
      "metadata": {
        "id": "27b10378"
      },
      "source": [
        "**Objetivo**: Aplicar técnicas intermedias y avanzadas de análisis de datos con pandas utilizando un caso real: el Índice de Libertad de Prensa. Este laboratorio incluye operaciones de limpieza, transformación, combinación de datos, y análisis exploratorio usando `merge`, `groupby`, `concat` y otras funciones fundamentales.\n"
      ]
    },
    {
      "cell_type": "markdown",
      "id": "63a15921",
      "metadata": {
        "id": "63a15921"
      },
      "source": [
        "\n",
        "\n",
        "**Descripción del Dataset**\n",
        "\n",
        "El presente conjunto de datos está orientado al análisis del **Índice de Libertad de Prensa**, una métrica internacional que evalúa el nivel de libertad del que gozan periodistas y medios de comunicación en distintos países. Este índice es recopilado anualmente por la organización **Reporteros sin Fronteras**.\n",
        "\n",
        "La base de datos contempla observaciones por país y año, e incluye tanto el valor del índice como el ranking correspondiente. A menor puntaje en el índice, mayor nivel de libertad de prensa.\n",
        "\n",
        "**Diccionario de variables**\n",
        "\n",
        "| Variable     | Clase    | Descripción                                                                          |\n",
        "| ------------ | -------- | ------------------------------------------------------------------------------------ |\n",
        "| `codigo_iso` | carácter | Código ISO 3166-1 alfa-3 que representa a cada país.                                 |\n",
        "| `pais`       | carácter | Nombre oficial del país.                                                             |\n",
        "| `anio`       | entero   | Año en que se registró la medición del índice.                                       |\n",
        "| `indice`     | numérico | Valor numérico del Índice de Libertad de Prensa (menor valor indica mayor libertad). |\n",
        "| `ranking`    | entero   | Posición relativa del país en el ranking mundial de libertad de prensa.              |\n",
        "\n",
        "\n",
        "**Fuente original y adaptación pedagógica**\n",
        "\n",
        "* **Fuente original**: [Reporteros sin Fronteras](https://www.rsf-es.org/), recopilado y publicado a través del portal del [Banco Mundial](https://tcdata360.worldbank.org/indicators/h3f86901f?country=BRA&indicator=32416&viz=line_chart&years=2001,2019).\n",
        "* **Adaptación educativa**: Los archivos han sido modificados intencionalmente para incorporar desafíos técnicos que permiten aplicar los contenidos abordados en clases, tales como limpieza de datos, normalización, detección de duplicados, y combinación de fuentes.\n",
        "\n",
        "\n",
        "**Descripción de los archivos disponibles**\n",
        "\n",
        "* **`libertad_prensa_codigo.csv`**: Contiene los pares `codigo_iso` y `pais`. Incluye intencionalmente un código ISO con dos nombres distintos de país para efectos de limpieza y validación de datos.\n",
        "\n",
        "* **`libertad_prensa_01.csv`**: Contiene registros de los años **anteriores a 2010**. Incluye las variables `PAIS`, `ANIO`, `INDICE`, y `RANKING` con nombres de columna en **mayúsculas**.\n",
        "\n",
        "* **`libertad_prensa_02.csv`**: Contiene registros de los años **desde 2010 en adelante**. Estructura similar al archivo anterior, con nombres de columna también en **mayúsculas**.\n",
        "\n",
        "\n",
        "\n"
      ]
    },
    {
      "cell_type": "code",
      "execution_count": 1,
      "id": "28a58320",
      "metadata": {
        "id": "28a58320"
      },
      "outputs": [],
      "source": [
        "import numpy as np\n",
        "import pandas as pd\n",
        "\n",
        "# lectura de datos\n",
        "archivos_anio = [\n",
        "    'https://raw.githubusercontent.com/fralfaro/MAT306/main/docs/labs/data/libertad_prensa_01.csv',\n",
        "    'https://raw.githubusercontent.com/fralfaro/MAT306/main/docs/labs/data/libertad_prensa_02.csv'\n",
        " ]\n",
        "df_codigos = pd.read_csv('https://raw.githubusercontent.com/fralfaro/MAT306/main/docs/labs/data/libertad_prensa_codigo.csv')"
      ]
    },
    {
      "cell_type": "markdown",
      "id": "0894056d",
      "metadata": {
        "id": "0894056d"
      },
      "source": [
        "\n",
        "\n",
        "### 1. Consolidación y limpieza de datos\n",
        "\n",
        "A partir de los archivos disponibles, realice los siguientes pasos:\n",
        "\n",
        "**a)** Cree un DataFrame llamado `df_anio` que consolide la información proveniente de los archivos **`libertad_prensa_01.csv`** y **`libertad_prensa_02.csv`**, correspondientes a distintas ventanas de tiempo. Recuerde que ambos archivos tienen nombres de columnas en mayúscula, por lo que debe normalizarlas a **minúscula** para asegurar consistencia.\n",
        "\n",
        "**b)** Explore el archivo **`libertad_prensa_codigo.csv`** e identifique el código ISO que aparece asociado a dos nombres de país distintos. Elimine el registro que corresponda a un valor incorrecto o inconsistente, conservando solo el que considere válido.\n",
        "\n",
        "**c)** Una vez preparados los archivos, cree un nuevo DataFrame llamado `df` que combine `df_anio` con `df_codigos`, utilizando la columna `codigo_iso` como clave. Asegúrese de realizar una unión que conserve únicamente los registros que tengan coincidencia en ambas fuentes.\n",
        "\n",
        "> **Sugerencia**:\n",
        ">\n",
        "> * Para unir los archivos por filas (años), utilice la función `pd.concat([...])`.\n",
        "> * Para combinar información por columnas (variables), utilice `pd.merge(...)` especificando `on='codigo_iso'`.\n",
        "\n"
      ]
    },
    {
      "cell_type": "code",
      "execution_count": 2,
      "id": "cfd268a0",
      "metadata": {
        "id": "cfd268a0"
      },
      "outputs": [
        {
          "data": {
            "application/vnd.microsoft.datawrangler.viewer.v0+json": {
              "columns": [
                {
                  "name": "index",
                  "rawType": "int64",
                  "type": "integer"
                },
                {
                  "name": "codigo_iso",
                  "rawType": "object",
                  "type": "string"
                },
                {
                  "name": "anio",
                  "rawType": "int64",
                  "type": "integer"
                },
                {
                  "name": "indice",
                  "rawType": "float64",
                  "type": "float"
                },
                {
                  "name": "ranking",
                  "rawType": "float64",
                  "type": "float"
                }
              ],
              "ref": "ceaa1a30-7459-4523-8041-c343e85e092f",
              "rows": [
                [
                  "0",
                  "AFG",
                  "2001",
                  "35.5",
                  "59.0"
                ],
                [
                  "1",
                  "AGO",
                  "2001",
                  "30.2",
                  "50.0"
                ],
                [
                  "2",
                  "ALB",
                  "2001",
                  null,
                  null
                ],
                [
                  "3",
                  "AND",
                  "2001",
                  null,
                  null
                ],
                [
                  "4",
                  "ARE",
                  "2001",
                  null,
                  null
                ],
                [
                  "5",
                  "ARG",
                  "2001",
                  "12.0",
                  "8.0"
                ],
                [
                  "6",
                  "ARM",
                  "2001",
                  null,
                  null
                ],
                [
                  "7",
                  "ATG",
                  "2001",
                  null,
                  null
                ],
                [
                  "8",
                  "AUS",
                  "2001",
                  "3.5",
                  "48.0"
                ],
                [
                  "9",
                  "AUT",
                  "2001",
                  "7.5",
                  "86.0"
                ],
                [
                  "10",
                  "AZE",
                  "2001",
                  "34.5",
                  "57.0"
                ],
                [
                  "11",
                  "BDI",
                  "2001",
                  "24.5",
                  "32.0"
                ],
                [
                  "12",
                  "BEL",
                  "2001",
                  "3.5",
                  "48.0"
                ],
                [
                  "13",
                  "BEN",
                  "2001",
                  "6.0",
                  "80.0"
                ],
                [
                  "14",
                  "BFA",
                  "2001",
                  "27.8",
                  "42.0"
                ],
                [
                  "15",
                  "BGD",
                  "2001",
                  "43.8",
                  "72.0"
                ],
                [
                  "16",
                  "BGR",
                  "2001",
                  "9.8",
                  "98.0"
                ],
                [
                  "17",
                  "BHR",
                  "2001",
                  "23.0",
                  "28.0"
                ],
                [
                  "18",
                  "BIH",
                  "2001",
                  "12.5",
                  "9.0"
                ],
                [
                  "19",
                  "BLR",
                  "2001",
                  "52.2",
                  "79.0"
                ],
                [
                  "20",
                  "BLZ",
                  "2001",
                  null,
                  null
                ],
                [
                  "21",
                  "BOL",
                  "2001",
                  "14.5",
                  "13.0"
                ],
                [
                  "22",
                  "BRA",
                  "2001",
                  "18.8",
                  "18.0"
                ],
                [
                  "23",
                  "BRN",
                  "2001",
                  null,
                  null
                ],
                [
                  "24",
                  "BTN",
                  "2001",
                  "90.8",
                  "100.0"
                ],
                [
                  "25",
                  "BWA",
                  "2001",
                  null,
                  null
                ],
                [
                  "26",
                  "CAF",
                  "2001",
                  "21.5",
                  "25.0"
                ],
                [
                  "27",
                  "CAN",
                  "2001",
                  "0.8",
                  "2.0"
                ],
                [
                  "28",
                  "CHE",
                  "2001",
                  "4.3",
                  "65.0"
                ],
                [
                  "29",
                  "CHL",
                  "2001",
                  "6.5",
                  "81.0"
                ],
                [
                  "30",
                  "CHN",
                  "2001",
                  "97.0",
                  "103.0"
                ],
                [
                  "31",
                  "CIV",
                  "2001",
                  "19.0",
                  "19.0"
                ],
                [
                  "32",
                  "CMR",
                  "2001",
                  "28.8",
                  "44.0"
                ],
                [
                  "33",
                  "COD",
                  "2001",
                  null,
                  null
                ],
                [
                  "34",
                  "COG",
                  "2001",
                  "23.2",
                  "29.0"
                ],
                [
                  "35",
                  "COL",
                  "2001",
                  "40.8",
                  "68.0"
                ],
                [
                  "36",
                  "COM",
                  "2001",
                  "20.5",
                  "22.0"
                ],
                [
                  "37",
                  "CPV",
                  "2001",
                  "13.8",
                  "11.0"
                ],
                [
                  "38",
                  "CRI",
                  "2001",
                  "4.3",
                  "65.0"
                ],
                [
                  "39",
                  "CUB",
                  "2001",
                  "90.3",
                  "99.0"
                ],
                [
                  "40",
                  "CYP",
                  "2001",
                  null,
                  null
                ],
                [
                  "41",
                  "CZE",
                  "2001",
                  "11.3",
                  "7.0"
                ],
                [
                  "42",
                  "DEU",
                  "2001",
                  "1.5",
                  "4.0"
                ],
                [
                  "43",
                  "DJI",
                  "2001",
                  "31.3",
                  "53.0"
                ],
                [
                  "44",
                  "DNK",
                  "2001",
                  "3.0",
                  "46.0"
                ],
                [
                  "45",
                  "DOM",
                  "2001",
                  null,
                  null
                ],
                [
                  "46",
                  "DZA",
                  "2001",
                  "31.0",
                  "52.0"
                ],
                [
                  "47",
                  "ECU",
                  "2001",
                  "5.5",
                  "78.0"
                ],
                [
                  "48",
                  "EGY",
                  "2001",
                  "34.5",
                  "57.0"
                ],
                [
                  "49",
                  "ERI",
                  "2001",
                  "83.7",
                  "94.0"
                ]
              ],
              "shape": {
                "columns": 4,
                "rows": 3060
              }
            },
            "text/html": [
              "<div>\n",
              "<style scoped>\n",
              "    .dataframe tbody tr th:only-of-type {\n",
              "        vertical-align: middle;\n",
              "    }\n",
              "\n",
              "    .dataframe tbody tr th {\n",
              "        vertical-align: top;\n",
              "    }\n",
              "\n",
              "    .dataframe thead th {\n",
              "        text-align: right;\n",
              "    }\n",
              "</style>\n",
              "<table border=\"1\" class=\"dataframe\">\n",
              "  <thead>\n",
              "    <tr style=\"text-align: right;\">\n",
              "      <th></th>\n",
              "      <th>codigo_iso</th>\n",
              "      <th>anio</th>\n",
              "      <th>indice</th>\n",
              "      <th>ranking</th>\n",
              "    </tr>\n",
              "  </thead>\n",
              "  <tbody>\n",
              "    <tr>\n",
              "      <th>0</th>\n",
              "      <td>AFG</td>\n",
              "      <td>2001</td>\n",
              "      <td>35.50</td>\n",
              "      <td>59.0</td>\n",
              "    </tr>\n",
              "    <tr>\n",
              "      <th>1</th>\n",
              "      <td>AGO</td>\n",
              "      <td>2001</td>\n",
              "      <td>30.20</td>\n",
              "      <td>50.0</td>\n",
              "    </tr>\n",
              "    <tr>\n",
              "      <th>2</th>\n",
              "      <td>ALB</td>\n",
              "      <td>2001</td>\n",
              "      <td>NaN</td>\n",
              "      <td>NaN</td>\n",
              "    </tr>\n",
              "    <tr>\n",
              "      <th>3</th>\n",
              "      <td>AND</td>\n",
              "      <td>2001</td>\n",
              "      <td>NaN</td>\n",
              "      <td>NaN</td>\n",
              "    </tr>\n",
              "    <tr>\n",
              "      <th>4</th>\n",
              "      <td>ARE</td>\n",
              "      <td>2001</td>\n",
              "      <td>NaN</td>\n",
              "      <td>NaN</td>\n",
              "    </tr>\n",
              "    <tr>\n",
              "      <th>...</th>\n",
              "      <td>...</td>\n",
              "      <td>...</td>\n",
              "      <td>...</td>\n",
              "      <td>...</td>\n",
              "    </tr>\n",
              "    <tr>\n",
              "      <th>3055</th>\n",
              "      <td>WSM</td>\n",
              "      <td>2019</td>\n",
              "      <td>18.25</td>\n",
              "      <td>22.0</td>\n",
              "    </tr>\n",
              "    <tr>\n",
              "      <th>3056</th>\n",
              "      <td>YEM</td>\n",
              "      <td>2019</td>\n",
              "      <td>61.66</td>\n",
              "      <td>168.0</td>\n",
              "    </tr>\n",
              "    <tr>\n",
              "      <th>3057</th>\n",
              "      <td>ZAF</td>\n",
              "      <td>2019</td>\n",
              "      <td>22.19</td>\n",
              "      <td>31.0</td>\n",
              "    </tr>\n",
              "    <tr>\n",
              "      <th>3058</th>\n",
              "      <td>ZMB</td>\n",
              "      <td>2019</td>\n",
              "      <td>36.38</td>\n",
              "      <td>119.0</td>\n",
              "    </tr>\n",
              "    <tr>\n",
              "      <th>3059</th>\n",
              "      <td>ZWE</td>\n",
              "      <td>2019</td>\n",
              "      <td>42.23</td>\n",
              "      <td>127.0</td>\n",
              "    </tr>\n",
              "  </tbody>\n",
              "</table>\n",
              "<p>3060 rows × 4 columns</p>\n",
              "</div>"
            ],
            "text/plain": [
              "     codigo_iso  anio  indice  ranking\n",
              "0           AFG  2001   35.50     59.0\n",
              "1           AGO  2001   30.20     50.0\n",
              "2           ALB  2001     NaN      NaN\n",
              "3           AND  2001     NaN      NaN\n",
              "4           ARE  2001     NaN      NaN\n",
              "...         ...   ...     ...      ...\n",
              "3055        WSM  2019   18.25     22.0\n",
              "3056        YEM  2019   61.66    168.0\n",
              "3057        ZAF  2019   22.19     31.0\n",
              "3058        ZMB  2019   36.38    119.0\n",
              "3059        ZWE  2019   42.23    127.0\n",
              "\n",
              "[3060 rows x 4 columns]"
            ]
          },
          "execution_count": 2,
          "metadata": {},
          "output_type": "execute_result"
        }
      ],
      "source": [
        "lista_df = []\n",
        "\n",
        "for archivo in archivos_anio:\n",
        "\n",
        "    df_temp = pd.read_csv(archivo)\n",
        "    df_temp.columns = df_temp.columns.str.lower()  \n",
        "\n",
        "    lista_df.append(df_temp)\n",
        "\n",
        "df_anio = pd.concat(lista_df, ignore_index=True)\n",
        "df_anio"
      ]
    },
    {
      "cell_type": "code",
      "execution_count": 4,
      "id": "199a9a38",
      "metadata": {},
      "outputs": [
        {
          "name": "stdout",
          "output_type": "stream",
          "text": [
            "Codigo iso repetido :  ZWE\n",
            "Paises asociados :  ['Zimbabue', 'malo']\n"
          ]
        }
      ],
      "source": [
        "agrupado = df_codigos.groupby(\"codigo_iso\")[\"pais\"]\n",
        "agrupado = agrupado.nunique().sort_values(ascending=False)\n",
        "\n",
        "print(\"Codigo iso repetido : \", agrupado.index[0])\n",
        "\n",
        "lista_paises = df_codigos[df_codigos[\"codigo_iso\"] == agrupado.index[0]][\"pais\"]\n",
        "lista_paises = lista_paises.tolist()\n",
        "\n",
        "print(\"Paises asociados : \", lista_paises)"
      ]
    },
    {
      "cell_type": "code",
      "execution_count": 5,
      "id": "2a77ade4",
      "metadata": {},
      "outputs": [],
      "source": [
        "# asumiendo que \"MALO\" es el error\n",
        "\n",
        "indice = df_codigos.loc[df_codigos[\"pais\"] == lista_paises[1]].index\n",
        "\n",
        "df_codigos = df_codigos.drop(indice)"
      ]
    },
    {
      "cell_type": "code",
      "execution_count": 6,
      "id": "075054d8",
      "metadata": {},
      "outputs": [
        {
          "data": {
            "application/vnd.microsoft.datawrangler.viewer.v0+json": {
              "columns": [
                {
                  "name": "index",
                  "rawType": "int64",
                  "type": "integer"
                },
                {
                  "name": "codigo_iso",
                  "rawType": "object",
                  "type": "string"
                },
                {
                  "name": "anio",
                  "rawType": "int64",
                  "type": "integer"
                },
                {
                  "name": "indice",
                  "rawType": "float64",
                  "type": "float"
                },
                {
                  "name": "ranking",
                  "rawType": "float64",
                  "type": "float"
                },
                {
                  "name": "pais",
                  "rawType": "object",
                  "type": "string"
                }
              ],
              "ref": "b340ffaf-f004-4699-91aa-12f991e0cb93",
              "rows": [
                [
                  "0",
                  "AFG",
                  "2001",
                  "35.5",
                  "59.0",
                  "Afghanistán"
                ],
                [
                  "1",
                  "AGO",
                  "2001",
                  "30.2",
                  "50.0",
                  "Angola"
                ],
                [
                  "2",
                  "ALB",
                  "2001",
                  null,
                  null,
                  "Albania"
                ],
                [
                  "3",
                  "AND",
                  "2001",
                  null,
                  null,
                  "Andorra"
                ],
                [
                  "4",
                  "ARE",
                  "2001",
                  null,
                  null,
                  "Emiratos Árabes Unidos"
                ],
                [
                  "5",
                  "ARG",
                  "2001",
                  "12.0",
                  "8.0",
                  "Argentina"
                ],
                [
                  "6",
                  "ARM",
                  "2001",
                  null,
                  null,
                  "Armenia"
                ],
                [
                  "7",
                  "ATG",
                  "2001",
                  null,
                  null,
                  "Antigua y Barbuda"
                ],
                [
                  "8",
                  "AUS",
                  "2001",
                  "3.5",
                  "48.0",
                  "Australia"
                ],
                [
                  "9",
                  "AUT",
                  "2001",
                  "7.5",
                  "86.0",
                  "Austria"
                ],
                [
                  "10",
                  "AZE",
                  "2001",
                  "34.5",
                  "57.0",
                  "Azerbaijan"
                ],
                [
                  "11",
                  "BDI",
                  "2001",
                  "24.5",
                  "32.0",
                  "Burundi"
                ],
                [
                  "12",
                  "BEL",
                  "2001",
                  "3.5",
                  "48.0",
                  "Bélgica"
                ],
                [
                  "13",
                  "BEN",
                  "2001",
                  "6.0",
                  "80.0",
                  "Benin"
                ],
                [
                  "14",
                  "BFA",
                  "2001",
                  "27.8",
                  "42.0",
                  "Burkina Faso"
                ],
                [
                  "15",
                  "BGD",
                  "2001",
                  "43.8",
                  "72.0",
                  "Bangladesh"
                ],
                [
                  "16",
                  "BGR",
                  "2001",
                  "9.8",
                  "98.0",
                  "Bulgaria"
                ],
                [
                  "17",
                  "BHR",
                  "2001",
                  "23.0",
                  "28.0",
                  "Bahrain"
                ],
                [
                  "18",
                  "BIH",
                  "2001",
                  "12.5",
                  "9.0",
                  "Bosnia y Herzegovina"
                ],
                [
                  "19",
                  "BLR",
                  "2001",
                  "52.2",
                  "79.0",
                  "Bielorrusia"
                ],
                [
                  "20",
                  "BLZ",
                  "2001",
                  null,
                  null,
                  "Belize"
                ],
                [
                  "21",
                  "BOL",
                  "2001",
                  "14.5",
                  "13.0",
                  "Bolivia"
                ],
                [
                  "22",
                  "BRA",
                  "2001",
                  "18.8",
                  "18.0",
                  "Brasil"
                ],
                [
                  "23",
                  "BRN",
                  "2001",
                  null,
                  null,
                  "Brunei Darussalam"
                ],
                [
                  "24",
                  "BTN",
                  "2001",
                  "90.8",
                  "100.0",
                  "Bhutan"
                ],
                [
                  "25",
                  "BWA",
                  "2001",
                  null,
                  null,
                  "Botswana"
                ],
                [
                  "26",
                  "CAF",
                  "2001",
                  "21.5",
                  "25.0",
                  "República Central Africana"
                ],
                [
                  "27",
                  "CAN",
                  "2001",
                  "0.8",
                  "2.0",
                  "Canadá"
                ],
                [
                  "28",
                  "CHE",
                  "2001",
                  "4.3",
                  "65.0",
                  "Suiza"
                ],
                [
                  "29",
                  "CHL",
                  "2001",
                  "6.5",
                  "81.0",
                  "Chile"
                ],
                [
                  "30",
                  "CHN",
                  "2001",
                  "97.0",
                  "103.0",
                  "China"
                ],
                [
                  "31",
                  "CIV",
                  "2001",
                  "19.0",
                  "19.0",
                  "Costa de Marfil"
                ],
                [
                  "32",
                  "CMR",
                  "2001",
                  "28.8",
                  "44.0",
                  "Camerún"
                ],
                [
                  "33",
                  "COD",
                  "2001",
                  null,
                  null,
                  "Congo, Dem. Rep."
                ],
                [
                  "34",
                  "COG",
                  "2001",
                  "23.2",
                  "29.0",
                  "Congo, Rep."
                ],
                [
                  "35",
                  "COL",
                  "2001",
                  "40.8",
                  "68.0",
                  "Colombia"
                ],
                [
                  "36",
                  "COM",
                  "2001",
                  "20.5",
                  "22.0",
                  "Comoros"
                ],
                [
                  "37",
                  "CPV",
                  "2001",
                  "13.8",
                  "11.0",
                  "Cabo Verde"
                ],
                [
                  "38",
                  "CRI",
                  "2001",
                  "4.3",
                  "65.0",
                  "Costa Rica"
                ],
                [
                  "39",
                  "CUB",
                  "2001",
                  "90.3",
                  "99.0",
                  "Cuba"
                ],
                [
                  "40",
                  "CYP",
                  "2001",
                  null,
                  null,
                  "Chipre"
                ],
                [
                  "41",
                  "CZE",
                  "2001",
                  "11.3",
                  "7.0",
                  "República Checa"
                ],
                [
                  "42",
                  "DEU",
                  "2001",
                  "1.5",
                  "4.0",
                  "Alemania"
                ],
                [
                  "43",
                  "DJI",
                  "2001",
                  "31.3",
                  "53.0",
                  "Djibouti"
                ],
                [
                  "44",
                  "DNK",
                  "2001",
                  "3.0",
                  "46.0",
                  "Dinamarca"
                ],
                [
                  "45",
                  "DOM",
                  "2001",
                  null,
                  null,
                  "República Dominicana"
                ],
                [
                  "46",
                  "DZA",
                  "2001",
                  "31.0",
                  "52.0",
                  "Algeria"
                ],
                [
                  "47",
                  "ECU",
                  "2001",
                  "5.5",
                  "78.0",
                  "Ecuador"
                ],
                [
                  "48",
                  "EGY",
                  "2001",
                  "34.5",
                  "57.0",
                  "Egipto"
                ],
                [
                  "49",
                  "ERI",
                  "2001",
                  "83.7",
                  "94.0",
                  "Eritrea"
                ]
              ],
              "shape": {
                "columns": 5,
                "rows": 3060
              }
            },
            "text/html": [
              "<div>\n",
              "<style scoped>\n",
              "    .dataframe tbody tr th:only-of-type {\n",
              "        vertical-align: middle;\n",
              "    }\n",
              "\n",
              "    .dataframe tbody tr th {\n",
              "        vertical-align: top;\n",
              "    }\n",
              "\n",
              "    .dataframe thead th {\n",
              "        text-align: right;\n",
              "    }\n",
              "</style>\n",
              "<table border=\"1\" class=\"dataframe\">\n",
              "  <thead>\n",
              "    <tr style=\"text-align: right;\">\n",
              "      <th></th>\n",
              "      <th>codigo_iso</th>\n",
              "      <th>anio</th>\n",
              "      <th>indice</th>\n",
              "      <th>ranking</th>\n",
              "      <th>pais</th>\n",
              "    </tr>\n",
              "  </thead>\n",
              "  <tbody>\n",
              "    <tr>\n",
              "      <th>0</th>\n",
              "      <td>AFG</td>\n",
              "      <td>2001</td>\n",
              "      <td>35.50</td>\n",
              "      <td>59.0</td>\n",
              "      <td>Afghanistán</td>\n",
              "    </tr>\n",
              "    <tr>\n",
              "      <th>1</th>\n",
              "      <td>AGO</td>\n",
              "      <td>2001</td>\n",
              "      <td>30.20</td>\n",
              "      <td>50.0</td>\n",
              "      <td>Angola</td>\n",
              "    </tr>\n",
              "    <tr>\n",
              "      <th>2</th>\n",
              "      <td>ALB</td>\n",
              "      <td>2001</td>\n",
              "      <td>NaN</td>\n",
              "      <td>NaN</td>\n",
              "      <td>Albania</td>\n",
              "    </tr>\n",
              "    <tr>\n",
              "      <th>3</th>\n",
              "      <td>AND</td>\n",
              "      <td>2001</td>\n",
              "      <td>NaN</td>\n",
              "      <td>NaN</td>\n",
              "      <td>Andorra</td>\n",
              "    </tr>\n",
              "    <tr>\n",
              "      <th>4</th>\n",
              "      <td>ARE</td>\n",
              "      <td>2001</td>\n",
              "      <td>NaN</td>\n",
              "      <td>NaN</td>\n",
              "      <td>Emiratos Árabes Unidos</td>\n",
              "    </tr>\n",
              "    <tr>\n",
              "      <th>...</th>\n",
              "      <td>...</td>\n",
              "      <td>...</td>\n",
              "      <td>...</td>\n",
              "      <td>...</td>\n",
              "      <td>...</td>\n",
              "    </tr>\n",
              "    <tr>\n",
              "      <th>3055</th>\n",
              "      <td>WSM</td>\n",
              "      <td>2019</td>\n",
              "      <td>18.25</td>\n",
              "      <td>22.0</td>\n",
              "      <td>Samoa</td>\n",
              "    </tr>\n",
              "    <tr>\n",
              "      <th>3056</th>\n",
              "      <td>YEM</td>\n",
              "      <td>2019</td>\n",
              "      <td>61.66</td>\n",
              "      <td>168.0</td>\n",
              "      <td>Yemen</td>\n",
              "    </tr>\n",
              "    <tr>\n",
              "      <th>3057</th>\n",
              "      <td>ZAF</td>\n",
              "      <td>2019</td>\n",
              "      <td>22.19</td>\n",
              "      <td>31.0</td>\n",
              "      <td>Sudáfrica</td>\n",
              "    </tr>\n",
              "    <tr>\n",
              "      <th>3058</th>\n",
              "      <td>ZMB</td>\n",
              "      <td>2019</td>\n",
              "      <td>36.38</td>\n",
              "      <td>119.0</td>\n",
              "      <td>Zambia</td>\n",
              "    </tr>\n",
              "    <tr>\n",
              "      <th>3059</th>\n",
              "      <td>ZWE</td>\n",
              "      <td>2019</td>\n",
              "      <td>42.23</td>\n",
              "      <td>127.0</td>\n",
              "      <td>Zimbabue</td>\n",
              "    </tr>\n",
              "  </tbody>\n",
              "</table>\n",
              "<p>3060 rows × 5 columns</p>\n",
              "</div>"
            ],
            "text/plain": [
              "     codigo_iso  anio  indice  ranking                    pais\n",
              "0           AFG  2001   35.50     59.0             Afghanistán\n",
              "1           AGO  2001   30.20     50.0                  Angola\n",
              "2           ALB  2001     NaN      NaN                 Albania\n",
              "3           AND  2001     NaN      NaN                 Andorra\n",
              "4           ARE  2001     NaN      NaN  Emiratos Árabes Unidos\n",
              "...         ...   ...     ...      ...                     ...\n",
              "3055        WSM  2019   18.25     22.0                   Samoa\n",
              "3056        YEM  2019   61.66    168.0                   Yemen\n",
              "3057        ZAF  2019   22.19     31.0               Sudáfrica\n",
              "3058        ZMB  2019   36.38    119.0                  Zambia\n",
              "3059        ZWE  2019   42.23    127.0                Zimbabue\n",
              "\n",
              "[3060 rows x 5 columns]"
            ]
          },
          "execution_count": 6,
          "metadata": {},
          "output_type": "execute_result"
        }
      ],
      "source": [
        "df = pd.merge(df_anio, df_codigos, on=\"codigo_iso\", how=\"inner\")\n",
        "df"
      ]
    },
    {
      "cell_type": "markdown",
      "id": "282e8301",
      "metadata": {
        "id": "282e8301"
      },
      "source": [
        "\n",
        "\n",
        "### 2. Exploración inicial del conjunto de datos\n",
        "\n",
        "Una vez que hayas consolidado el DataFrame final `df`, realiza un análisis exploratorio básico respondiendo las siguientes preguntas:\n",
        "\n",
        "#### **Estructura del DataFrame**\n",
        "\n",
        "* ¿Cuántas **filas (observaciones)** contiene el conjunto de datos?\n",
        "* ¿Cuántas **columnas** tiene el DataFrame?\n",
        "* ¿Cuáles son los **nombres de las columnas**?\n",
        "* ¿Qué **tipo de datos** tiene cada columna?\n",
        "* ¿Hay columnas con un tipo de dato inesperado (por ejemplo, fechas como strings)?\n",
        "\n",
        "#### **Resumen estadístico**\n",
        "\n",
        "* Genera un resumen estadístico del conjunto de datos con `.describe()`.\n",
        "  ¿Qué observas sobre los valores de `indice` y `ranking`?\n",
        "* ¿Qué valores mínimo, máximo y promedio tiene la columna `indice`?\n",
        "* ¿Qué países presentan los valores extremos en `indice` y `ranking`?\n",
        "\n",
        "#### **Datos faltantes**\n",
        "\n",
        "* ¿Cuántos valores nulos hay en cada columna?\n",
        "* ¿Qué proporción de observaciones tienen valores faltantes?\n",
        "* ¿Hay columnas con más del 30% de datos faltantes?\n",
        "\n",
        "#### **Unicidad y duplicados**\n",
        "\n",
        "* ¿Cuántos países distintos (`pais`) hay en el DataFrame?\n",
        "* ¿Cuántos años distintos (`anio`) hay representados?\n",
        "* ¿Existen filas duplicadas (exactamente iguales)? ¿Cuántas?\n",
        "\n",
        "#### **Validación cruzada de columnas**\n",
        "\n",
        "* ¿Hay inconsistencias entre el país (`pais`) y su código (`codigo_iso`)?\n",
        "  (por ejemplo, un mismo código ISO asociado a más de un país)\n",
        "\n",
        "> **Sugerencia**: Apoya tu análisis con funciones como `.info()`, `.nunique()`, `.isnull().sum()`, `.duplicated()`, `.value_counts()`, entre otras.\n",
        "\n",
        "\n",
        "\n",
        "    "
      ]
    },
    {
      "cell_type": "code",
      "execution_count": 7,
      "id": "ce5ebc97",
      "metadata": {},
      "outputs": [
        {
          "name": "stdout",
          "output_type": "stream",
          "text": [
            "El conjunto de datos contiene  3060 Filas y  5 Columnas\n",
            "Nombres de columnas:  ['codigo_iso', 'anio', 'indice', 'ranking', 'pais']\n",
            "\n",
            "Tipos de datos por columnas: \n",
            " codigo_iso     object\n",
            "anio            int64\n",
            "indice        float64\n",
            "ranking       float64\n",
            "pais           object\n",
            "dtype: object\n"
          ]
        }
      ],
      "source": [
        "print(\"El conjunto de datos contiene \", df.shape[0], \"Filas y \", df.shape[1], \"Columnas\")\n",
        "\n",
        "print(\"Nombres de columnas: \", list(df.columns))\n",
        "\n",
        "print(\"\\nTipos de datos por columnas: \\n\", df.dtypes)"
      ]
    },
    {
      "cell_type": "code",
      "execution_count": 9,
      "id": "169af768",
      "metadata": {},
      "outputs": [
        {
          "name": "stdout",
          "output_type": "stream",
          "text": [
            "              anio        indice        ranking\n",
            "count  3060.000000   2664.000000    2837.000000\n",
            "mean   2009.941176    205.782316     477.930913\n",
            "std       5.786024   2695.525264    6474.935347\n",
            "min    2001.000000      0.000000       1.000000\n",
            "25%    2005.000000     15.295000      34.000000\n",
            "50%    2009.000000     28.000000      70.000000\n",
            "75%    2015.000000     41.227500     110.000000\n",
            "max    2019.000000  64536.000000  121056.000000\n"
          ]
        }
      ],
      "source": [
        "print(df.describe())"
      ]
    },
    {
      "cell_type": "code",
      "execution_count": 8,
      "id": "1ac57743",
      "metadata": {},
      "outputs": [
        {
          "name": "stdout",
          "output_type": "stream",
          "text": [
            "Valor maximo : 64536.0 \n",
            "Valor minimo: 0.0 \n",
            "valor promedio:  205.7823160660661\n"
          ]
        }
      ],
      "source": [
        "print(\"Valor maximo :\", df[\"indice\"].max(), \"\\nValor minimo:\", df[\"indice\"].min(), \"\\nvalor promedio: \", df[\"indice\"].mean())"
      ]
    },
    {
      "cell_type": "code",
      "execution_count": 10,
      "id": "6a681c0c",
      "metadata": {},
      "outputs": [
        {
          "name": "stdout",
          "output_type": "stream",
          "text": [
            "Mínimo índice: 0.0 Dinamarca\n",
            "Máximo índice:  64536.0 Kosovo\n",
            "Mínimo ranking:  0.5 Finlandia\n",
            "Máximo ranking:  64527.0 Kosovo\n"
          ]
        }
      ],
      "source": [
        "indice_min = df.loc[df[\"indice\"].idxmin()]\n",
        "indice_max = df.loc[df[\"indice\"].idxmax()]\n",
        "ranking_min = df.loc[df[\"ranking\"].idxmin()]\n",
        "ranking_max = df.loc[df[\"ranking\"].idxmax()]\n",
        "\n",
        "print(\"Mínimo índice:\", indice_min[\"indice\"], indice_min[\"pais\"] )\n",
        "print(\"Máximo índice: \", indice_max[\"indice\"], indice_max[\"pais\"] )\n",
        "print(\"Mínimo ranking: \", ranking_min[\"indice\"], ranking_min[\"pais\"])\n",
        "print(\"Máximo ranking: \", ranking_max[\"indice\"], ranking_max[\"pais\"])\n"
      ]
    },
    {
      "cell_type": "code",
      "execution_count": 28,
      "id": "990e190d",
      "metadata": {},
      "outputs": [
        {
          "name": "stdout",
          "output_type": "stream",
          "text": [
            "Cantidad valores nulos :\n",
            " codigo_iso      0\n",
            "anio            0\n",
            "indice        396\n",
            "ranking       223\n",
            "pais            0\n",
            "dtype: int64\n",
            "\n",
            "Porcentaje valores nulos :\n",
            " codigo_iso     0.000000\n",
            "anio           0.000000\n",
            "indice        12.941176\n",
            "ranking        7.287582\n",
            "pais           0.000000\n",
            "dtype: float64\n",
            "\n",
            "No hay columnas con mas de 30% de datos faltantes\n"
          ]
        }
      ],
      "source": [
        "nulos_columna = df.isnull().sum()\n",
        "print(\"Cantidad valores nulos :\\n\", nulos_columna)\n",
        "\n",
        "nulos_porcentaje = nulos_columna/df.shape[0] *100\n",
        "print(\"\\nPorcentaje valores nulos :\\n\", nulos_porcentaje)\n",
        "\n",
        "print(\"\\nNo hay columnas con mas de 30% de datos faltantes\")"
      ]
    },
    {
      "cell_type": "code",
      "execution_count": 32,
      "id": "06b62a46",
      "metadata": {},
      "outputs": [
        {
          "name": "stdout",
          "output_type": "stream",
          "text": [
            "En el dataframe hay  179 Paises distintos y  17 años distintos\n",
            "Filas duplicadas:  0\n"
          ]
        }
      ],
      "source": [
        "print(\"En el dataframe hay \", df['pais'].nunique(), \"Paises distintos y \", df['anio'].nunique(), \"años distintos\" )\n",
        "\n",
        "print(\"Filas duplicadas: \", df.duplicated().sum())"
      ]
    },
    {
      "cell_type": "code",
      "execution_count": 33,
      "id": "0ef6d40f",
      "metadata": {},
      "outputs": [
        {
          "name": "stdout",
          "output_type": "stream",
          "text": [
            "Series([], Name: pais, dtype: int64)\n",
            "\n",
            "No hay inconsistencias entre codigo y pais\n"
          ]
        }
      ],
      "source": [
        "inconsistencias = df.groupby(\"codigo_iso\")[\"pais\"].nunique()\n",
        "inconsistencias = inconsistencias[inconsistencias > 1]\n",
        "\n",
        "print(inconsistencias) \n",
        "\n",
        "print(\"\\nNo hay inconsistencias entre codigo y pais\")"
      ]
    },
    {
      "cell_type": "markdown",
      "id": "98efcc39",
      "metadata": {
        "id": "98efcc39"
      },
      "source": [
        "\n",
        "\n",
        "\n",
        "### 3. Comparación regional: países latinoamericanos\n",
        "\n",
        "En esta sección se busca identificar cuáles son los países de América Latina que han presentado los valores extremos del **Índice de Libertad de Prensa** en cada año observado.\n",
        "\n",
        "> Recuerda que un menor puntaje en `indice` implica mayor libertad de prensa.\n",
        "\n",
        "#### **Tareas:**\n",
        "\n",
        "**a)** Utilizando un ciclo `for`, recorre cada año del conjunto de datos filtrado por países latinoamericanos, y determina para cada año:\n",
        "\n",
        "* El país con el menor valor de `indice` (mayor libertad de prensa).\n",
        "* El país con el mayor valor de `indice` (menor libertad de prensa).\n",
        "\n",
        "**b)** Resuelve la misma tarea del punto anterior utilizando un enfoque vectorizado con `groupby`, sin usar ciclos explícitos.\n",
        "\n",
        "\n",
        "\n",
        "#### **Lista de países latinoamericanos considerada:**\n",
        "\n",
        "```python\n",
        "america = ['ARG', 'ATG', 'BLZ', 'BOL', 'BRA', 'CAN', 'CHL', 'COL', 'CRI',\n",
        "           'CUB', 'DOM', 'ECU', 'GRD', 'GTM', 'GUY', 'HND', 'HTI', 'JAM',\n",
        "           'MEX', 'NIC', 'PAN', 'PER', 'PRY', 'SLV', 'SUR', 'TTO', 'URY',\n",
        "           'USA', 'VEN']\n",
        "```\n",
        "\n",
        "> Puedes usar esta lista para filtrar el DataFrame final por la columna `codigo_iso`.\n",
        "\n"
      ]
    },
    {
      "cell_type": "code",
      "execution_count": 14,
      "id": "9077a9bc",
      "metadata": {
        "id": "9077a9bc"
      },
      "outputs": [
        {
          "data": {
            "application/vnd.microsoft.datawrangler.viewer.v0+json": {
              "columns": [
                {
                  "name": "index",
                  "rawType": "int64",
                  "type": "integer"
                },
                {
                  "name": "codigo_iso",
                  "rawType": "object",
                  "type": "string"
                },
                {
                  "name": "anio",
                  "rawType": "int64",
                  "type": "integer"
                },
                {
                  "name": "indice",
                  "rawType": "float64",
                  "type": "float"
                },
                {
                  "name": "ranking",
                  "rawType": "float64",
                  "type": "float"
                },
                {
                  "name": "pais",
                  "rawType": "object",
                  "type": "string"
                }
              ],
              "ref": "605d7cf5-312d-4b54-9b4d-badf59951962",
              "rows": [
                [
                  "5",
                  "ARG",
                  "2001",
                  "12.0",
                  "8.0",
                  "Argentina"
                ],
                [
                  "7",
                  "ATG",
                  "2001",
                  null,
                  null,
                  "Antigua y Barbuda"
                ],
                [
                  "20",
                  "BLZ",
                  "2001",
                  null,
                  null,
                  "Belize"
                ],
                [
                  "21",
                  "BOL",
                  "2001",
                  "14.5",
                  "13.0",
                  "Bolivia"
                ],
                [
                  "22",
                  "BRA",
                  "2001",
                  "18.8",
                  "18.0",
                  "Brasil"
                ],
                [
                  "27",
                  "CAN",
                  "2001",
                  "0.8",
                  "2.0",
                  "Canadá"
                ],
                [
                  "29",
                  "CHL",
                  "2001",
                  "6.5",
                  "81.0",
                  "Chile"
                ],
                [
                  "35",
                  "COL",
                  "2001",
                  "40.8",
                  "68.0",
                  "Colombia"
                ],
                [
                  "38",
                  "CRI",
                  "2001",
                  "4.3",
                  "65.0",
                  "Costa Rica"
                ],
                [
                  "39",
                  "CUB",
                  "2001",
                  "90.3",
                  "99.0",
                  "Cuba"
                ],
                [
                  "45",
                  "DOM",
                  "2001",
                  null,
                  null,
                  "República Dominicana"
                ],
                [
                  "47",
                  "ECU",
                  "2001",
                  "5.5",
                  "78.0",
                  "Ecuador"
                ],
                [
                  "65",
                  "GRD",
                  "2001",
                  null,
                  null,
                  "Granada"
                ],
                [
                  "66",
                  "GTM",
                  "2001",
                  "27.3",
                  "40.0",
                  "Guatemala"
                ],
                [
                  "67",
                  "GUY",
                  "2001",
                  null,
                  null,
                  "Guyana"
                ],
                [
                  "69",
                  "HND",
                  "2001",
                  null,
                  null,
                  "Honduras"
                ],
                [
                  "71",
                  "HTI",
                  "2001",
                  "36.5",
                  "61.0",
                  "Haití"
                ],
                [
                  "81",
                  "JAM",
                  "2001",
                  null,
                  null,
                  "Jamaica"
                ],
                [
                  "105",
                  "MEX",
                  "2001",
                  "24.8",
                  "33.0",
                  "México"
                ],
                [
                  "120",
                  "NIC",
                  "2001",
                  null,
                  null,
                  "Nicaragua"
                ],
                [
                  "127",
                  "PAN",
                  "2001",
                  "15.5",
                  "14.0",
                  "Panamá"
                ],
                [
                  "128",
                  "PER",
                  "2001",
                  "9.5",
                  "97.0",
                  "Perú"
                ],
                [
                  "134",
                  "PRY",
                  "2001",
                  "8.5",
                  "91.0",
                  "Paraguay"
                ],
                [
                  "145",
                  "SLV",
                  "2001",
                  "8.8",
                  "92.0",
                  "El Salvador"
                ],
                [
                  "149",
                  "SUR",
                  "2001",
                  null,
                  null,
                  "Surinam"
                ],
                [
                  "163",
                  "TTO",
                  "2001",
                  null,
                  null,
                  "Trinidad y Tobago"
                ],
                [
                  "170",
                  "URY",
                  "2001",
                  "6.0",
                  "80.0",
                  "Uruguay"
                ],
                [
                  "171",
                  "USA",
                  "2001",
                  "4.8",
                  "66.0",
                  "Estados Unidos"
                ],
                [
                  "173",
                  "VEN",
                  "2001",
                  "25.0",
                  "34.0",
                  "Venezuela"
                ],
                [
                  "185",
                  "ARG",
                  "2002",
                  "15.17",
                  "15.0",
                  "Argentina"
                ],
                [
                  "187",
                  "ATG",
                  "2002",
                  null,
                  null,
                  "Antigua y Barbuda"
                ],
                [
                  "200",
                  "BLZ",
                  "2002",
                  null,
                  null,
                  "Belize"
                ],
                [
                  "201",
                  "BOL",
                  "2002",
                  "9.67",
                  "119.0",
                  "Bolivia"
                ],
                [
                  "202",
                  "BRA",
                  "2002",
                  "16.75",
                  "18.0",
                  "Brasil"
                ],
                [
                  "207",
                  "CAN",
                  "2002",
                  "1.83",
                  "6.0",
                  "Canadá"
                ],
                [
                  "209",
                  "CHL",
                  "2002",
                  "6.83",
                  "101.0",
                  "Chile"
                ],
                [
                  "215",
                  "COL",
                  "2002",
                  "49.17",
                  "89.0",
                  "Colombia"
                ],
                [
                  "218",
                  "CRI",
                  "2002",
                  "3.83",
                  "49.0",
                  "Costa Rica"
                ],
                [
                  "219",
                  "CUB",
                  "2002",
                  "97.83",
                  "125.0",
                  "Cuba"
                ],
                [
                  "225",
                  "DOM",
                  "2002",
                  "17.0",
                  "19.0",
                  "República Dominicana"
                ],
                [
                  "227",
                  "ECU",
                  "2002",
                  "7.67",
                  "107.0",
                  "Ecuador"
                ],
                [
                  "245",
                  "GRD",
                  "2002",
                  null,
                  null,
                  "Granada"
                ],
                [
                  "246",
                  "GTM",
                  "2002",
                  "30.83",
                  "51.0",
                  "Guatemala"
                ],
                [
                  "247",
                  "GUY",
                  "2002",
                  null,
                  null,
                  "Guyana"
                ],
                [
                  "249",
                  "HND",
                  "2002",
                  "14.17",
                  "13.0",
                  "Honduras"
                ],
                [
                  "251",
                  "HTI",
                  "2002",
                  "31.0",
                  "52.0",
                  "Haití"
                ],
                [
                  "261",
                  "JAM",
                  "2002",
                  "3.33",
                  "48.0",
                  "Jamaica"
                ],
                [
                  "285",
                  "MEX",
                  "2002",
                  "17.67",
                  "21.0",
                  "México"
                ],
                [
                  "300",
                  "NIC",
                  "2002",
                  "6.5",
                  "100.0",
                  "Nicaragua"
                ],
                [
                  "307",
                  "PAN",
                  "2002",
                  "9.75",
                  "120.0",
                  "Panamá"
                ]
              ],
              "shape": {
                "columns": 5,
                "rows": 493
              }
            },
            "text/html": [
              "<div>\n",
              "<style scoped>\n",
              "    .dataframe tbody tr th:only-of-type {\n",
              "        vertical-align: middle;\n",
              "    }\n",
              "\n",
              "    .dataframe tbody tr th {\n",
              "        vertical-align: top;\n",
              "    }\n",
              "\n",
              "    .dataframe thead th {\n",
              "        text-align: right;\n",
              "    }\n",
              "</style>\n",
              "<table border=\"1\" class=\"dataframe\">\n",
              "  <thead>\n",
              "    <tr style=\"text-align: right;\">\n",
              "      <th></th>\n",
              "      <th>codigo_iso</th>\n",
              "      <th>anio</th>\n",
              "      <th>indice</th>\n",
              "      <th>ranking</th>\n",
              "      <th>pais</th>\n",
              "    </tr>\n",
              "  </thead>\n",
              "  <tbody>\n",
              "    <tr>\n",
              "      <th>5</th>\n",
              "      <td>ARG</td>\n",
              "      <td>2001</td>\n",
              "      <td>12.00</td>\n",
              "      <td>8.0</td>\n",
              "      <td>Argentina</td>\n",
              "    </tr>\n",
              "    <tr>\n",
              "      <th>7</th>\n",
              "      <td>ATG</td>\n",
              "      <td>2001</td>\n",
              "      <td>NaN</td>\n",
              "      <td>NaN</td>\n",
              "      <td>Antigua y Barbuda</td>\n",
              "    </tr>\n",
              "    <tr>\n",
              "      <th>20</th>\n",
              "      <td>BLZ</td>\n",
              "      <td>2001</td>\n",
              "      <td>NaN</td>\n",
              "      <td>NaN</td>\n",
              "      <td>Belize</td>\n",
              "    </tr>\n",
              "    <tr>\n",
              "      <th>21</th>\n",
              "      <td>BOL</td>\n",
              "      <td>2001</td>\n",
              "      <td>14.50</td>\n",
              "      <td>13.0</td>\n",
              "      <td>Bolivia</td>\n",
              "    </tr>\n",
              "    <tr>\n",
              "      <th>22</th>\n",
              "      <td>BRA</td>\n",
              "      <td>2001</td>\n",
              "      <td>18.80</td>\n",
              "      <td>18.0</td>\n",
              "      <td>Brasil</td>\n",
              "    </tr>\n",
              "    <tr>\n",
              "      <th>...</th>\n",
              "      <td>...</td>\n",
              "      <td>...</td>\n",
              "      <td>...</td>\n",
              "      <td>...</td>\n",
              "      <td>...</td>\n",
              "    </tr>\n",
              "    <tr>\n",
              "      <th>3029</th>\n",
              "      <td>SUR</td>\n",
              "      <td>2019</td>\n",
              "      <td>16.38</td>\n",
              "      <td>20.0</td>\n",
              "      <td>Surinam</td>\n",
              "    </tr>\n",
              "    <tr>\n",
              "      <th>3043</th>\n",
              "      <td>TTO</td>\n",
              "      <td>2019</td>\n",
              "      <td>24.74</td>\n",
              "      <td>39.0</td>\n",
              "      <td>Trinidad y Tobago</td>\n",
              "    </tr>\n",
              "    <tr>\n",
              "      <th>3050</th>\n",
              "      <td>URY</td>\n",
              "      <td>2019</td>\n",
              "      <td>16.06</td>\n",
              "      <td>19.0</td>\n",
              "      <td>Uruguay</td>\n",
              "    </tr>\n",
              "    <tr>\n",
              "      <th>3051</th>\n",
              "      <td>USA</td>\n",
              "      <td>2019</td>\n",
              "      <td>25.69</td>\n",
              "      <td>48.0</td>\n",
              "      <td>Estados Unidos</td>\n",
              "    </tr>\n",
              "    <tr>\n",
              "      <th>3053</th>\n",
              "      <td>VEN</td>\n",
              "      <td>2019</td>\n",
              "      <td>49.10</td>\n",
              "      <td>148.0</td>\n",
              "      <td>Venezuela</td>\n",
              "    </tr>\n",
              "  </tbody>\n",
              "</table>\n",
              "<p>493 rows × 5 columns</p>\n",
              "</div>"
            ],
            "text/plain": [
              "     codigo_iso  anio  indice  ranking               pais\n",
              "5           ARG  2001   12.00      8.0          Argentina\n",
              "7           ATG  2001     NaN      NaN  Antigua y Barbuda\n",
              "20          BLZ  2001     NaN      NaN             Belize\n",
              "21          BOL  2001   14.50     13.0            Bolivia\n",
              "22          BRA  2001   18.80     18.0             Brasil\n",
              "...         ...   ...     ...      ...                ...\n",
              "3029        SUR  2019   16.38     20.0            Surinam\n",
              "3043        TTO  2019   24.74     39.0  Trinidad y Tobago\n",
              "3050        URY  2019   16.06     19.0            Uruguay\n",
              "3051        USA  2019   25.69     48.0     Estados Unidos\n",
              "3053        VEN  2019   49.10    148.0          Venezuela\n",
              "\n",
              "[493 rows x 5 columns]"
            ]
          },
          "execution_count": 14,
          "metadata": {},
          "output_type": "execute_result"
        }
      ],
      "source": [
        "# respuesta\n",
        "america = ['ARG', 'ATG', 'BLZ', 'BOL', 'BRA', 'CAN', 'CHL', 'COL', 'CRI',\n",
        "       'CUB', 'DOM', 'ECU', 'GRD', 'GTM', 'GUY', 'HND', 'HTI', 'JAM',\n",
        "       'MEX', 'NIC', 'PAN', 'PER', 'PRY', 'SLV', 'SUR', 'TTO', 'URY',\n",
        "       'USA', 'VEN']\n",
        "\n",
        "df_america =  df.loc[df[\"codigo_iso\"].isin(america)]\n",
        "df_america "
      ]
    },
    {
      "cell_type": "code",
      "execution_count": 15,
      "id": "d0b47c24",
      "metadata": {},
      "outputs": [
        {
          "name": "stdout",
          "output_type": "stream",
          "text": [
            "\n",
            "En el año  2001 \n",
            "el mejor pais fue : Canadá \n",
            "El peor pais fue : Cuba\n",
            "\n",
            "En el año  2002 \n",
            "el mejor pais fue : Trinidad y Tobago \n",
            "El peor pais fue : Cuba\n",
            "\n",
            "En el año  2003 \n",
            "el mejor pais fue : Trinidad y Tobago \n",
            "El peor pais fue : Argentina\n",
            "\n",
            "En el año  2004 \n",
            "el mejor pais fue : Trinidad y Tobago \n",
            "El peor pais fue : Cuba\n",
            "\n",
            "En el año  2005 \n",
            "el mejor pais fue : Bolivia \n",
            "El peor pais fue : Cuba\n",
            "\n",
            "En el año  2006 \n",
            "el mejor pais fue : Canadá \n",
            "El peor pais fue : Cuba\n",
            "\n",
            "En el año  2007 \n",
            "el mejor pais fue : Canadá \n",
            "El peor pais fue : Cuba\n",
            "\n",
            "En el año  2008 \n",
            "el mejor pais fue : Canadá \n",
            "El peor pais fue : Cuba\n",
            "\n",
            "En el año  2009 \n",
            "el mejor pais fue : Estados Unidos \n",
            "El peor pais fue : Cuba\n",
            "\n",
            "En el año  2012 \n",
            "el mejor pais fue : Jamaica \n",
            "El peor pais fue : Cuba\n",
            "\n",
            "En el año  2013 \n",
            "el mejor pais fue : Jamaica \n",
            "El peor pais fue : Cuba\n",
            "\n",
            "En el año  2014 \n",
            "el mejor pais fue : Canadá \n",
            "El peor pais fue : Cuba\n",
            "\n",
            "En el año  2015 \n",
            "el mejor pais fue : Costa Rica \n",
            "El peor pais fue : Cuba\n",
            "\n",
            "El año  2016 no tiene datos válidos\n",
            "\n",
            "En el año  2017 \n",
            "el mejor pais fue : Costa Rica \n",
            "El peor pais fue : Cuba\n",
            "\n",
            "En el año  2018 \n",
            "el mejor pais fue : Jamaica \n",
            "El peor pais fue : Cuba\n",
            "\n",
            "En el año  2019 \n",
            "el mejor pais fue : Jamaica \n",
            "El peor pais fue : Cuba\n"
          ]
        }
      ],
      "source": [
        "lista_años = df_america[\"anio\"].unique()\n",
        "\n",
        "for año in lista_años:\n",
        "\n",
        "    df_temp = df_america[df_america[\"anio\"] == año]\n",
        "    valores = df_temp[\"indice\"].dropna()\n",
        "\n",
        "    if len(valores) > 0:\n",
        "        #print(año)\n",
        "        indice = df_temp[\"indice\"].idxmin()\n",
        "        min_temp = df_temp.loc[indice][\"pais\"]\n",
        "\n",
        "        indice = df_temp[\"indice\"].idxmax()\n",
        "        max_temp = df_temp.loc[indice][\"pais\"]\n",
        "\n",
        "        print(\"\\nEn el año \", año, \"\\nel mejor pais fue :\", min_temp, \"\\nEl peor pais fue :\", max_temp)\n",
        "\n",
        "    else:\n",
        "        print(\"\\nEl año \", año, \"no tiene datos válidos\")"
      ]
    },
    {
      "cell_type": "code",
      "execution_count": 16,
      "id": "4cf4944f",
      "metadata": {},
      "outputs": [
        {
          "name": "stdout",
          "output_type": "stream",
          "text": [
            "     Año  Mejor indice         Mejor Pais  Peor indice  Peor Pais\n",
            "0   2001          0.80             Canadá        90.30       Cuba\n",
            "1   2002          1.00  Trinidad y Tobago        97.83       Cuba\n",
            "2   2003          2.00  Trinidad y Tobago     35826.00  Argentina\n",
            "3   2004          2.00  Trinidad y Tobago        87.00       Cuba\n",
            "4   2005          4.50            Bolivia        95.00       Cuba\n",
            "5   2006          4.88             Canadá        96.17       Cuba\n",
            "6   2007          3.33             Canadá        88.33       Cuba\n",
            "7   2008          3.70             Canadá        94.00       Cuba\n",
            "8   2009          6.75     Estados Unidos        78.00       Cuba\n",
            "9   2012          9.88            Jamaica        71.64       Cuba\n",
            "10  2013         10.90            Jamaica        70.92       Cuba\n",
            "11  2014         10.99             Canadá        70.21       Cuba\n",
            "12  2015         11.10         Costa Rica        70.23       Cuba\n",
            "13  2017         11.93         Costa Rica        71.75       Cuba\n",
            "14  2018         11.33            Jamaica        68.90       Cuba\n",
            "15  2019         11.13            Jamaica        63.81       Cuba\n"
          ]
        }
      ],
      "source": [
        "df_america_filtrado = df_america.dropna(subset=[\"indice\"])\n",
        "\n",
        "mejores = df_america.loc[df_america_filtrado.groupby(\"anio\")[\"indice\"].idxmin()]\n",
        "mejores = mejores.drop([\"codigo_iso\", \"ranking\"], axis=1)\n",
        "mejores.columns = [\"Año\", \"Mejor indice\", \"Mejor Pais\"]\n",
        "\n",
        "peores = df_america.loc[df_america_filtrado.groupby(\"anio\")[\"indice\"].idxmax()]\n",
        "peores = peores.drop([\"codigo_iso\", \"ranking\"], axis=1)\n",
        "peores.columns = [\"Año\", \"Peor indice\", \"Peor Pais\"]\n",
        "\n",
        "print(pd.merge(mejores, peores, on=\"Año\", how=\"outer\"))"
      ]
    },
    {
      "cell_type": "markdown",
      "id": "91532f43",
      "metadata": {
        "id": "91532f43"
      },
      "source": [
        "### 4. Análisis anual del índice por país\n",
        "\n",
        "En esta sección se busca analizar la evolución del **índice máximo** de libertad de prensa alcanzado por cada país a lo largo del tiempo.\n",
        "\n",
        "#### **Tarea principal:**\n",
        "\n",
        "* Construye una tabla dinámica (`pivot_table`) donde las **filas** correspondan a los países, las **columnas** a los años (`anio`) y los **valores** sean el `indice` máximo alcanzado por cada país en ese año.\n",
        "* Asegúrate de reemplazar los valores nulos resultantes con `0`.\n",
        "\n",
        "> **Hint**: Puedes utilizar el parámetro `fill_value=0` en `pd.pivot_table(...)`.\n",
        "\n",
        "\n",
        "\n",
        "#### **Preguntas adicionales:**\n",
        "\n",
        "**a)** ¿Qué país tiene el mayor valor de `indice` en toda la tabla resultante? ¿Y cuál tiene el menor (distinto de cero)?\n",
        "**b)** ¿Qué años presentan en promedio los valores de `indice` más altos? ¿Y los más bajos?\n",
        "\n",
        "> (Pista: usa `.mean(axis=0)` sobre la tabla pivot)\n",
        "\n",
        "**c)** ¿Qué país muestra mayor **variabilidad** (diferencia entre su máximo y mínimo `indice` a lo largo del tiempo)?\n",
        "\n",
        "> (Pista: aplica `.max(axis=1) - .min(axis=1)`)\n",
        "\n",
        "**d)** ¿Existen países con índice constante a lo largo de todos los años registrados? ¿Cuáles?\n",
        "\n",
        "**e)** ¿Qué países no tienen ningún dato (es decir, quedaron con todos los valores igual a 0)? ¿Podrías explicar por qué?\n",
        "\n",
        "\n",
        "\n"
      ]
    },
    {
      "cell_type": "code",
      "execution_count": 34,
      "id": "c844a0a8",
      "metadata": {
        "id": "c844a0a8"
      },
      "outputs": [
        {
          "data": {
            "application/vnd.microsoft.datawrangler.viewer.v0+json": {
              "columns": [
                {
                  "name": "pais",
                  "rawType": "object",
                  "type": "string"
                },
                {
                  "name": "2001",
                  "rawType": "float64",
                  "type": "float"
                },
                {
                  "name": "2002",
                  "rawType": "float64",
                  "type": "float"
                },
                {
                  "name": "2003",
                  "rawType": "float64",
                  "type": "float"
                },
                {
                  "name": "2004",
                  "rawType": "float64",
                  "type": "float"
                },
                {
                  "name": "2005",
                  "rawType": "float64",
                  "type": "float"
                },
                {
                  "name": "2006",
                  "rawType": "float64",
                  "type": "float"
                },
                {
                  "name": "2007",
                  "rawType": "float64",
                  "type": "float"
                },
                {
                  "name": "2008",
                  "rawType": "float64",
                  "type": "float"
                },
                {
                  "name": "2009",
                  "rawType": "float64",
                  "type": "float"
                },
                {
                  "name": "2012",
                  "rawType": "float64",
                  "type": "float"
                },
                {
                  "name": "2013",
                  "rawType": "float64",
                  "type": "float"
                },
                {
                  "name": "2014",
                  "rawType": "float64",
                  "type": "float"
                },
                {
                  "name": "2015",
                  "rawType": "float64",
                  "type": "float"
                },
                {
                  "name": "2017",
                  "rawType": "float64",
                  "type": "float"
                },
                {
                  "name": "2018",
                  "rawType": "float64",
                  "type": "float"
                },
                {
                  "name": "2019",
                  "rawType": "float64",
                  "type": "float"
                }
              ],
              "ref": "3b58c56e-d932-447c-9a97-0ae9894633aa",
              "rows": [
                [
                  "Afghanistán",
                  "35.5",
                  "40.17",
                  "28.25",
                  "39.17",
                  "44.25",
                  "56.5",
                  "59.25",
                  "54.25",
                  "51.67",
                  "37.36",
                  "37.07",
                  "37.44",
                  "37.75",
                  "39.46",
                  "37.28",
                  "36.55"
                ],
                [
                  "Albania",
                  null,
                  "6.5",
                  "11.5",
                  "14.17",
                  "18.0",
                  "25.5",
                  "16.0",
                  "21.75",
                  "21.5",
                  "30.88",
                  "29.92",
                  "28.77",
                  "29.92",
                  "29.92",
                  "29.49",
                  "29.84"
                ],
                [
                  "Alemania",
                  "1.5",
                  "1.33",
                  "2.0",
                  "4.0",
                  "5.5",
                  "5.75",
                  "4.5",
                  "3.5",
                  "4.25",
                  "10.24",
                  "10.23",
                  "11.47",
                  "14.8",
                  "14.97",
                  "14.39",
                  "14.6"
                ],
                [
                  "Algeria",
                  "31.0",
                  "33.0",
                  "43.5",
                  "40.33",
                  "40.0",
                  "40.5",
                  "31.33",
                  "49.56",
                  "47.33",
                  "36.54",
                  "36.26",
                  "36.63",
                  "41.69",
                  "42.83",
                  "43.13",
                  "45.75"
                ],
                [
                  "Andorra",
                  null,
                  null,
                  null,
                  null,
                  null,
                  null,
                  null,
                  null,
                  null,
                  "6.82",
                  "6.82",
                  "19.87",
                  "19.87",
                  "21.03",
                  "22.21",
                  "24.63"
                ],
                [
                  "Angola",
                  "30.2",
                  "28.0",
                  "26.5",
                  "18.0",
                  "21.5",
                  "26.5",
                  "29.5",
                  "36.5",
                  "28.5",
                  "37.8",
                  "36.5",
                  "37.84",
                  "39.89",
                  "40.42",
                  "38.35",
                  "34.96"
                ],
                [
                  "Antigua y Barbuda",
                  null,
                  null,
                  null,
                  null,
                  null,
                  null,
                  null,
                  null,
                  null,
                  null,
                  "20.81",
                  null,
                  null,
                  null,
                  null,
                  null
                ],
                [
                  "Arabia Saudita",
                  "62.5",
                  "71.5",
                  "79.17",
                  "66.0",
                  "76.0",
                  "59.75",
                  "61.75",
                  "76.5",
                  "61.5",
                  "56.88",
                  "58.3",
                  "59.41",
                  "59.72",
                  "66.02",
                  "63.13",
                  "65.88"
                ],
                [
                  "Argentina",
                  "12.0",
                  "15.17",
                  "35826.0",
                  "13.67",
                  "17.3",
                  "24.83",
                  "14.08",
                  "11.33",
                  "16.35",
                  "25.67",
                  "25.27",
                  "26.11",
                  "25.09",
                  "25.07",
                  "26.05",
                  "28.3"
                ],
                [
                  "Armenia",
                  null,
                  "25.17",
                  "23.5",
                  "26.0",
                  "25.5",
                  "23.63",
                  "22.75",
                  "31.13",
                  "27.5",
                  "28.04",
                  "29.07",
                  "28.43",
                  "28.79",
                  "30.38",
                  "29.99",
                  "28.98"
                ],
                [
                  "Australia",
                  "3.5",
                  "9.25",
                  "9.5",
                  "6.5",
                  "9.0",
                  "8.79",
                  "6.25",
                  "3.13",
                  "5.38",
                  "15.24",
                  "16.91",
                  "17.03",
                  "17.84",
                  "16.02",
                  "15.46",
                  "16.55"
                ],
                [
                  "Austria",
                  "7.5",
                  "2.75",
                  "3.25",
                  "2.5",
                  "4.5",
                  "4.25",
                  "3.5",
                  "3.0",
                  "0.5",
                  "9.4",
                  "10.01",
                  "10.85",
                  "13.18",
                  "13.47",
                  "14.04",
                  "15.33"
                ],
                [
                  "Azerbaijan",
                  "34.5",
                  "34.5",
                  "49.67",
                  "51.0",
                  "47.0",
                  "55.4",
                  "53.63",
                  "53.5",
                  "56.38",
                  "47.73",
                  "52.87",
                  "58.41",
                  "57.89",
                  "56.4",
                  "59.73",
                  "59.13"
                ],
                [
                  "Bahrain",
                  "23.0",
                  "35.17",
                  "52.5",
                  "38.75",
                  "28.0",
                  "38.0",
                  "21.17",
                  "36.5",
                  null,
                  "62.75",
                  "58.26",
                  "58.69",
                  "54.86",
                  "58.88",
                  "60.85",
                  "61.31"
                ],
                [
                  "Bangladesh",
                  "43.8",
                  "46.5",
                  "62.5",
                  "61.25",
                  "48.0",
                  "53.17",
                  "42.7",
                  "37.33",
                  "42.5",
                  "42.01",
                  "42.58",
                  "42.95",
                  "45.94",
                  "48.36",
                  "48.62",
                  "50.74"
                ],
                [
                  "Belize",
                  null,
                  null,
                  null,
                  null,
                  null,
                  null,
                  null,
                  null,
                  null,
                  null,
                  "17.05",
                  "18.54",
                  "20.61",
                  "23.43",
                  "24.55",
                  "27.5"
                ],
                [
                  "Benin",
                  "6.0",
                  "5.25",
                  "5.5",
                  "5.5",
                  "5.5",
                  "17.0",
                  "15.0",
                  "16.0",
                  "19.0",
                  "28.33",
                  "28.83",
                  "29.24",
                  "28.97",
                  "30.32",
                  "30.16",
                  "31.74"
                ],
                [
                  "Bhutan",
                  "90.8",
                  "77.33",
                  "55.83",
                  "51.5",
                  "25.0",
                  "37.17",
                  "15.5",
                  "15.75",
                  "17.75",
                  "28.42",
                  "30.73",
                  "32.65",
                  "30.73",
                  "30.73",
                  "30.73",
                  "29.81"
                ],
                [
                  "Bielorrusia",
                  "52.2",
                  "52.0",
                  "54.1",
                  "61.33",
                  "57.0",
                  "63.63",
                  "58.33",
                  "59.5",
                  "57.0",
                  "48.35",
                  "47.82",
                  "47.98",
                  "54.32",
                  "52.43",
                  "52.59",
                  "51.66"
                ],
                [
                  "Bolivia",
                  "14.5",
                  "9.67",
                  "20.0",
                  "9.67",
                  "4.5",
                  "21.5",
                  "28.2",
                  "24.17",
                  "28.13",
                  "32.8",
                  "31.04",
                  "31.29",
                  "31.78",
                  "33.88",
                  "32.45",
                  "35.38"
                ],
                [
                  "Bosnia y Herzegovina",
                  "12.5",
                  "6.83",
                  "3.67",
                  "7.0",
                  "5.0",
                  "11.17",
                  "8.0",
                  "10.5",
                  "13.5",
                  "26.86",
                  "26.86",
                  "27.51",
                  "28.45",
                  "27.83",
                  "27.37",
                  "29.02"
                ],
                [
                  "Botswana",
                  null,
                  "13.0",
                  "11.5",
                  "14.0",
                  "13.0",
                  "23.5",
                  "14.0",
                  "15.5",
                  "17.5",
                  "22.91",
                  "22.91",
                  "22.91",
                  "22.91",
                  "24.93",
                  "25.29",
                  "25.09"
                ],
                [
                  "Brasil",
                  "18.8",
                  "16.75",
                  "16.5",
                  "14.5",
                  "17.17",
                  "25.25",
                  "18.0",
                  "15.88",
                  "16.6",
                  "32.75",
                  "34.03",
                  "31.93",
                  "32.62",
                  "33.58",
                  "31.2",
                  "32.79"
                ],
                [
                  "Brunei Darussalam",
                  null,
                  null,
                  null,
                  null,
                  null,
                  null,
                  null,
                  "63.5",
                  "51.0",
                  "35.45",
                  "35.45",
                  "36.76",
                  "53.85",
                  "53.72",
                  "51.48",
                  "51.48"
                ],
                [
                  "Bulgaria",
                  "9.8",
                  "6.5",
                  "8.0",
                  "10.25",
                  "9.0",
                  "16.25",
                  "12.5",
                  "15.61",
                  "19.0",
                  "28.58",
                  "31.42",
                  "32.91",
                  "34.46",
                  "35.01",
                  "35.22",
                  "35.11"
                ],
                [
                  "Burkina Faso",
                  "27.8",
                  "18.0",
                  "16.25",
                  "19.0",
                  "16.0",
                  "21.5",
                  "13.0",
                  "15.0",
                  "15.0",
                  "23.7",
                  "24.45",
                  "23.79",
                  "22.66",
                  "23.85",
                  "23.33",
                  "24.53"
                ],
                [
                  "Burundi",
                  "24.5",
                  "26.25",
                  "19.0",
                  "23.0",
                  "39.83",
                  "43.4",
                  "21.0",
                  "29.0",
                  "28.88",
                  "38.02",
                  "40.5",
                  "42.93",
                  "54.1",
                  "55.78",
                  "55.26",
                  "52.89"
                ],
                [
                  "Bélgica",
                  "3.5",
                  "1.17",
                  "4.0",
                  "4.0",
                  "4.0",
                  "1.5",
                  "3.0",
                  "2.5",
                  "4.0",
                  "12.94",
                  "12.8",
                  "11.98",
                  "14.18",
                  "12.75",
                  "13.16",
                  "12.07"
                ],
                [
                  "Cabo Verde",
                  "13.8",
                  "8.25",
                  "8.75",
                  "6.0",
                  "11.5",
                  "14.0",
                  "8.0",
                  "11.0",
                  "8.0",
                  "14.33",
                  "14.32",
                  "20.69",
                  "19.82",
                  "18.02",
                  "20.39",
                  "19.81"
                ],
                [
                  "Cambodia",
                  "24.3",
                  "19.5",
                  "36.5",
                  "23.0",
                  "27.25",
                  "25.33",
                  "35.5",
                  "35.17",
                  "43.83",
                  "41.81",
                  "40.97",
                  "40.99",
                  "40.7",
                  "42.07",
                  "45.9",
                  "45.9"
                ],
                [
                  "Camerún",
                  "28.8",
                  "30.5",
                  "27.0",
                  "20.5",
                  "28.25",
                  "36.0",
                  "36.9",
                  "30.5",
                  "44.3",
                  "34.78",
                  "38.13",
                  "39.63",
                  "40.53",
                  "41.59",
                  "40.92",
                  "43.32"
                ],
                [
                  "Canadá",
                  "0.8",
                  "1.83",
                  "3.33",
                  "4.5",
                  "4.5",
                  "4.88",
                  "3.33",
                  "3.7",
                  "7.0",
                  "12.69",
                  "10.99",
                  "10.99",
                  "15.26",
                  "16.53",
                  "15.28",
                  "15.69"
                ],
                [
                  "Chad",
                  "28.8",
                  "24.0",
                  "33.25",
                  "30.0",
                  "35.5",
                  "36.5",
                  "41.25",
                  "44.5",
                  "33.17",
                  "34.87",
                  "40.22",
                  "40.17",
                  "40.59",
                  "39.66",
                  "38.45",
                  "36.71"
                ],
                [
                  "Chile",
                  "6.5",
                  "6.83",
                  "10.0",
                  "11.75",
                  "11.63",
                  "12.13",
                  "11.5",
                  "10.5",
                  "10.5",
                  "26.24",
                  "25.8",
                  "23.0",
                  "19.23",
                  "20.53",
                  "22.69",
                  "25.65"
                ],
                [
                  "China",
                  "97.0",
                  "91.25",
                  "92.33",
                  "83.0",
                  "94.0",
                  "89.0",
                  "85.5",
                  "84.5",
                  "84.67",
                  "73.07",
                  "72.91",
                  "73.55",
                  "80.96",
                  "77.66",
                  "78.29",
                  "78.92"
                ],
                [
                  "Chipre",
                  null,
                  "20.83",
                  "22.0",
                  "5.5",
                  "7.5",
                  "14.0",
                  "7.5",
                  "5.5",
                  "13.4",
                  "13.83",
                  "14.45",
                  "16.52",
                  "18.26",
                  "19.79",
                  "19.85",
                  "21.74"
                ],
                [
                  "Colombia",
                  "40.8",
                  "49.17",
                  "47.38",
                  "40.17",
                  "44.75",
                  "42.33",
                  "35.5",
                  "40.13",
                  "51.5",
                  "37.48",
                  "36.68",
                  "39.08",
                  "44.11",
                  "41.47",
                  "41.03",
                  "42.82"
                ],
                [
                  "Comoros",
                  "20.5",
                  "18.5",
                  "26.5",
                  "22.0",
                  "22.5",
                  "28.0",
                  "20.0",
                  "19.0",
                  "19.0",
                  "24.52",
                  "24.52",
                  "24.52",
                  "24.33",
                  "24.33",
                  "25.3",
                  "27.91"
                ],
                [
                  "Congo, Dem. Rep.",
                  null,
                  null,
                  null,
                  null,
                  null,
                  null,
                  "51.25",
                  "53.5",
                  "51.83",
                  null,
                  "44.64",
                  "44.31",
                  "50.97",
                  "52.67",
                  "51.6",
                  "51.71"
                ],
                [
                  "Congo, Rep.",
                  "23.2",
                  "14.0",
                  "17.5",
                  "17.0",
                  "17.0",
                  "24.5",
                  "20.75",
                  "34.25",
                  "33.6",
                  null,
                  "29.44",
                  null,
                  "35.84",
                  "36.73",
                  "35.42",
                  "36.04"
                ],
                [
                  "Corea del Norte",
                  null,
                  null,
                  null,
                  null,
                  null,
                  null,
                  null,
                  null,
                  "104.75",
                  "83.9",
                  null,
                  null,
                  "83.76",
                  "84.98",
                  "88.87",
                  "83.4"
                ],
                [
                  "Corea del Sur",
                  "10.5",
                  "9.17",
                  "11.13",
                  "7.5",
                  "7.75",
                  "12.13",
                  "9.0",
                  "15.67",
                  "13.33",
                  "24.48",
                  "25.66",
                  "26.55",
                  "28.58",
                  "27.61",
                  "23.51",
                  "24.94"
                ],
                [
                  "Costa Rica",
                  "4.3",
                  "3.83",
                  "7.63",
                  "8.5",
                  "6.67",
                  "6.5",
                  "5.1",
                  "8.0",
                  "8.08",
                  "12.08",
                  "12.23",
                  "12.26",
                  "11.1",
                  "11.93",
                  "14.01",
                  "12.24"
                ],
                [
                  "Costa de Marfil",
                  "19.0",
                  "42.17",
                  "60.38",
                  "52.25",
                  "25.0",
                  "27.0",
                  "26.5",
                  "29.0",
                  null,
                  "29.77",
                  "31.63",
                  "30.45",
                  "30.17",
                  "30.42",
                  "30.08",
                  "29.52"
                ],
                [
                  "Croacia",
                  "8.8",
                  "16.5",
                  "11.83",
                  "12.83",
                  "13.0",
                  "12.5",
                  "8.5",
                  "17.17",
                  "17.5",
                  "26.61",
                  "26.82",
                  "26.12",
                  "27.91",
                  "29.59",
                  "28.94",
                  "29.03"
                ],
                [
                  "Cuba",
                  "90.3",
                  "97.83",
                  "106.83",
                  "87.0",
                  "95.0",
                  "96.17",
                  "88.33",
                  "94.0",
                  "78.0",
                  "71.64",
                  "70.92",
                  "70.21",
                  "70.23",
                  "71.75",
                  "68.9",
                  "63.81"
                ],
                [
                  "Dinamarca",
                  "3.0",
                  "1.0",
                  "0.5",
                  "0.5",
                  "5.0",
                  "2.0",
                  "3.5",
                  null,
                  "2.5",
                  "7.08",
                  "7.43",
                  "8.24",
                  "8.89",
                  "10.36",
                  "13.99",
                  "9.87"
                ],
                [
                  "Djibouti",
                  "31.3",
                  "35.5",
                  "55.0",
                  "37.0",
                  "33.0",
                  "50.25",
                  "41.5",
                  "31.0",
                  "30.5",
                  "67.4",
                  "70.34",
                  "71.04",
                  "70.9",
                  "70.54",
                  "70.77",
                  "71.36"
                ],
                [
                  "Ecuador",
                  "5.5",
                  "7.67",
                  "16.5",
                  "21.75",
                  "15.25",
                  "18.5",
                  "15.5",
                  "20.0",
                  "27.5",
                  "34.69",
                  "31.16",
                  "33.65",
                  "33.21",
                  "33.64",
                  "30.56",
                  "31.88"
                ],
                [
                  "Egipto",
                  "34.5",
                  "34.25",
                  "43.5",
                  "52.0",
                  "46.25",
                  "58.0",
                  "50.25",
                  "51.38",
                  "43.33",
                  "48.66",
                  "51.89",
                  "50.17",
                  "54.45",
                  "55.78",
                  "56.72",
                  "56.47"
                ]
              ],
              "shape": {
                "columns": 16,
                "rows": 179
              }
            },
            "text/html": [
              "<div>\n",
              "<style scoped>\n",
              "    .dataframe tbody tr th:only-of-type {\n",
              "        vertical-align: middle;\n",
              "    }\n",
              "\n",
              "    .dataframe tbody tr th {\n",
              "        vertical-align: top;\n",
              "    }\n",
              "\n",
              "    .dataframe thead th {\n",
              "        text-align: right;\n",
              "    }\n",
              "</style>\n",
              "<table border=\"1\" class=\"dataframe\">\n",
              "  <thead>\n",
              "    <tr style=\"text-align: right;\">\n",
              "      <th>anio</th>\n",
              "      <th>2001</th>\n",
              "      <th>2002</th>\n",
              "      <th>2003</th>\n",
              "      <th>2004</th>\n",
              "      <th>2005</th>\n",
              "      <th>2006</th>\n",
              "      <th>2007</th>\n",
              "      <th>2008</th>\n",
              "      <th>2009</th>\n",
              "      <th>2012</th>\n",
              "      <th>2013</th>\n",
              "      <th>2014</th>\n",
              "      <th>2015</th>\n",
              "      <th>2017</th>\n",
              "      <th>2018</th>\n",
              "      <th>2019</th>\n",
              "    </tr>\n",
              "    <tr>\n",
              "      <th>pais</th>\n",
              "      <th></th>\n",
              "      <th></th>\n",
              "      <th></th>\n",
              "      <th></th>\n",
              "      <th></th>\n",
              "      <th></th>\n",
              "      <th></th>\n",
              "      <th></th>\n",
              "      <th></th>\n",
              "      <th></th>\n",
              "      <th></th>\n",
              "      <th></th>\n",
              "      <th></th>\n",
              "      <th></th>\n",
              "      <th></th>\n",
              "      <th></th>\n",
              "    </tr>\n",
              "  </thead>\n",
              "  <tbody>\n",
              "    <tr>\n",
              "      <th>Afghanistán</th>\n",
              "      <td>35.5</td>\n",
              "      <td>40.17</td>\n",
              "      <td>28.25</td>\n",
              "      <td>39.17</td>\n",
              "      <td>44.25</td>\n",
              "      <td>56.50</td>\n",
              "      <td>59.25</td>\n",
              "      <td>54.25</td>\n",
              "      <td>51.67</td>\n",
              "      <td>37.36</td>\n",
              "      <td>37.07</td>\n",
              "      <td>37.44</td>\n",
              "      <td>37.75</td>\n",
              "      <td>39.46</td>\n",
              "      <td>37.28</td>\n",
              "      <td>36.55</td>\n",
              "    </tr>\n",
              "    <tr>\n",
              "      <th>Albania</th>\n",
              "      <td>NaN</td>\n",
              "      <td>6.50</td>\n",
              "      <td>11.50</td>\n",
              "      <td>14.17</td>\n",
              "      <td>18.00</td>\n",
              "      <td>25.50</td>\n",
              "      <td>16.00</td>\n",
              "      <td>21.75</td>\n",
              "      <td>21.50</td>\n",
              "      <td>30.88</td>\n",
              "      <td>29.92</td>\n",
              "      <td>28.77</td>\n",
              "      <td>29.92</td>\n",
              "      <td>29.92</td>\n",
              "      <td>29.49</td>\n",
              "      <td>29.84</td>\n",
              "    </tr>\n",
              "    <tr>\n",
              "      <th>Alemania</th>\n",
              "      <td>1.5</td>\n",
              "      <td>1.33</td>\n",
              "      <td>2.00</td>\n",
              "      <td>4.00</td>\n",
              "      <td>5.50</td>\n",
              "      <td>5.75</td>\n",
              "      <td>4.50</td>\n",
              "      <td>3.50</td>\n",
              "      <td>4.25</td>\n",
              "      <td>10.24</td>\n",
              "      <td>10.23</td>\n",
              "      <td>11.47</td>\n",
              "      <td>14.80</td>\n",
              "      <td>14.97</td>\n",
              "      <td>14.39</td>\n",
              "      <td>14.60</td>\n",
              "    </tr>\n",
              "    <tr>\n",
              "      <th>Algeria</th>\n",
              "      <td>31.0</td>\n",
              "      <td>33.00</td>\n",
              "      <td>43.50</td>\n",
              "      <td>40.33</td>\n",
              "      <td>40.00</td>\n",
              "      <td>40.50</td>\n",
              "      <td>31.33</td>\n",
              "      <td>49.56</td>\n",
              "      <td>47.33</td>\n",
              "      <td>36.54</td>\n",
              "      <td>36.26</td>\n",
              "      <td>36.63</td>\n",
              "      <td>41.69</td>\n",
              "      <td>42.83</td>\n",
              "      <td>43.13</td>\n",
              "      <td>45.75</td>\n",
              "    </tr>\n",
              "    <tr>\n",
              "      <th>Andorra</th>\n",
              "      <td>NaN</td>\n",
              "      <td>NaN</td>\n",
              "      <td>NaN</td>\n",
              "      <td>NaN</td>\n",
              "      <td>NaN</td>\n",
              "      <td>NaN</td>\n",
              "      <td>NaN</td>\n",
              "      <td>NaN</td>\n",
              "      <td>NaN</td>\n",
              "      <td>6.82</td>\n",
              "      <td>6.82</td>\n",
              "      <td>19.87</td>\n",
              "      <td>19.87</td>\n",
              "      <td>21.03</td>\n",
              "      <td>22.21</td>\n",
              "      <td>24.63</td>\n",
              "    </tr>\n",
              "    <tr>\n",
              "      <th>...</th>\n",
              "      <td>...</td>\n",
              "      <td>...</td>\n",
              "      <td>...</td>\n",
              "      <td>...</td>\n",
              "      <td>...</td>\n",
              "      <td>...</td>\n",
              "      <td>...</td>\n",
              "      <td>...</td>\n",
              "      <td>...</td>\n",
              "      <td>...</td>\n",
              "      <td>...</td>\n",
              "      <td>...</td>\n",
              "      <td>...</td>\n",
              "      <td>...</td>\n",
              "      <td>...</td>\n",
              "      <td>...</td>\n",
              "    </tr>\n",
              "    <tr>\n",
              "      <th>Vietnam</th>\n",
              "      <td>81.3</td>\n",
              "      <td>89.17</td>\n",
              "      <td>86.88</td>\n",
              "      <td>73.25</td>\n",
              "      <td>67.25</td>\n",
              "      <td>79.25</td>\n",
              "      <td>86.17</td>\n",
              "      <td>81.67</td>\n",
              "      <td>75.75</td>\n",
              "      <td>71.78</td>\n",
              "      <td>72.36</td>\n",
              "      <td>72.63</td>\n",
              "      <td>74.27</td>\n",
              "      <td>73.96</td>\n",
              "      <td>75.05</td>\n",
              "      <td>74.93</td>\n",
              "    </tr>\n",
              "    <tr>\n",
              "      <th>West Bank y Gaza</th>\n",
              "      <td>NaN</td>\n",
              "      <td>NaN</td>\n",
              "      <td>NaN</td>\n",
              "      <td>NaN</td>\n",
              "      <td>NaN</td>\n",
              "      <td>NaN</td>\n",
              "      <td>NaN</td>\n",
              "      <td>NaN</td>\n",
              "      <td>NaN</td>\n",
              "      <td>NaN</td>\n",
              "      <td>NaN</td>\n",
              "      <td>NaN</td>\n",
              "      <td>NaN</td>\n",
              "      <td>42.90</td>\n",
              "      <td>42.96</td>\n",
              "      <td>44.68</td>\n",
              "    </tr>\n",
              "    <tr>\n",
              "      <th>Yemen</th>\n",
              "      <td>34.8</td>\n",
              "      <td>41.83</td>\n",
              "      <td>48.00</td>\n",
              "      <td>46.25</td>\n",
              "      <td>54.00</td>\n",
              "      <td>56.67</td>\n",
              "      <td>59.00</td>\n",
              "      <td>83.38</td>\n",
              "      <td>82.13</td>\n",
              "      <td>69.22</td>\n",
              "      <td>67.26</td>\n",
              "      <td>66.36</td>\n",
              "      <td>67.07</td>\n",
              "      <td>65.80</td>\n",
              "      <td>62.23</td>\n",
              "      <td>61.66</td>\n",
              "    </tr>\n",
              "    <tr>\n",
              "      <th>Zambia</th>\n",
              "      <td>26.8</td>\n",
              "      <td>23.25</td>\n",
              "      <td>29.75</td>\n",
              "      <td>23.00</td>\n",
              "      <td>22.50</td>\n",
              "      <td>21.50</td>\n",
              "      <td>15.50</td>\n",
              "      <td>26.75</td>\n",
              "      <td>22.00</td>\n",
              "      <td>27.93</td>\n",
              "      <td>30.89</td>\n",
              "      <td>34.35</td>\n",
              "      <td>35.08</td>\n",
              "      <td>36.48</td>\n",
              "      <td>35.36</td>\n",
              "      <td>36.38</td>\n",
              "    </tr>\n",
              "    <tr>\n",
              "      <th>Zimbabue</th>\n",
              "      <td>48.3</td>\n",
              "      <td>45.50</td>\n",
              "      <td>67.50</td>\n",
              "      <td>64.25</td>\n",
              "      <td>50.00</td>\n",
              "      <td>62.00</td>\n",
              "      <td>54.00</td>\n",
              "      <td>46.50</td>\n",
              "      <td>39.50</td>\n",
              "      <td>38.12</td>\n",
              "      <td>39.19</td>\n",
              "      <td>39.19</td>\n",
              "      <td>40.41</td>\n",
              "      <td>41.44</td>\n",
              "      <td>40.53</td>\n",
              "      <td>42.23</td>\n",
              "    </tr>\n",
              "  </tbody>\n",
              "</table>\n",
              "<p>179 rows × 16 columns</p>\n",
              "</div>"
            ],
            "text/plain": [
              "anio              2001   2002   2003   2004   2005   2006   2007   2008  \\\n",
              "pais                                                                      \n",
              "Afghanistán       35.5  40.17  28.25  39.17  44.25  56.50  59.25  54.25   \n",
              "Albania            NaN   6.50  11.50  14.17  18.00  25.50  16.00  21.75   \n",
              "Alemania           1.5   1.33   2.00   4.00   5.50   5.75   4.50   3.50   \n",
              "Algeria           31.0  33.00  43.50  40.33  40.00  40.50  31.33  49.56   \n",
              "Andorra            NaN    NaN    NaN    NaN    NaN    NaN    NaN    NaN   \n",
              "...                ...    ...    ...    ...    ...    ...    ...    ...   \n",
              "Vietnam           81.3  89.17  86.88  73.25  67.25  79.25  86.17  81.67   \n",
              "West Bank y Gaza   NaN    NaN    NaN    NaN    NaN    NaN    NaN    NaN   \n",
              "Yemen             34.8  41.83  48.00  46.25  54.00  56.67  59.00  83.38   \n",
              "Zambia            26.8  23.25  29.75  23.00  22.50  21.50  15.50  26.75   \n",
              "Zimbabue          48.3  45.50  67.50  64.25  50.00  62.00  54.00  46.50   \n",
              "\n",
              "anio               2009   2012   2013   2014   2015   2017   2018   2019  \n",
              "pais                                                                      \n",
              "Afghanistán       51.67  37.36  37.07  37.44  37.75  39.46  37.28  36.55  \n",
              "Albania           21.50  30.88  29.92  28.77  29.92  29.92  29.49  29.84  \n",
              "Alemania           4.25  10.24  10.23  11.47  14.80  14.97  14.39  14.60  \n",
              "Algeria           47.33  36.54  36.26  36.63  41.69  42.83  43.13  45.75  \n",
              "Andorra             NaN   6.82   6.82  19.87  19.87  21.03  22.21  24.63  \n",
              "...                 ...    ...    ...    ...    ...    ...    ...    ...  \n",
              "Vietnam           75.75  71.78  72.36  72.63  74.27  73.96  75.05  74.93  \n",
              "West Bank y Gaza    NaN    NaN    NaN    NaN    NaN  42.90  42.96  44.68  \n",
              "Yemen             82.13  69.22  67.26  66.36  67.07  65.80  62.23  61.66  \n",
              "Zambia            22.00  27.93  30.89  34.35  35.08  36.48  35.36  36.38  \n",
              "Zimbabue          39.50  38.12  39.19  39.19  40.41  41.44  40.53  42.23  \n",
              "\n",
              "[179 rows x 16 columns]"
            ]
          },
          "execution_count": 34,
          "metadata": {},
          "output_type": "execute_result"
        }
      ],
      "source": [
        "pivot_table = pd.pivot_table(df, index=\"pais\", columns=\"anio\", values=\"indice\", aggfunc=\"max\", fill_value=0)\n",
        "\n",
        "pivot_table = pivot_table.replace(0, np.nan)\n",
        "\n",
        "pivot_table\n"
      ]
    },
    {
      "cell_type": "code",
      "execution_count": null,
      "id": "c8c6eab6",
      "metadata": {},
      "outputs": [
        {
          "name": "stdout",
          "output_type": "stream",
          "text": [
            "El pais con mayor valor es Kosovo con 64536.0\n",
            "\n",
            "El pais con menor valor es Austria con 0.5\n"
          ]
        }
      ],
      "source": [
        "max_indice = pivot_table.max().max()\n",
        "max_pais = pivot_table.max(axis = 1).idxmax()\n",
        "\n",
        "min_indice = pivot_table.loc[(pivot_table > 0).all(axis=1)].min().min()\n",
        "min_indice = min_indice.min().min()\n",
        "min_pais = pivot_table.min(axis = 1).idxmin()\n",
        "\n",
        "#min_indice\n",
        "\n",
        "print(\"El pais con mayor valor es\", max_pais, \"con\", max_indice )\n",
        "print(\"\\nEl pais con menor valor es\", min_pais, \"con\", min_indice )"
      ]
    },
    {
      "cell_type": "code",
      "execution_count": 36,
      "id": "6fb4d158",
      "metadata": {},
      "outputs": [
        {
          "name": "stdout",
          "output_type": "stream",
          "text": [
            "El año con mayor promedio es 2012 con : 468.88350877192977 \n",
            "El año con menor promedio  2002 con : 25.879683544303795\n"
          ]
        }
      ],
      "source": [
        "promedios_año = pivot_table.mean(axis=0)\n",
        "\n",
        "año_max_prom = promedios_año.idxmax()\n",
        "año_min_prom = promedios_año.idxmin()\n",
        "\n",
        "print(\"El año con mayor promedio es\",  año_max_prom, \"con :\", promedios_año.max(), \"\\nEl año con menor promedio \", año_min_prom, \"con :\", promedios_año.min())"
      ]
    },
    {
      "cell_type": "code",
      "execution_count": 37,
      "id": "f38cb5ac",
      "metadata": {},
      "outputs": [
        {
          "name": "stdout",
          "output_type": "stream",
          "text": [
            "El pais con mayor variabilidad es : Kosovo con : 46098.0\n"
          ]
        }
      ],
      "source": [
        "variabilidad = pivot_table.max(axis=1) - pivot_table.min(axis=1)\n",
        "pais_max_var = variabilidad.idxmax()\n",
        "\n",
        "print(\"El pais con mayor variabilidad es :\", pais_max_var,  \"con :\", variabilidad.max())"
      ]
    },
    {
      "cell_type": "code",
      "execution_count": 38,
      "id": "f998d1bf",
      "metadata": {},
      "outputs": [
        {
          "name": "stdout",
          "output_type": "stream",
          "text": [
            "Existen 2 paises con indice constante:\n",
            " ['Antigua y Barbuda', 'Granada']\n"
          ]
        }
      ],
      "source": [
        "constantes = pivot_table.nunique(axis=1)\n",
        "constantes = constantes[constantes == 1]\n",
        "\n",
        "print(\"Existen\", len(constantes), \"paises con indice constante:\\n\", constantes.index.tolist())"
      ]
    },
    {
      "cell_type": "code",
      "execution_count": 39,
      "id": "728e3f35",
      "metadata": {},
      "outputs": [
        {
          "name": "stdout",
          "output_type": "stream",
          "text": [
            "los paises sin datos : []\n"
          ]
        }
      ],
      "source": [
        "nodatos = (pivot_table == 0)\n",
        "nodatos = nodatos.all(axis=1)\n",
        "nodatos = pivot_table[nodatos].index.tolist()\n",
        "\n",
        "print(\"los paises sin datos :\", nodatos)"
      ]
    }
  ],
  "metadata": {
    "colab": {
      "provenance": []
    },
    "kernelspec": {
      "display_name": "Python 3",
      "language": "python",
      "name": "python3"
    },
    "language_info": {
      "codemirror_mode": {
        "name": "ipython",
        "version": 3
      },
      "file_extension": ".py",
      "mimetype": "text/x-python",
      "name": "python",
      "nbconvert_exporter": "python",
      "pygments_lexer": "ipython3",
      "version": "3.13.2"
    }
  },
  "nbformat": 4,
  "nbformat_minor": 5
}
