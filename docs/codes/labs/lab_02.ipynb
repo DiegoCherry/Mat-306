{
  "cells": [
    {
      "cell_type": "markdown",
      "id": "dc7580e7",
      "metadata": {
        "id": "dc7580e7"
      },
      "source": [
        "<a href=\"https://colab.research.google.com/github/fralfaro/MAT306/blob/main/docs/labs/lab_02.ipynb\" target=\"_parent\"><img src=\"https://colab.research.google.com/assets/colab-badge.svg\" alt=\"Open In Colab\"/></a>\n",
        "\n",
        "\n",
        "\n",
        "# MAT306 - Laboratorio N°02\n",
        "\n",
        "**Objetivos del Laboratorio 2**\n",
        "\n",
        "* Reforzar el uso de la librería **NumPy** para el manejo y procesamiento eficiente de datos numéricos.\n",
        "* Aplicar operaciones vectorizadas y funciones matemáticas de NumPy en contextos reales.\n",
        "* Comprender la implementación de un modelo de **regresión lineal simple** utilizando arrays de NumPy.\n",
        "* Interpretar los resultados obtenidos a partir del modelo ajustado.\n"
      ]
    },
    {
      "cell_type": "markdown",
      "id": "3317cc63",
      "metadata": {
        "id": "3317cc63"
      },
      "source": [
        "\n",
        "## Problema 01 — Introducción a la regresión lineal simple\n",
        "\n",
        "El objetivo de este laboratorio es implementar y analizar un modelo de **regresión lineal simple**, utilizando operaciones vectorizadas con **NumPy**.\n",
        "\n",
        "### Definición general\n",
        "\n",
        "El modelo de **regresión lineal múltiple** se expresa como:\n",
        "\n",
        "$$\n",
        "\\boldsymbol{Y} = \\boldsymbol{X} \\boldsymbol{\\beta} + \\boldsymbol{\\epsilon}\n",
        "$$\n",
        "\n",
        "donde:\n",
        "\n",
        "* $\\boldsymbol{X} = (x_1, \\dots, x_n)^\\top$: variable explicativa (matriz de diseño).\n",
        "* $\\boldsymbol{Y} = (y_1, \\dots, y_n)^\\top$: variable respuesta.\n",
        "* $\\boldsymbol{\\epsilon} = (\\epsilon_1, \\dots, \\epsilon_n)^\\top$: término de error, asumido como ruido blanco: $\\epsilon \\sim \\mathcal{N}(0, \\sigma^2 I)$.\n",
        "* $\\boldsymbol{\\beta} = (\\beta_0, \\beta_1, \\dots, \\beta_p)^\\top$: coeficientes del modelo.\n",
        "\n",
        "En el caso particular de la **regresión lineal simple**, se modela una única variable explicativa $x$ y una respuesta $y$, mediante la relación:\n",
        "\n",
        "$$\n",
        "y_i = \\beta_0 + \\beta_1 x_i + \\epsilon_i\n",
        "$$\n",
        "\n",
        "El objetivo es encontrar los valores de $\\beta_0$ y $\\beta_1$ que ajusten una recta a los datos observados, minimizando la diferencia entre los valores reales $y_i$ y los valores predichos $\\hat{y}_i$.\n",
        "\n",
        "<div align=\"center\">\n",
        "<img src=\"https://upload.wikimedia.org/wikipedia/commons/3/3a/Linear_regression.svg\" width=\"500\"/>\n",
        "</div>\n",
        "\n",
        "\n",
        "### ¿Cuándo un modelo lineal no es adecuado?\n",
        "\n",
        "Existen situaciones en las que los modelos lineales no entregan buenos resultados, por ejemplo:\n",
        "\n",
        "* Cuando el rango de valores de $Y$ está restringido (como en variables binarias o de conteo).\n",
        "* Cuando la varianza de $Y$ no es constante y depende de su media (heterocedasticidad).\n",
        "\n"
      ]
    },
    {
      "cell_type": "markdown",
      "id": "df42e80b",
      "metadata": {
        "id": "df42e80b"
      },
      "source": [
        "\n",
        "### Estimación de parámetros: Método de mínimos cuadrados\n",
        "\n",
        "El **método de mínimos cuadrados** es una técnica de optimización que permite encontrar los parámetros que mejor ajustan un modelo a los datos, minimizando la suma de los errores al cuadrado. Formalmente, el problema consiste en resolver:\n",
        "\n",
        "$$\n",
        "(P) \\quad \\min \\sum_{i=1}^n e_i^2 = \\sum_{i=1}^n (y_i - f_i(x; \\beta))^2\n",
        "$$\n",
        "\n",
        "En el caso de la **regresión lineal simple**, se busca ajustar una función de la forma:\n",
        "\n",
        "$$\n",
        "f(x; \\beta) = \\beta_0 + \\beta_1 x\n",
        "$$\n",
        "\n",
        "Por lo tanto, el problema de optimización se convierte en:\n",
        "\n",
        "$$\n",
        "(P) \\quad \\min \\sum_{i=1}^n \\left( y_i - (\\beta_0 + \\beta_1 x_i) \\right)^2\n",
        "$$\n",
        "\n",
        "El objetivo es encontrar los coeficientes $\\beta = (\\beta_0, \\beta_1)$ que minimicen esta suma.\n",
        "\n",
        "La solución analítica del problema se obtiene a partir de derivadas parciales y está dada por:\n",
        "\n",
        "$$\n",
        "\\hat{\\beta}_1 = \\dfrac{\\sum (x_i - \\bar{x})(y_i - \\bar{y})}{\\sum (x_i - \\bar{x})^2}\n",
        "\\quad , \\quad\n",
        "\\hat{\\beta}_0 = \\bar{y} - \\hat{\\beta}_1 \\bar{x}\n",
        "$$\n",
        "\n",
        "La pendiente $\\hat{\\beta}_1$ también puede interpretarse como la correlación lineal escalada entre $x$ y $y$.\n",
        "\n"
      ]
    },
    {
      "cell_type": "markdown",
      "id": "4592fe89",
      "metadata": {
        "id": "4592fe89"
      },
      "source": [
        "\n",
        "\n",
        "\n",
        "### Selección de modelos — Coeficiente de determinación ($R^2$)\n",
        "\n",
        "El [coeficiente de determinación](https://en.wikipedia.org/wiki/Coefficient_of_determination), comúnmente conocido como **$R^2$**, es un estadístico utilizado para evaluar la calidad de ajuste de un modelo estadístico, especialmente en regresión lineal.\n",
        "\n",
        "Su principal propósito es medir qué tan bien el modelo logra explicar la variabilidad observada en la variable respuesta. Es decir, indica la **proporción de la variación total de $y$** que puede ser explicada por el modelo.\n",
        "\n",
        "El valor de $R^2$ está acotado entre 0 y 1:\n",
        "\n",
        "* Un valor cercano a **0** sugiere que el modelo **no explica bien los datos**.\n",
        "* Un valor cercano a **1** indica que el modelo **ajusta muy bien los datos** observados.\n",
        "\n",
        "\n",
        "\n",
        "### Fórmula\n",
        "\n",
        "$$\n",
        "R^2 = \\dfrac{SS_{\\text{reg}}}{SS_{\\text{tot}}} = 1 - \\dfrac{SS_{\\text{res}}}{SS_{\\text{tot}}}\n",
        "$$\n",
        "\n",
        "donde:\n",
        "\n",
        "* $SS_{\\text{reg}}$: **Suma de cuadrados explicada (ESS)**\n",
        "\n",
        "  $$\n",
        "  SS_{\\text{reg}} = \\sum_{i=1}^n (\\hat{y}_i - \\bar{y})^2\n",
        "  $$\n",
        "\n",
        "* $SS_{\\text{res}}$: **Suma de cuadrados residual (RSS)**\n",
        "\n",
        "  $$\n",
        "  SS_{\\text{res}} = \\sum_{i=1}^n (y_i - \\hat{y}_i)^2 = \\sum_{i=1}^n e_i^2\n",
        "  $$\n",
        "\n",
        "* $SS_{\\text{tot}}$: **Suma total de cuadrados (TSS)**\n",
        "\n",
        "  $$\n",
        "  SS_{\\text{tot}} = \\sum_{i=1}^n (y_i - \\bar{y})^2\n",
        "  $$\n",
        "\n",
        "Se cumple que:\n",
        "\n",
        "$$\n",
        "SS_{\\text{tot}} = SS_{\\text{reg}} + SS_{\\text{res}}\n",
        "$$\n",
        "\n",
        "\n",
        "\n",
        "### Interpretación\n",
        "\n",
        "El coeficiente $R^2$ está relacionado con la **fracción de varianza no explicada** (FVU). Cuanto menor sea el error residual (RSS), mayor será $R^2$, y mejor será el ajuste del modelo.\n",
        "\n",
        "\n",
        "\n",
        "<div align=\"center\">\n",
        "<img src=\"https://upload.wikimedia.org/wikipedia/commons/thumb/8/86/Coefficient_of_Determination.svg/600px-Coefficient_of_Determination.svg.png\" width=\"500\"/>\n",
        "</div>\n",
        "\n",
        "* Las áreas **azules** representan los residuos al cuadrado respecto a la **media** ($SS_{\\text{tot}}$).\n",
        "* Las áreas **rojas** representan los residuos al cuadrado respecto a la **regresión** ($SS_{\\text{res}}$).\n",
        "\n",
        "\n"
      ]
    },
    {
      "cell_type": "markdown",
      "id": "79e4cbda",
      "metadata": {
        "id": "79e4cbda"
      },
      "source": [
        "Claro, aquí tienes una versión mejorada del texto sobre el **error del modelo**, con redacción más clara, precisión conceptual, ortografía corregida y mejor organización visual:\n",
        "\n",
        "\n",
        "\n",
        "## Evaluación del error en un modelo\n",
        "\n",
        "### Definición\n",
        "\n",
        "El **error** de un modelo corresponde a la diferencia entre el valor real observado y el valor estimado por el modelo. Se define como:\n",
        "\n",
        "$$\n",
        "e_i = y_i - \\hat{y}_i\n",
        "$$\n",
        "\n",
        "donde $y_i$ es el valor real y $\\hat{y}_i$ el valor predicho para el dato $i$.\n",
        "\n",
        "<div align=\"center\">\n",
        "<img src=\"https://allmodelsarewrong.github.io/images/ols/ols-geom-obs3.svg\" width=\"500\"/>\n",
        "</div>\n",
        "\n",
        "\n",
        "\n",
        "### ¿Cómo se mide el error?\n",
        "\n",
        "Para evaluar qué tan bien se ajusta un modelo a los datos, se utilizan **métricas de error** o **funciones de pérdida**. Estas métricas cuantifican el grado de desviación entre las predicciones y los valores reales. A continuación se presentan las más comunes, divididas en dos categorías:\n",
        "\n",
        "\n",
        "\n",
        "### 1. Métricas absolutas\n",
        "\n",
        "Las métricas absolutas miden el error en la misma escala que los datos, sin realizar normalización. Son útiles cuando la escala del problema es conocida y relevante.\n",
        "\n",
        "* **Error absoluto medio (MAE)**\n",
        "\n",
        "$$\n",
        "\\text{MAE}(y, \\hat{y}) = \\dfrac{1}{n} \\sum_{t=1}^{n} \\left| y_t - \\hat{y}_t \\right|\n",
        "$$\n",
        "\n",
        "* **Error cuadrático medio (MSE)**\n",
        "\n",
        "$$\n",
        "\\text{MSE}(y, \\hat{y}) = \\dfrac{1}{n} \\sum_{t=1}^{n} \\left( y_t - \\hat{y}_t \\right)^2\n",
        "$$\n",
        "\n",
        "Estas métricas penalizan los errores de distinta forma: el MSE penaliza más los errores grandes, mientras que el MAE es más robusto ante valores atípicos.\n",
        "\n",
        "\n",
        "\n",
        "### 2. Métricas porcentuales\n",
        "\n",
        "Las métricas porcentuales escalan el error en relación al valor real, permitiendo comparar modelos o datos en distintas unidades o magnitudes. Aunque están acotadas en teoría entre 0 y 1, en la práctica pueden superar el 1 (especialmente cuando los valores reales son pequeños).\n",
        "\n",
        "* **Error porcentual absoluto medio (MAPE)**\n",
        "\n",
        "$$\n",
        "\\text{MAPE}(y, \\hat{y}) = \\dfrac{1}{n} \\sum_{t=1}^{n} \\left| \\frac{y_t - \\hat{y}_t}{y_t} \\right|\n",
        "$$\n",
        "\n",
        "* **Error porcentual absoluto medio simétrico (sMAPE)**\n",
        "\n",
        "$$\n",
        "\\text{sMAPE}(y, \\hat{y}) = \\dfrac{1}{n} \\sum_{t=1}^{n} \\frac{\\left| y_t - \\hat{y}_t \\right|}{\\left( \\left| y_t \\right| + \\left| \\hat{y}_t \\right| \\right)/2}\n",
        "$$\n",
        "\n",
        "> Nota: El sMAPE evita algunos problemas del MAPE cuando los valores reales se acercan a cero.\n",
        "\n",
        "\n",
        "\n"
      ]
    },
    {
      "cell_type": "markdown",
      "id": "50c111fd",
      "metadata": {
        "id": "50c111fd"
      },
      "source": [
        "\n",
        "\n",
        "\n",
        "## Problema a resolver\n",
        "\n",
        "En este ejercicio trabajaremos con un conjunto de datos que relaciona los **años de experiencia laboral** con el **salario anual** de distintas personas.\n",
        "\n",
        "El objetivo es construir un modelo de **regresión lineal simple** que permita predecir el salario en función de los años de experiencia, y utilizar **NumPy** para realizar todas las operaciones necesarias.\n",
        "\n",
        "El conjunto de datos contiene dos columnas:\n",
        "\n",
        "* `YearsExperience`: cantidad de años de experiencia laboral (variable explicativa o independiente).\n",
        "* `Salary`: salario anual (variable de respuesta o dependiente).\n",
        "\n",
        "A continuación, se presenta explícitamente el conjunto de datos.\n"
      ]
    },
    {
      "cell_type": "code",
      "execution_count": 1,
      "id": "f2a0a502",
      "metadata": {
        "id": "f2a0a502"
      },
      "outputs": [],
      "source": [
        "import numpy as np\n",
        "import matplotlib.pyplot as plt\n",
        "\n",
        "YearsExperience = np.array([\n",
        " 1.1,1.3,1.5,2.0,2.2,\n",
        " 2.9,3.0,3.2,3.2,3.7,\n",
        " 3.9,4.0,4.0,4.1,4.5,\n",
        " 4.9,5.1,5.3,5.9,6.0,\n",
        " 6.8,7.1,7.9,8.2,8.7,\n",
        " 9.0,9.5,9.6,10.3,10.5\n",
        " ])\n",
        "\n",
        "Salary =  np.array([\n",
        " 39343.0,46205.0,37731.0,43525.0,39891.0,\n",
        " 56642.0,60150.0,54445.0,64445.0,57189.0,\n",
        " 63218.0,55794.0,56957.0,57081.0,61111.0,\n",
        " 67938.0,66029.0,83088.0,81363.0,93940.0,\n",
        " 91738.0,98273.0,101302.0,113812.0,109431.0,\n",
        " 105582.0,116969.0,112635.0,122391.0,121872.0\n",
        "])\n"
      ]
    },
    {
      "cell_type": "markdown",
      "id": "beae304d",
      "metadata": {
        "id": "beae304d"
      },
      "source": [
        "\n",
        "Nuestro objetivo es encontrar un modelo de **regresión lineal simple** que relacione el salario con los años de experiencia. El modelo a ajustar tiene la siguiente forma:\n",
        "\n",
        "$$\n",
        "Salary_i = \\beta_0 + \\beta_1 \\cdot YearsExperience_i + \\epsilon_i\n",
        "$$\n",
        "\n",
        "donde:\n",
        "\n",
        "* $Salary_i$ es el salario observado para la persona $i$,\n",
        "* $YearsExperience_i$ representa los años de experiencia,\n",
        "* $\\beta_0$ es el intercepto del modelo,\n",
        "* $\\beta_1$ es la pendiente o coeficiente de regresión, y\n",
        "* $\\epsilon_i$ es el error aleatorio asociado a la observación $i$.\n",
        "\n",
        "A continuación, deberás resolver las siguientes preguntas para construir, ajustar y evaluar el modelo utilizando **NumPy**.\n"
      ]
    },
    {
      "cell_type": "markdown",
      "id": "383a90c2",
      "metadata": {
        "id": "383a90c2"
      },
      "source": [
        "\n",
        "**1. Estimación de coeficientes**\n",
        "\n",
        "Define una función llamada `estimate_coef(x, y)` que reciba dos arreglos de NumPy:\n",
        "\n",
        "* `x`: variable explicativa (años de experiencia),\n",
        "* `y`: variable de respuesta (salario),\n",
        "\n",
        "y retorne una tupla con los coeficientes estimados de la regresión lineal simple $(b_0, b_1)$, donde:\n",
        "\n",
        "$$\n",
        "b_1 = \\frac{\\sum (x_i - \\bar{x})(y_i - \\bar{y})}{\\sum (x_i - \\bar{x})^2}, \\quad\n",
        "b_0 = \\bar{y} - b_1 \\cdot \\bar{x}\n",
        "$$\n"
      ]
    },
    {
      "cell_type": "code",
      "execution_count": 2,
      "id": "5502b4c2",
      "metadata": {
        "id": "5502b4c2"
      },
      "outputs": [],
      "source": [
        "def estimate_coef(x, y):\n",
        "    \n",
        "    x_prom = np.mean(x)\n",
        "    y_prom = np.mean(y)\n",
        "\n",
        "    beta_1 = (np.sum((x-x_prom)*(y-y_prom)))/np.sum((x-x_prom)**2)\n",
        "    beta_0 = y_prom - beta_1*x_prom\n",
        "\n",
        "    return (beta_0, beta_1)"
      ]
    },
    {
      "cell_type": "code",
      "execution_count": 3,
      "id": "99b1b867",
      "metadata": {
        "id": "99b1b867"
      },
      "outputs": [
        {
          "name": "stdout",
          "output_type": "stream",
          "text": [
            "Coeficientes estimados:\n",
            "b_0 = 25792.20019866869 \n",
            "b_1 = 9449.962321455077\n"
          ]
        }
      ],
      "source": [
        "# imprimir valores del beta estimado\n",
        "beta_estimado = estimate_coef(YearsExperience, Salary)\n",
        "print(f\"Coeficientes estimados:\\nb_0 = {beta_estimado[0]} \\nb_1 = {beta_estimado[1]}\")"
      ]
    },
    {
      "cell_type": "markdown",
      "id": "e2bbdd6d",
      "metadata": {
        "id": "e2bbdd6d"
      },
      "source": [
        "\n",
        "\n",
        "**2. Visualización del modelo ajustado**\n",
        "\n",
        "Utiliza la función `plot_regression_line(x, y, yhat)` para graficar los datos observados junto con la recta de regresión obtenida.\n",
        "\n",
        "* `x`: valores de la variable explicativa (años de experiencia),\n",
        "* `y`: valores observados de la variable de respuesta (salario),\n",
        "* `yhat`: valores predichos por el modelo lineal, calculados como $\\hat{y} = b_0 + b_1 x$\n",
        "\n",
        "La gráfica debe incluir:\n",
        "\n",
        "* Un diagrama de dispersión con los puntos observados $(x_i, y_i)$,\n",
        "* La recta de regresión que representa el modelo ajustado.\n",
        "\n"
      ]
    },
    {
      "cell_type": "code",
      "execution_count": 4,
      "id": "1d204109",
      "metadata": {
        "id": "1d204109"
      },
      "outputs": [],
      "source": [
        "def plot_regression_line(x, y, yhat):\n",
        "    \n",
        "    plt.figure(figsize=(10,4))\n",
        "    # plotting the actual points as scatter plot\n",
        "    plt.scatter(x, y, color = \"blue\",marker = \"o\", s = 30, label=\"Datos reales\")\n",
        "\n",
        "\n",
        "    # plotting the regression line\n",
        "    plt.plot(x, yhat, color = \"red\", label=\"Prediccion\")\n",
        "\n",
        "    # putting labels\n",
        "    plt.xlabel('Años de experiencia')\n",
        "    plt.ylabel('Salario')\n",
        "    plt.title(\"Grafico Años de experiencia vs Salario\")\n",
        "\n",
        "    # function to show plot\n",
        "    plt.legend()\n",
        "    plt.show()"
      ]
    },
    {
      "cell_type": "code",
      "execution_count": 5,
      "id": "092fd446",
      "metadata": {
        "id": "092fd446"
      },
      "outputs": [
        {
          "data": {
            "image/png": "[encoded data removed]",
            "text/plain": [
              "<Figure size 1000x400 with 1 Axes>"
            ]
          },
          "metadata": {},
          "output_type": "display_data"
        }
      ],
      "source": [
        "# mostrar resultados del ajuste lineal\n",
        "prediccion = beta_estimado[0] + beta_estimado[1]*YearsExperience\n",
        "plot_regression_line(YearsExperience, Salary, prediccion)"
      ]
    },
    {
      "cell_type": "markdown",
      "id": "cd5b168c",
      "metadata": {
        "id": "cd5b168c"
      },
      "source": [
        "\n",
        "\n",
        "**3. Evaluación cuantitativa del modelo**\n",
        "\n",
        "Utiliza los valores reales (`y`) y los valores predichos por el modelo (`yhat`) para calcular diversas métricas que cuantifican el error y la calidad del ajuste.\n",
        "\n",
        "Debes definir e implementar las siguientes funciones:\n",
        "\n",
        "* `mae(y, yhat)`: **Error absoluto medio**\n",
        "\n",
        "  $$\n",
        "  \\text{MAE} = \\frac{1}{n} \\sum_{i=1}^n |y_i - \\hat{y}_i|\n",
        "  $$\n",
        "\n",
        "* `rmse(y, yhat)`: **Raíz del error cuadrático medio**\n",
        "\n",
        "  $$\n",
        "  \\text{RMSE} = \\sqrt{ \\frac{1}{n} \\sum_{i=1}^n (y_i - \\hat{y}_i)^2 }\n",
        "  $$\n",
        "\n",
        "* `mape(y, yhat)`: **Error porcentual absoluto medio**\n",
        "\n",
        "  $$\n",
        "  \\text{MAPE} = \\frac{1}{n} \\sum_{i=1}^n \\left| \\frac{y_i - \\hat{y}_i}{y_i} \\right|\n",
        "  $$\n",
        "\n",
        "* `smape(y, yhat)`: **Error porcentual absoluto medio simétrico**\n",
        "\n",
        "  $$\n",
        "  \\text{sMAPE} = \\frac{1}{n} \\sum_{i=1}^n \\frac{ |y_i - \\hat{y}_i| }{ (|y_i| + |\\hat{y}_i|)/2 }\n",
        "  $$\n",
        "\n",
        "* `rsquared(y, yhat)`: **Coeficiente de determinación $R^2$**\n",
        "\n",
        "  $$\n",
        "  R^2 = 1 - \\frac{ \\sum_{i=1}^n (y_i - \\hat{y}_i)^2 }{ \\sum_{i=1}^n (y_i - \\bar{y})^2 }\n",
        "  $$\n"
      ]
    },
    {
      "cell_type": "code",
      "execution_count": 6,
      "id": "8a53b04f",
      "metadata": {
        "id": "8a53b04f"
      },
      "outputs": [],
      "source": [
        "def mae(y, yhat) -> float:\n",
        "    \n",
        "    metrica = np.mean(np.abs(y-yhat))\n",
        "\n",
        "    return metrica"
      ]
    },
    {
      "cell_type": "code",
      "execution_count": 7,
      "id": "9f024eaa",
      "metadata": {
        "id": "9f024eaa"
      },
      "outputs": [],
      "source": [
        "def rmse(y, yhat) -> float:\n",
        "    \n",
        "    metrica = np.sqrt(np.mean((y-yhat)**2))\n",
        "    \n",
        "    return metrica"
      ]
    },
    {
      "cell_type": "code",
      "execution_count": 8,
      "id": "fc6a6cf5",
      "metadata": {
        "id": "fc6a6cf5"
      },
      "outputs": [],
      "source": [
        "def mape(y, yhat) -> float:\n",
        "\n",
        "    metrica = np.mean(np.abs((y-yhat)/y))\n",
        "\n",
        "    return metrica"
      ]
    },
    {
      "cell_type": "code",
      "execution_count": 9,
      "id": "675dd280",
      "metadata": {
        "id": "675dd280"
      },
      "outputs": [],
      "source": [
        "def smape(y, yhat) -> float:\n",
        "    \n",
        "    metrica = 2*np.mean(np.abs((y-yhat)/(np.abs(y)+np.abs(yhat))))\n",
        "\n",
        "    return metrica"
      ]
    },
    {
      "cell_type": "code",
      "execution_count": 13,
      "id": "319fa891",
      "metadata": {
        "id": "319fa891"
      },
      "outputs": [],
      "source": [
        "def rsquared(y, yhat) -> float:\n",
        "\n",
        "    metrica = 1-(np.sum(((y-yhat)**2))/np.sum(((y-np.mean(y))**2)))\n",
        "\n",
        "    return metrica"
      ]
    },
    {
      "cell_type": "code",
      "execution_count": 15,
      "id": "da2b3700",
      "metadata": {
        "id": "da2b3700"
      },
      "outputs": [],
      "source": [
        "# calcular resultados\n",
        "calcular_mae = round(mae(Salary,prediccion), 4)\n",
        "calcular_rmse = round(rmse(Salary,prediccion), 4)\n",
        "calcular_mape = round(mape(Salary,prediccion), 4)\n",
        "calcular_smape = round(smape(Salary,prediccion), 4)\n",
        "calcular_rsquared = round(rsquared(Salary,prediccion), 4)"
      ]
    },
    {
      "cell_type": "code",
      "execution_count": 16,
      "id": "3f798b74",
      "metadata": {
        "id": "3f798b74"
      },
      "outputs": [
        {
          "name": "stdout",
          "output_type": "stream",
          "text": [
            "mae:   4644.2013\n",
            "rmse:  5592.0436\n",
            "mape:  0.0705\n",
            "smape: 0.0704\n",
            "r^2:   0.957\n"
          ]
        }
      ],
      "source": [
        "# imprimir resultados\n",
        "print(f\"mae:   {calcular_mae}\")\n",
        "print(f\"rmse:  {calcular_rmse}\")\n",
        "print(f\"mape:  {calcular_mape}\")\n",
        "print(f\"smape: {calcular_smape}\")\n",
        "print(f\"r^2:   {calcular_rsquared}\")"
      ]
    },
    {
      "cell_type": "markdown",
      "id": "e98b553d",
      "metadata": {
        "id": "e98b553d"
      },
      "source": [
        "\n",
        "**4. Análisis de resultados y conclusiones**\n",
        "\n",
        "Con base en las métricas obtenidas, realiza una reflexión final sobre el desempeño del modelo.\n",
        "Evalúa si la **regresión lineal simple** proporciona un buen ajuste para los datos observados. Para ello, considera lo siguiente:\n",
        "\n",
        "* ¿El valor de $R^2$ indica una alta capacidad explicativa del modelo?\n",
        "* ¿Los errores (MAE, RMSE, MAPE, sMAPE) son bajos en relación al rango de los salarios?\n",
        "* ¿Hay patrones evidentes en los errores que sugieran que un modelo lineal no es adecuado?\n",
        "\n",
        "Redacta tus conclusiones de forma clara, justificando si el modelo de regresión lineal es apropiado o si podrían considerarse otras alternativas.\n",
        "\n",
        "\n",
        "El modelo de regresión lineal simple presenta un coeficiente de determinación r^2 = 0.957, lo que indica que el 95.7% de la variabilidad en los salarios se explica por los años de experiencia, reflejando una capacidad explicativa muy alta. (y una relación lineal clara entre ambas variables)\n",
        "\n",
        "En cuanto a los errores, se obtuvo un MAE de aproximadamente 4,644, un RMSE cercano a 5,592, y métricas porcentuales como el MAPE y el SMAPE en torno al 7%, valores que resultan bajos en relación al rango de los salarios, lo que implica que el modelo logra predecir con bastante precisión el salario a partir de la experiencia laboral.\n",
        "\n",
        "Además, al analizar los residuos, no se observan patrones que sugieran problemas, por lo que no existen indicios de que un modelo lineal sea inadecuado para este conjunto de datos. Es decir, el modelo se ajusta de manera muy satisfactoria, con un buen nivel predictivo y una interpretación simple y coherente."
      ]
    },
    {
      "cell_type": "markdown",
      "id": "ac64f6d0",
      "metadata": {
        "id": "ac64f6d0"
      },
      "source": [
        "**Respuesta**:\n",
        "\n"
      ]
    }
  ],
  "metadata": {
    "colab": {
      "provenance": []
    },
    "kernelspec": {
      "display_name": "Python 3",
      "language": "python",
      "name": "python3"
    },
    "language_info": {
      "codemirror_mode": {
        "name": "ipython",
        "version": 3
      },
      "file_extension": ".py",
      "mimetype": "text/x-python",
      "name": "python",
      "nbconvert_exporter": "python",
      "pygments_lexer": "ipython3",
      "version": "3.13.2"
    }
  },
  "nbformat": 4,
  "nbformat_minor": 5
}
